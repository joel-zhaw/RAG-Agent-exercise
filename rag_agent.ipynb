{
 "cells": [
  {
   "cell_type": "code",
   "execution_count": 31,
   "id": "2e338c3f",
   "metadata": {},
   "outputs": [],
   "source": [
    "import os\n",
    "from dotenv import load_dotenv\n",
    "from PyPDF2 import PdfReader   # For reading PDF files\n",
    "from langchain_text_splitters import RecursiveCharacterTextSplitter\n",
    "from langchain_core.vectorstores import InMemoryVectorStore\n",
    "from langchain_google_genai import GoogleGenerativeAIEmbeddings\n",
    "from langchain_core.tools import create_retriever_tool\n",
    "from langgraph.graph import MessagesState\n",
    "from langchain.chat_models import init_chat_model\n",
    "from typing import Literal\n",
    "from pydantic import BaseModel, Field\n",
    "from langchain_core.messages import convert_to_messages\n",
    "from langgraph.graph import StateGraph, START, END\n",
    "from langgraph.prebuilt import ToolNode, tools_condition\n"
   ]
  },
  {
   "cell_type": "code",
   "execution_count": 3,
   "id": "82a4d079",
   "metadata": {},
   "outputs": [],
   "source": [
    "load_dotenv()\n",
    "key = os.getenv(\"GOOGLE_API_KEY\")"
   ]
  },
  {
   "cell_type": "code",
   "execution_count": 4,
   "id": "f9602435",
   "metadata": {},
   "outputs": [],
   "source": [
    "pdf_path = \"data/nihms-1901028.pdf\""
   ]
  },
  {
   "cell_type": "code",
   "execution_count": 7,
   "id": "19bc253c",
   "metadata": {},
   "outputs": [],
   "source": [
    "reader = PdfReader(pdf_path)"
   ]
  },
  {
   "cell_type": "code",
   "execution_count": 8,
   "id": "61982a7f",
   "metadata": {},
   "outputs": [
    {
     "data": {
      "text/plain": [
       "18"
      ]
     },
     "execution_count": 8,
     "metadata": {},
     "output_type": "execute_result"
    }
   ],
   "source": [
    "len(reader.pages)"
   ]
  },
  {
   "cell_type": "code",
   "execution_count": 9,
   "id": "524972d5",
   "metadata": {},
   "outputs": [
    {
     "data": {
      "text/plain": [
       "2966"
      ]
     },
     "execution_count": 9,
     "metadata": {},
     "output_type": "execute_result"
    }
   ],
   "source": [
    "len(reader.pages[0].extract_text())"
   ]
  },
  {
   "cell_type": "code",
   "execution_count": 10,
   "id": "ec448b21",
   "metadata": {},
   "outputs": [
    {
     "data": {
      "text/plain": [
       "'High and normal protein diets improve body composition and \\nglucose control in adults with type 2 diabetes: A randomized \\ntrial\\nJulianne G. Clina1, R. Drew Sayer1,3, Zhaoxing Pan2, Caroline W. Cohen3, Michael T. \\nMcDermott4, Victoria A. Catenacci4, Holly R. Wyatt1,5, James O. Hill1\\n1Department of Nutrition Sciences, University of Alabama at Birmingham\\n2Department of Pediatrics, University of Colorado Anschutz Medical Campus\\n3Department of Family and Community Medicine, University of Alabama at Birmingham\\n4Division of Endocrinology, Metabolism and Diabetes, University of Colorado School of Medicine, \\nAurora, Colorado\\n5Anschutz Health and Wellness Center, University of Colorado Anschutz Medical Campus\\nAbstract\\nObjective:\\xa0 Weight loss of ≥10% improves glucose control and may remit type 2 diabetes \\n(T2D). High protein (HP) diets are commonly used for weight loss, but whether protein \\nsources, especially red meat, impact weight loss-induced T2D management is unknown. This \\ntrial compared a HP diet including red meat and normal protein (NP) without red meat for weight \\nloss, body composition changes, and glucose control in individuals with T2D.\\nMethods:\\xa0 106 adults (80 female) with T2D consumed a HP (40% protein) diet with ≥4 weekly \\nservings of lean beef or a NP (21% protein) diet excluding red meat during a 52-week weight \\nloss intervention. Body weight, body composition, and cardiometabolic parameters were measured \\nbefore and after intervention.\\nResults:\\xa0 Weight loss was not different between HP (−10.2±1.6 kg) and NP (−12.7±4.8 kg, \\np=0.336). Both groups reduced fat mass and increased fat free mass percent. Hemoglobin A1c, \\nglucose, insulin, insulin resistance, blood pressure, and triglycerides improved with no differences \\nbetween groups.\\nConclusions:\\xa0 The lack of observed effects of dietary protein and red meat consumption on \\nweight loss and improved cardiometabolic health suggest that achieved weight loss – rather than \\ndiet composition – should be the principal target of dietary interventions for T2D management.\\nContact Info:  R. Drew Sayer, Community Health Services Building (CH20) 307B, 930 20th St S, Birmingham, AL 35294, \\nsayerd@uab.edu.\\nAuthor Contribution:  JOH, HJW, and RDS conceived the research project; JGC and CWC conducted the research; ZP performed the \\nstatistical analyses; JGC drafted the manuscript and RDS, JOH, HJW, RDS, CWC, MTM, V AC, and ZP provided critical feedback and \\nedits to the manuscript. All authors take responsibility for the final content of the manuscript.\\nClinical Trial Registration:  National Clinical Trial NCT03832933\\nDisclosure:\\nAll other authors declare no conflicts of interest.\\nHHS Public Access\\nAuthor manuscript\\nObesity (Silver Spring) . Author manuscript; available in PMC 2024 August 01.\\nPublished in final edited form as:\\nObesity (Silver Spring) . 2023 August ; 31(8): 2021–2030. doi:10.1002/oby.23815.\\nAuthor Manuscript Author Manuscript Author Manuscript Author ManuscriptKeywords\\nobesity; weight loss; body composition; type 2 diabetes\\nIntroduction\\nType 2 diabetes (T2D) affects over 30 million adults in America and presents numerous \\npublic health challenges [ 1]. T2D is a major risk factor for cardiovascular disease [ 2], kidney \\ndisease [ 3, 4], amputation [ 5–7], certain cancers [ 8], and blindness [ 9, 10], which results in \\na major cost burden to the healthcare system [ 1]. The primary risk factor for T2D is obesity, \\nwith the majority of those with T2D having overweight or obesity [ 11, 12]. Obesity also \\nincreases the risk of several other co-morbid conditions including heart disease and stroke \\n[11, 13, 14]. It has been demonstrated that both T2D and obesity can be treated with lifestyle \\nmodification. For example, in DiRECT (Diabetes Remission Clinical Trial) weight loss of \\n10 to 15 kg resulted in the remission of T2D in a majority of individuals who had been \\nwho had been diagnosed with T2D within the past 6 years. Nearly 9 in 10 of individuals \\nachieving more than 15 kg of weight loss remitted their T2D [ 15]. While it is clear that \\nweight loss is associated with improvements in T2D, the role of diet composition in the \\nreversal of T2D presents a gap in knowledge.\\nHigher protein diets are an attractive target for lifestyle-based interventions for the treatment \\nof T2D. High protein diets, especially when combined with exercise, produce greater weight \\nloss and prevent losses of fat free mass (FFM) compared to lower protein diets [ 16–18]. In \\npremenopausal women with obesity without diabetes, a high protein diet improved insulin \\nsensitivity more than a high carbohydrate diet even though achieved weight loss was not \\ndifferent between diets (high protein: 9.8 ± 1.4%, high carbohydrate: 9.3 ± 1.6%, p = \\n0.9323) [ 19]. Conversely, a study in post-menopausal women found that consuming a high \\nprotein diet during weight loss eliminated the beneficial effects of 10% weight loss on \\ninsulin action and sensitivity [ 20]. These conflicting results suggest that additional studies \\non the amount and sources of dietary protein during weight loss are needed to determine its \\ninfluence on weight loss induced improvements in T2D.\\nRed meats –and beef in particular –are important contributors to dietary protein intakes \\nin the United States [ 21]. However, some observational studies have associated red \\nmeat consumption with higher risk of T2D, leading to recommendations to limit its \\nconsumption [ 22, 23]. Recommendations to limit red meat consumption are based mostly \\non observational data, while findings from randomized clinical trials usually find a neutral \\neffect of red meat consumption on health outcomes [ 24–28]. A recent meta-analysis found \\nno differences in most glycemic and insulinemic risk factors associated with T2D when \\ncomparing reduced or no red meat diets to diets that contained red meat [ 29]. However, \\nthe impact on red meat consumption during weight loss among people with T2D remains \\nambiguous. Thus, it would be important to know whether beef can be part of a HP dietary \\nplan to reverse T2D by contributing to weight and fat loss and improving weight loss \\nmaintenance.Clina et al. Page 2\\nObesity (Silver Spring) . Author manuscript; available in PMC 2024 August 01.\\nAuthor Manuscript Author Manuscript Author Manuscript Author ManuscriptThe purpose of this randomized clinical trial was to compare a high protein diet (HP) versus \\na normal protein diet (NP) for weight loss, body composition changes, and indicators of type \\n2 diabetes status during a 52-week behavioral weight loss intervention. Both intervention \\ndiets were energy-restricted, and the HP diet included recommendations to include lean \\nbeef in the diet whereas the NP was instructed to refrain from eating any red meats for the \\nduration of the stud. The hypotheses were the HP diet would lead to greater weight loss, \\npreferential loss of fat mass compared to fat free mass, and greater improvements glucose \\ncontrol and cardiometabolic health.\\nMethods\\nParticipants\\nOne hundred and six individuals (80 female) began the intervention and were recruited \\nfrom the Denver, CO (n=39) and Birmingham, AL (n=67) metropolitan areas using letters, \\ninternet advertisements, and news advertisements to participate in the trial. A diagram \\ndepicting participant flow is presented in Figure 1. The study was conducted in three \\ncohorts, with approximately 35 participants in each cohort. Cohort 1 was from the Denver, \\nCO area and began the intervention in January 2020. Cohorts 2 and 3 were from the \\nBirmingham, AL area and began in February 2020 and April 2021, respectively. Participants \\nwere required to be at least 18 years old, BMI ≥27 kg/m2, T2D diagnosis within the past 6 \\nyears (documented physician diagnosis, fasting glucose ≥126 mg/dl, or HbA1c ≥6.5%), be \\nweight stable (±3 kg in the past 3 months), and be stable on all medications for the past 3 \\nmonths. Regarding eligibility criteria for T2D diagnosis, participants were enrolled who had \\na recent diagnosis as described above without meeting the threshold for fasting glucose or \\nHbA1c if that participant was on medication to manage their T2D, which would lower these \\nvalues. Exclusion criteria were: HbA1c ≥ 12%, current eating disorder (anorexia or bulimia), \\ndependence on illicit drugs or alcohol, untreated hypothyroidism, currently using insulin or \\nother drugs known to cause weight loss or gain (including GLP-1 of SGLT-2 medications, \\nsteroids, tricyclic antidepressants, chemotherapy, antipsychotics, prescribed or OTC weight \\nloss agent), following a vegetarian or vegan diet, any illness or injury that would make it \\nunsafe to follow a diet and/or exercise up to 70 minutes at a moderate intensity regularly, \\nand women who were pregnant, lactating, trying to become pregnant, or who had been \\npregnant or lactating in the last six months. Criteria for diabetes diagnoses were confirmed \\nthrough medical records or doctor reports, blood biomarkers were confirmed via a blood \\ntest at the screening visit, and all other criteria were confirmed by self-report. The study \\nprotocol was reviewed and approved the Institutional Review Boards at the University of \\nAlabama at Birmingham and University of Colorado Anschutz Medical Campus. The study \\nwas registered on clinicaltrials.gov  as NCT03832933 .\\nExperimental Design\\nAll participants followed the State of Slim (SOS) weight management program for the first \\n16 weeks of the program, which consisted of weekly group classes led by a trained coach. \\nParticipants received copies of the SOS book, copies of the course materials, and access \\nto the online community. After the first 16 weeks, participants participated in the SOS \\nNext Steps program which consists of 18 bi-weekly group classes for the remainder of the Clina et al. Page 3\\nObesity (Silver Spring) . Author manuscript; available in PMC 2024 August 01.\\nAuthor Manuscript Author Manuscript Author Manuscript Author Manuscriptintervention. Participants were randomly assigned to one of two diet groups: the high protein \\ngroup (HP) with instructions to consume ≥4 weekly servings of lean beef as the only source \\nof red meat or a normal protein group (NP) with instructions to not eat red meat for the \\nduration of the study and followed a modified SOS diet that reduced protein intake.\\nDiet Intervention\\nThe SOS plan is broken up into three distinct phases, each of which having food lists for \\nparticipants to choose from as well as defined portion sizes for each food. Typically, the \\nSOS plan is a high-protein, low fat diet plan that emphasizes non starchy and whole-grain \\ncarbohydrates. The SOS plan also has five diet rules that are to be followed throughout \\neach phase: (1) Eat five to six times per day. (2) Eat breakfast within 1 hour of waking. \\n(3) Do not count calories; instead, measure portions. (4) Have the right protein mix at each \\nmeal (one carbohydrate and one protein at each meal). (5) Eat a healthy fat twice a day. \\nFood lists for the HP and NP groups were similar, with the exception of the HP group \\nbeing asked to consume lean beef ≥4 times per week and the portion sizes for the protein \\nbeing reduced for the NP group. Approximate carbohydrate and protein compositions were \\n32% and 40% of total energy for the HP diet, respectively and 53% and 21% for the NP \\ndiet, respectively. Recommended fat intakes were similar for HP (28% of total energy) \\nand NP (26%). Food lists for each phase given to participants with adjusted portion sizes \\nare presented in supplemental tables 1, 2, and 3. In addition, participants worked up to \\nexercising up to 70 minutes per day, 6 days per week as a part of the program.\\nSelf-reported energy intake and macronutrient distribution were not tracked during the study \\nbecause a principal component of the SOS program is to focus on portion sizes as opposed \\nto counting calories (Diet Rule #3). Participants did complete food logs throughout the \\nintervention, however these were used as a self-monitoring tool to enhance weight loss [ 30], \\nand not intended to measure energy intake or macronutrient distribution. Per the diet rules, \\na detailed food log designed to capture these data would be inconsistent with the program \\ngoals and structure. Further, self-reported measured of food intake are unreliable, and their \\nsuitability for clinical research has been questioned [ 31].\\nParticipants were instructed that clinical decision making as regards T2D management was \\nto be made with their primary care provider, but participants were asked to report any \\nmedication changes to research staff as soon as feasible. Study staff also queried participants \\non any medication changes on a monthly basis throughout the study period.\\nProtocol Modifications due to COVID-19\\nThe original plan for this intervention was for SOS classes to be held in-person. The onset \\nof lockdown orders in the spring of 2020 due to the COVID-19 pandemic required that \\nclasses be moved to an online platform (Zoom). The online intervention format was used \\nfor the remainder of the trial. The group classes were switched to the online format for \\ncohort 1 (Colorado) at week 7 of the intervention and at week 4 for cohort 2 (Alabama). The \\nintervention for cohort 3 (Alabama) was conducted entirely online. Weekly self-weighing \\nwas completed at home with pictures of scale weight sent to the health coaches in lieu \\nof weighing in-person before each class. Additionally, the Week 16 study visits became Clina et al. Page 4\\nObesity (Silver Spring) . Author manuscript; available in PMC 2024 August 01.\\nAuthor Manuscript Author Manuscript Author Manuscript Author Manuscriptat-home study visits for cohorts 1 and 2 with limited data collection due to university-wide \\nrestrictions on in-person clinical research at the University of Colorado Anschutz Medical \\nCampus and the University of Alabama at Birmingham. Participants were sent a link to \\na video call with research staff, who conducted the visit. For this manuscript, baseline \\nand week 52 data were used to assess study outcomes due to the limited data collection \\ntechniques used during the week 16 visits.\\nAnthropometric Measurements\\nBody weight was measured at baseline and week 52 using a digital platform scale \\n(Colorado: Tanita BWB-800 Digital scale, Tanita Cooperation of America, Inc., Arlington \\nHeights, Illinois; Alabama: DETECTO BRW1000, DETECTO, Webb City, MO) in a fasted \\nstate in clinic with participants wearing light clothing after voiding. Height was measured \\nusing a stadiometer in clinic at the screening visit. Body Mass Index (BMI, kg/m2) was \\ncalculated using these measurements. Body composition (fat and lean mass) was measured \\nusing dual x ‐ray absorptiometry at baseline and week 52 (Colorado: Horizon W, APEX \\nsoftware version 5.6.05 Hologic, Inc., Marlborough, MA, USA; Alabama GE Lunar Prodigy \\nPrimo, enCORE software version 15.10.046, GE Healthcare, Chicago, IL, USA). Waist \\ncircumference (WC) was measured at the border of the iliac crest in duplicate in accordance \\nwith the National Institutes of Health recommendations [ 32], measured at baseline and week \\n52.\\nCardiometabolic Health\\nBlood samples were obtained at baseline and week 52 from an antecubital vein by a \\ntrained phlebotomist. Samples were processed and analyzed for glucose, total cholesterol, \\nlow‐density lipoprotein cholesterol (LDL; calculated), high ‐density lipoprotein cholesterol \\n(HDL), triglycerides, HbA1c, and blood urea nitrogen (BUN). Blood samples were \\nprocessed at the University of Alabama Outreach Lab for Alabama samples and at \\nUniversity of Colorado Hospital Clinical Lab for screening and at the Adult CTRC Core lab \\nfor baseline and week 52 visits for Colorado samples. Blood pressure was measured at each \\nin-person study visit using at the left upper arm using an automatic sphygmomanometer \\n(Colorado: Datascope Trio, (Serial# MC07547-A5) Digital Patient Monitor; Alabama, \\nOmron 3-Series Upper Arm Blood Pressure Monitor, OMRON Healthcare Inc., Kyoto, \\nJapan). Blood pressure was measured after the participant rested quietly in a seated position \\nfor ≥5 min with participants’ legs uncrossed and back and arms supported. The measurement \\nwas taken two times and if the reading differed by more than 5 mmHg, a third measurement \\nwas obtained.\\nStatistical Analyses\\nAll study data were collected and managed using REDCap electronic data capture tools \\nhosted at the University of Alabama at Birmingham and University of Colorado Denver [ 33, \\n34]. REDCap is a secure, web-based software platform designed to support data capture \\nfor research studies, providing (1) an intuitive interface for validated data capture; (2) audit \\ntrails for tracking data manipulation and export procedures; (3) automated export procedures \\nfor seamless data downloads to common statistical packages; and (4) procedures for data Clina et al. Page 5\\nObesity (Silver Spring) . Author manuscript; available in PMC 2024 August 01.\\nAuthor Manuscript Author Manuscript Author Manuscript Author Manuscriptintegration and interoperability with external sources. All analyses were completed using \\nSAS (version 9.4, 2002–2012 by SAS Institute Inc.).\\nA sample size of 120 participants was targeted based on findings from the Beef WISE \\nStudy [ 25] to detect a 2.75 kg difference in weight loss between the HP and NP. Weight \\nloss achieved by the ‘Beef’ group in the Beef WISE Study was 8.9±6.0 kg, and this \\ngroup received the same dietary plan and counseling as the HP group in the current \\nstudy. Assuming a similar amount and variability in achieved weight loss, statistical power \\ncalculations indicated that sample size of 112 (56 per group) would provide >80% power ( α \\n= 0.05) to detect a 2.75 kg difference in weight loss.\\nBaseline characteristics were assessed by diet group (HP and NP) as well as the total of \\nthe whole sample. Randomization was performed by the statistician and was stratified by \\nage, sex, BMI, and years since diagnosis of T2D. Differences in baseline characteristic \\nwere assessed using paired t-tests or Chi-squared tests. Linear mixed models (LMM) with \\nunstructured covariance were used to test the effect of diet group, time, and their interaction \\nterm for changes in body weight and composition, and cardiometabolic health using and \\nintention to treat approach (ITT), meaning that all participants that were randomized and \\nhave one or more measures were included in LMM analyses regardless of completion of \\nprotocol or adherence. Differences in frequency of reducing or discontinuing medication for \\nT2D was assessed using Chi-squared tests. SAS 9.4 was used for all the analyses. P<0.05 is \\ndeemed statistically significant.\\nResults\\nBaseline Characteristics of Participants\\nBaseline characteristic of participants are presented in Table 1. No differences in any \\nbaseline characteristics were detected between HP and NP. Participant retention at 52 weeks \\ndid not differ between HP and NP (completed: HP n=37 (69.8%); NP n=34 (64.2%), p= \\n0.51).\\nAdverse Events\\nNo adverse events likely to be related to the study were reported by participants in either \\ngroup.\\nWeight Loss and Body Composition\\nChanges in body weight and composition are shown in Figure 2. Total mass was reduced by \\n10.2±1.6 kg (9.4%) in the HP group and 12.7±4.8 kg (11.8%) in the NP group (Figure 2), \\nwith no difference between groups ( p=0.336). Fat mass percent decreased (HP, 46.2±0.8% \\nvs. 41.9±1.1%, p<0.001; NP, 46.6±0.8% vs. 42.8±1.6%, p<0.001) and fat free mass percent \\nincreased (HP, 52.9±0.8% vs. 57.1±1.1%, p<0.001; NP, 51.8±1.6%, vs. 55.4±0.8% p<0.001) \\nin both groups during the intervention period with no significant difference between HP and \\nNP (fat mass percent, p = 0.665; fat free mass percent, p = 0.689). Both the HP and NP \\ngroups reduced waist circumference (HP, 118±2.0 cm vs. 111±2.1 cm, p=<0.001; NP, 117±2 \\ncm vs. 109±2 cm, p=<0.001) and BMI (HP, 38.7±1.0 kg/m2 vs. 35.0±1.0 kg/m2, p=<0.001; Clina et al. Page 6\\nObesity (Silver Spring) . Author manuscript; available in PMC 2024 August 01.\\nAuthor Manuscript Author Manuscript Author Manuscript Author ManuscriptNP, 38.8±1.0 kg/m2 cm vs. 34.4±1.0 kg/m2, p=<0.001) from baseline to week 52, with no \\ndifferences between groups (waist circumference, p=0.934; BMI, p=0.421). Supplemental \\nfigure 1 includes additional plots related to body composition changes by group.\\nIndicators of Type 2 Diabetes\\nChanges in indicators of type 2 diabetes are presented in Table 2. In general, participants \\nreduced HbA1c, fasting glucose and HOMA-IR with no differences in changes between HP \\nand NP. Data describing participants with HbA1c ≥6.5% or fasting glucose ≥126 mg/dL \\n(clinically diagnostic of T2D) at baseline and week 52 by diet group are presented in Table \\n3. At baseline, 73.6% of participants in the HP group and 62.3% of participants in the NP \\ngroup had biomarkers in the range for T2D. Using the ITT approach, 24.5% and 22.6% \\nof participants in the HP and NP groups respectively reduced these values to no longer \\nmeet diagnostic criteria for T2D. Using the completer analyses, these numbers are 38.2% \\nand 38.5% for the HP and NP groups respectively. Four participants in the HP group and \\n1 participant in the NP group were classified as having a negative change, with values at \\nbaseline not meeting criteria for T2D diagnosis, but meeting these criteria at week 52. There \\nwere no differences between diet groups for any changes in T2D indicators. Also during \\nthe trial, n=14 participants (HP, n=5; NP, n=9) discontinued all T2D medications and n=16 \\n(HP, n=7; NP, n=9) reduced at least one T2D medication. The frequency of discontinuing or \\nreducing T2D medications was not statistically different between HP and NP ( p=0.4358).\\nLaboratory Markers\\nChanges in blood pressure, lipids, and BUN are summarized in Table 4. Participants reduced \\nsystolic and diastolic blood pressures, and triglycerides with no differences between groups. \\nBUN was increased in both groups at week 52 compared to baseline with no difference \\nbetween HP and NP. There were no changes in total cholesterol, HDL cholesterol, or LDL \\ncholesterol in either group over the duration of the intervention.\\nDiscussion\\nBoth the HP and NP diet groups significantly reduced weight and improved in key indicators \\nof T2D with no difference between groups. These findings support data suggesting that \\nweight loss is the primary driver of improvements in glucose control. Results from the Look \\nAHEAD (Action for Health in Diabetes) study found that those with a 5–10% reduction \\nin weight had increased odds of achieving a 0.5% reduction in HbA1c (odds ratio 3.52) \\n[35]. Evidence from review papers also suggests that modest weight loss can successfully \\nresult in remission of T2D in many individuals [ 36]. Findings from the current study further \\nsupport the notion that weight loss can produce improvements in glucose control in many \\nwith T2D. Average weight loss in the current study was consistent with that found to cause \\nimprovements in T2D in the majority of participants in DiRECT [ 15]. Our results extend \\nthose of previous research by demonstrating that weight loss is an effective treatment for \\nT2D.\\nContrary to the hypothesis, the HP diet did not result in greater weight loss when compared \\nto the NP diet. Instead, the groups had similar weight loss and body composition changes Clina et al. Page 7\\nObesity (Silver Spring) . Author manuscript; available in PMC 2024 August 01.\\nAuthor Manuscript Author Manuscript Author Manuscript Author Manuscriptfollowing the intervention. It was also hypothesized that the HP group would result in \\npreferential loss of fat mass compared to fat free mass which was also not supported. A \\nrecent review suggested that a weight loss could increase risk of mortality for those recently \\ndiagnosed with T2D potentially as a result in a decline in appendicular lean mass [ 37]. \\nWhile appendicular body composition was not analyzed for the present study, whole-body \\nfat free mass was only slightly reduced with no significant differences between groups. The \\npreferential loss of fat mass in both diet groups in the present study lessens concerns related \\nto potential weight loss-related adverse events.\\nResults from this study also add to the literature regarding the impact of HP diets during \\nweight loss for individuals with T2D. The HP and NP groups had similar reduction in \\nindices of T2D, including HbA1c and fasting glucose. Some trials have demonstrated that \\na HP diet is more beneficial than a high carbohydrate diet in outcomes associated with \\nT2D [ 19, 38]. However, One trial in post-menopausal women demonstrated that a HP diet \\nduring weight loss could negatively insulin action [ 20], however this did not seem to be \\nthe case in the present study, as marked by similar improvements in HOMA-IR across \\ngroups. In the present study, at baseline, 73.6% of participants in the HP group and 62.3% \\nof participants in the NP group had biomarkers in the range for T2D. Notably, inclusion \\ninto the study was based on previously diagnosed T2D but did not require participants to \\npresent with a diagnostic value for A1c or fasting glucose at baseline. This resulted in some \\nparticipants having A1c or fasting glucose below the diabetic range at study entry. This is \\nlikely because many participants were taking T2D medications at baseline and they were \\nnot required to discontinue medications at study entry as has been done in other studies \\nsuch as DiRECT [ 15]. Participants exhibiting indices of T2D was reduced to 35.1% and \\n32.4% in the HP and NP groups, respectively. These findings strongly suggest that achieved \\nweight loss – regardless of dietary pattern – is the primary factor driving improvements \\nin glucose control. This finding has substantial public health implications as it provides a \\ndegree of individual-level flexibility in choosing a dietary pattern that is consistent with \\npatient preferences.\\nThese results demonstrate that the inclusion of lean, minimally processed beef does not \\nimpact the effectiveness of an energy restricted diet to induce weight loss and improvements \\nin cardiometabolic health. Previous work from our group found equivalent changes in body \\nweight and composition between a HP diet including beef and a HP diet excluding all red \\nmeat [ 25]. The present study builds on this work, through the investigation of two diets \\nwith differing recommended macronutrient compositions. From these data, it is evident that \\nminimally processed, lean beef can be safely included in diets when attempting to lose \\nweight and control glucose.\\nA limitation of this trial was that despite giving explicit diet rules and lists to participants, \\nboth groups saw an equivalent increase in BUN from baseline to week 52. This finding \\ncould indicate that the protein composition of the diet groups likely did not reach the \\nintended macronutrient distributions, with the groups consuming similar amounts of protein. \\nThe study might not have been able to detect the true impact on improvements in T2D \\nmarkers because participants discontinued medication as recommended by their primary \\ncare providers. This could mean that the observed intervention could have had a greater Clina et al. Page 8\\nObesity (Silver Spring) . Author manuscript; available in PMC 2024 August 01.\\nAuthor Manuscript Author Manuscript Author Manuscript Author Manuscripteffect if those participants had stayed on their medications. Additionally, the COVID-19 \\npandemic began during the first cohort of the AL and CO groups and lasted throughout the \\nrest of the study. The onset of the pandemic resulted in several methodological changes of \\nthe study and impacted the lives of participants taking part in the intervention. Fortunately, \\nthe SOS program had been previously delivered in a virtual format, so changes to course \\ncontent were minor. Classes were still able to be held at the usual time, but in a virtual \\nsetting. However, research study visits were completely halted for a period during the study, \\nhence the completion of some of the week 16 visits virtually instead of in-person. This \\nchange limited the data that could be collected at this timepoint. In addition, some outcome \\nmeasures tests that were originally collected in person could no longer be collected at all, \\neven when restrictions were lifted, including resting energy expenditure and six-minute walk \\ntest. These two tests were removed because masks were still required in the research facility \\nand since baseline measurements were collected without masks, it was unclear if the use of \\nmasks at future visits would impact results. Some participants who withdrew from the study \\ncited COVID-19 as a primary reason for leaving, such as increased work demands. Total \\nattrition overall was high at 33%, which is likely due in part to the challenges faced during \\nthe COVID-19 pandemic. Despite challenges, the study team was able to adapt swiftly to the \\nnature of the pandemic and continue the intervention and data collection.\\nThese result show that behavioral weight loss programs can produce significant weight loss \\nin those with T2D and that this weight loss can improve glucose control and many other \\naspects of cardiometabolic health. Results also show that avoiding red meat does not provide \\nan advantage either in weight loss or in disease management.\\nSupplementary Material\\nRefer to Web version on PubMed Central for supplementary material.\\nAcknowledgements\\nThe authors acknowledge Jeanne Anne Breen and Aaron Chestnut for their effort in the recruitment, retention, \\nand completion of study visits. The authors would also like to acknowledge Marsha Miller for coaching the SOS \\nclasses at the CO site. Finally, the authors acknowledge the participants for their contribution to the study and time \\nand effort put forth as a part of this trial. Funding for the parent trial was provided by the Beef Checkoff. This \\nwork was also supported by NIH/NCATS Colorado CTSA Grant Number UL1 TR002535 and by Award Number \\nP30DK056336 from the National Institute Of Diabetes And Digestive And Kidney Diseases. The content is solely \\nthe responsibility of the authors and does not necessarily represent the official views of the National Institute Of \\nDiabetes And Digestive And Kidney Diseases or the National Institutes of Health. The corresponding author will \\ncooperate with any requests for data sharing. Any data described in the manuscript will be made available upon \\nrequest pending application and approval.\\nFunding:\\nFunding for this study was provided by The Beef Checkoff/National Cattlemen’s Beef Association and the \\nUniversity of Alabama at Birmingham, Nutrition Obesity Research Center. The financial supporters had no role in \\nthe design and conduct of the study or collection, analysis, and interpretation of the data.\\nJOH and HRW have received royalties from the book, State of Slim. They have ownership in Shakabuku LLC, \\nwhich offers weight loss to the public. HRW has received grant support for unrelated studies from Gelesis, Novo \\nNordisk, Epitome, and General Mills, Inc., and has done consulting for Gelesis and reports speaking fees from \\nNovo Nordisk, and the National Cattlemen’s Beef Association. JOH has received grant funding for unrelated \\nstudies from Gelesis and has done consulting for Gelesis, General Mills, Inc., and McCormick Science Institute. Clina et al. Page 9\\nObesity (Silver Spring) . Author manuscript; available in PMC 2024 August 01.\\nAuthor Manuscript Author Manuscript Author Manuscript Author ManuscriptRDS has received grant support for an unrelated study from General Mills, Inc., and reports speaking fees from the \\nTexas Beef Council.\\nReferences\\n1. Control, C.f.D. and Prevention, National diabetes statistics report: estimates of diabetes and its \\nburden in the United States, 2014. Atlanta, GA: US Department of Health and Human Services, \\n2014. 2014.\\n2. Einarson TR, et al. , Prevalence of cardiovascular disease in type 2 diabetes: a systematic literature \\nreview of scientific evidence from across the world in 2007–2017. Cardiovascular Diabetology, \\n2018. 17(1): p. 83. [PubMed: 29884191] \\n3. Afkarian M, et al. , Kidney disease and increased mortality risk in type 2 diabetes. Journal of the \\nAmerican Society of Nephrology, 2013. 24(2): p. 302–308. [PubMed: 23362314] \\n4. Koye DN, et al. , The global epidemiology of diabetes and kidney disease. Advances in chronic \\nkidney disease, 2018. 25(2): p. 121–132. [PubMed: 29580576] \\n5. Muller IS, et al. , Foot ulceration and lower limb amputation in type 2 diabetic patients in Dutch \\nprimary health care. Diabetes care, 2002. 25(3): p. 570–574. [PubMed: 11874949] \\n6. Shatnawi NJ, et al. , Predictors of major lower limb amputation in type 2 diabetic patients referred \\nfor hospital care with diabetic foot syndrome. Diabetes, metabolic syndrome and obesity: targets \\nand therapy, 2018. 11: p. 313. [PubMed: 29950877] \\n7. Singh N, Armstrong DG, and Lipsky BA, Preventing foot ulcers in patients with diabetes. Jama, \\n2005. 293(2): p. 217–228. [PubMed: 15644549] \\n8. Berster JM and Göke B, Type 2 diabetes mellitus as risk factor for colorectal cancer. Archives of \\nphysiology and biochemistry, 2008. 114(1): p. 84–98. [PubMed: 18465362] \\n9. Cheung N. and Wong TY , Diabetic retinopathy and systemic vascular complications. Progress in \\nretinal and eye research, 2008. 27(2): p. 161–176. [PubMed: 18249026] \\n10. Sasongko MB, et al. , Prevalence of diabetic retinopathy and blindness in Indonesian adults with \\ntype 2 diabetes. American journal of ophthalmology, 2017. 181: p. 79–87. [PubMed: 28669781] \\n11. Albu J. and Pi-Sunyer FX, Obesity and diabetes, in Handbook of obesity. 2003, CRC Press. p. \\n915–934.\\n12. Maggio CA and Pi-Sunyer FX, Obesity and type 2 diabetes. Endocrinology and Metabolism \\nClinics, 2003. 32(4): p. 805–822. [PubMed: 14711063] \\n13. Apovian CM, Obesity: definition, comorbidities, causes, and burden. Am J Manag Care, 2016. \\n22(7 Suppl): p. s176–85. [PubMed: 27356115] \\n14. Schelbert KB, Comorbidities of obesity. Primary Care: Clinics in Office Practice, 2009. 36(2): p. \\n271–285. [PubMed: 19501243] \\n15. Lean ME, et al. , Primary care-led weight management for remission of type 2 diabetes (DiRECT): \\nan open-label, cluster-randomised trial. The Lancet, 2018. 391(10120): p. 541–551.\\n16. Wycherley TP, et al. , Effects of energy-restricted high-protein, low-fat compared with standard-\\nprotein, low-fat diets: a meta-analysis of randomized controlled trials. The American journal of \\nclinical nutrition, 2012. 96(6): p. 1281–1298. [PubMed: 23097268] \\n17. Wycherley TP, et al. , A high-protein diet with resistance exercise training improves weight loss \\nand body composition in overweight and obese patients with type 2 diabetes. Diabetes care, 2010. \\n33(5): p. 969–976. [PubMed: 20150293] \\n18. Leidy HJ, et al. , The role of protein in weight loss and maintenance. The American journal of \\nclinical nutrition, 2015. 101(6): p. 1320S–1329S. [PubMed: 25926512] \\n19. Kitabchi AE, et al. , Effects of high-protein versus high-carbohydrate diets on markers of β-cell \\nfunction, oxidative stress, lipid peroxidation, proinflammatory cytokines, and adipokines in obese, \\npremenopausal women without diabetes: a randomized controlled trial. Diabetes care, 2013. 36(7): \\np. 1919–1925. [PubMed: 23404297] \\n20. Smith Gordon I., et al. , High-Protein Intake during Weight Loss Therapy Eliminates the Weight-\\nLoss-Induced Improvement in Insulin Action in Obese Postmenopausal Women. Cell Reports, \\n2016. 17(3): p. 849–861. [PubMed: 27732859] Clina et al. Page 10\\nObesity (Silver Spring) . Author manuscript; available in PMC 2024 August 01.\\nAuthor Manuscript Author Manuscript Author Manuscript Author Manuscript21. Daniel CR, et al. , Trends in meat consumption in the USA. Public health nutrition, 2011. 14(4): p. \\n575–583. [PubMed: 21070685] \\n22. Barnard N, Levin S, and Trapp C, Correction: Barnard N, et al. Meat Consumption as a Risk Factor \\nfor Type 2 Diabetes. Nutrients 2014, 6, 897–910. Nutrients, 2014. 6(10): p. 4317–4319. [PubMed: \\n24566443] \\n23. Pan A, et al. , Changes in red meat consumption and subsequent risk of type 2 diabetes mellitus: \\nthree cohorts of US men and women. JAMA internal medicine, 2013. 173(14): p. 1328–1335. \\n[PubMed: 23779232] \\n24. Sayer RD, et al. , Dietary Approaches to Stop Hypertension diet retains effectiveness to reduce \\nblood pressure when lean pork is substituted for chicken and fish as the predominant source \\nof protein. The American journal of clinical nutrition, 2015. 102(2): p. 302–308. [PubMed: \\n26063693] \\n25. Sayer R, et al. , Equivalent reductions in body weight during the Beef WISE Study: beef’s role in \\nweight improvement, satisfaction and energy. Obesity science & practice, 2017. 3(3): p. 298–310. \\n[PubMed: 29071106] \\n26. Roussell MA, et al. , Beef in an Optimal Lean Diet study: effects on lipids, lipoproteins, and \\napolipoproteins. The American journal of clinical nutrition, 2012. 95(1): p. 9–16. [PubMed: \\n22170364] \\n27. Roussell M, et al. , Effects of a DASH-like diet containing lean beef on vascular health. Journal of \\nhuman hypertension, 2014. 28(10): p. 600–605. [PubMed: 24943285] \\n28. Magkos F, et al. , Unprocessed red meat in the dietary treatment of obesity: a randomized \\ncontrolled trial of beef supplementation during weight maintenance after successful weight loss. \\nThe American Journal of Clinical Nutrition, 2022.\\n29. Sanders LM, Wilcox ML, and Maki KC, Red meat consumption and risk factors for type 2 \\ndiabetes: a systematic review and meta-analysis of randomized controlled trials. European Journal \\nof Clinical Nutrition, 2022.\\n30. Butryn ML, et al. , Consistent self-monitoring of weight: a key component of successful weight \\nloss maintenance. Obesity (Silver Spring), 2007. 15(12): p. 3091–6. [PubMed: 18198319] \\n31. Dhurandhar NV , et al. , Energy balance measurement: when something is not better than nothing. \\nInternational journal of obesity, 2015. 39(7): p. 1109–1113. [PubMed: 25394308] \\n32. Obesity, N.A.A.f.t.S.o., et al., The practical guide: identification, evaluation, and treatment of \\noverweight and obesity in adults. 2000: National Institutes of Health, National Heart, Lung, and \\nBlood Institute ….\\n33. Harris PA, et al. , The REDCap consortium: Building an international community of software \\nplatform partners. Journal of biomedical informatics, 2019. 95: p. 103208.\\n34. Harris PA, et al. , Research electronic data capture (REDCap)—a metadata-driven methodology \\nand workflow process for providing translational research informatics support. Journal of \\nbiomedical informatics, 2009. 42(2): p. 377–381. [PubMed: 18929686] \\n35. Wing RR, et al. , Benefits of Modest Weight Loss in Improving Cardiovascular Risk Factors in \\nOverweight and Obese Individuals With Type 2 Diabetes. Diabetes Care, 2011. 34(7): p. 1481–\\n1486. [PubMed: 21593294] \\n36. Lau DCW and Teoh H, Benefits of Modest Weight Loss on the Management of Type 2 Diabetes \\nMellitus. Canadian Journal of Diabetes, 2013. 37(2): p. 128–134. [PubMed: 24070804] \\n37. Huang S, et al. , Association of magnitude of weight loss and weight variability with mortality and \\nmajor cardiovascular events among individuals with type 2 diabetes mellitus: a systematic review \\nand meta-analysis. Cardiovascular Diabetology, 2022. 21(1): p. 78. [PubMed: 35578337] \\n38. McAuley K, et al. , Comparison of high-fat and high-protein diets with a high-carbohydrate diet in \\ninsulin-resistant obese women. Diabetologia, 2005. 48: p. 8–16. [PubMed: 15616799] Clina et al. Page 11\\nObesity (Silver Spring) . Author manuscript; available in PMC 2024 August 01.\\nAuthor Manuscript Author Manuscript Author Manuscript Author ManuscriptWhat is already known about this subject?\\n• Weight loss of ≥10% improves can improve glucose control and even remit \\ntype 2 diabetes for some\\n• High protein diets can produce greater weight loss and prevent loss of fat free \\nmass compared to diets lower in protein\\n• Some observational studies recommend limiting red meat consumption to \\nreduce risk for type 2 diabetes, but data from randomized clinical trials \\ngenerally find little to no independent effect of lean red meat consumption.\\nWhat are the new findings in your manuscript?\\n• Both a normal protein diet excluding red meat and a high protein diet \\ncontaining red meat are effective at producing weight loss and improvements \\nin glucose control\\nHow might your results change the direction of research or the focus of clinical \\npractice?\\n• Weight loss, not diet composition, is the primary driver of type 2 diabetes \\nmanagement\\n• Avoiding red meat does not provide additional benefit for weight loss or \\nimprovements in glucose control during a weight loss interventionClina et al. Page 12\\nObesity (Silver Spring) . Author manuscript; available in PMC 2024 August 01.\\nAuthor Manuscript Author Manuscript Author Manuscript Author ManuscriptFigure 1. CONSORT Diagram\\nDiagram of participant flow.Clina et al. Page 13\\nObesity (Silver Spring) . Author manuscript; available in PMC 2024 August 01.\\nAuthor Manuscript Author Manuscript Author Manuscript Author ManuscriptFigure 2. Change in Body Weight and Composition\\nDepicts changes in weight and composition (fat and fat free mass) in kilograms from \\nbaseline to week 52 by diet group. Mixed effects models used to test the effect of diet \\ngroup, time, and their interaction term on body weight and composition changes. Presented \\nas LSMEANS±SE. Both groups had a significantly reduced weight (HP −10.2±1.6 kg; NP \\n−12.5±1.6 kg), fat mass (HP −8.4±1.4 kg; NP −9.1±1.5 kg), and fat-free mass (HP −1.8±0.4 \\nkg; NP −2.9±0.4 kg), but the majority of weight loss was due to fat mass loss. There were \\nno differences in outcomes by diet group in changes in total mass ( p=0.333), fat mass \\n(p=0.735), or fat free mass p=0.056).Clina et al. Page 14\\nObesity (Silver Spring) . Author manuscript; available in PMC 2024 August 01.\\nAuthor Manuscript Author Manuscript Author Manuscript Author ManuscriptAuthor Manuscript Author Manuscript Author Manuscript Author ManuscriptClina et al. Page 15\\nTable 1.\\nBaseline Characteristics of Participants\\nPresent baseline characteristics of participants by diet group assignment. Percent of sample (i.e. % female, % \\nusing medications for T2D), waist circumference, and blood biomarkers rounded to the nearest whole number \\n(except HOMA-IR, HbA1c %, and insulin)\\nParameter HP NP\\nAge, y (M±SD) 54.1 ± 12.0 55.4 ± 9.6\\nDuration of T2D, y (M±SD) 3.2 ± 1.8 3.2 ± 1.6\\nFemale, n (%) 38 (72) 42 (79)\\nUsing Medications for T2D, n (%) 48 (91) 46 (87)\\nAnthropometrics  (M±SD)\\n Weight, kg 108.0 ± 22.8 107.8 ± 26.6\\n BMI, kg/m2 38.7 ± 6.8 38.8 ± 7.3\\n Waist Circumference, cm 118 ± 14 117 ± 15\\n Fat Mass, % 46.2 ± 6.2 46.6 ± 5.9\\n Fat-Free Mass, % 52.9 ± 6.1 52.4 ± 5.8\\nBiomarkers  (M±SD)\\n HOMA-IR 7.6 ± 7.0 5.9 ± 3.4\\n Glucose, mg/dL 134 ± 38 130 ± 40\\n HbA1c, % 7.2 ± 1.0 7.0 ± 1.3\\n Insulin, μIU/mL 22.3 ± 16.5 18.1 ± 11.1\\n BP Systolic, mmHg 135 ± 15 135 ± 15\\n BP Diastolic, mmHg 86 ± 9 86 ± 9\\n Triglycerides, mg/dL 138 ± 71 139 ± 58\\n HDL Cholesterol, mg/dL 47 ± 11 45 ± 9\\n LDL Cholesterol, mg/dL 94 ± 28 95 ± 36\\nRace , n (%)\\n White 37 (70) 30 (57)\\n Black 11 (21) 19 (39)\\n Asian 3 (6) 1 (2)\\n Native Hawaiian or Pacific Islander 1 (2) 0 (0)\\n Other 1 (2) 3 (6)\\nEthnicity , n (%)\\n Hispanic 6 (11) 9 (17)\\n Non-Hispanic 46 (87) 43 (81)\\n Did not report 1 (2) 1 (2)\\nAbbreviations: BMI, body mass index; BP, blood pressure; cm, centimeter; dL, deciliter; HDL, high ‐density lipoprotein cholesterol; HbA1c, \\nhemoglobin A1c; HOMA-IR, Homeostatic Model Assessment for Insulin Resistance; HP, high protein; kg, kilogram; LDL, low ‐density lipoprotein \\ncholesterol; M, mean; m, meter; mg, milligrams; ml, milliliter; mmHg, millimeters of mercury; NP, normal protein; SD, standard deviation; T2D, \\ntype 2 diabetes; y, years; μIU, micro international unit.\\nObesity (Silver Spring) . Author manuscript; available in PMC 2024 August 01.Author Manuscript Author Manuscript Author Manuscript Author ManuscriptClina et al. Page 16\\nTable 2.\\nChanges in Indicators of Type 2 Diabetes by Diet Group\\nParameter Group Baseline Week 52 Mean Change 95% CI for Change P-value\\nGlucose, mg/dL HP 134 (5) 115 (6) −19 (6) (−31.0, −6.8)\\nNP 130 (5) 111 (6) −19 (6) (−31.4, −6.4) 0.999\\nHbA1c, % HP 7.2 (0.2) 6.4 (0.2) −0.8 (0.2) (−1.1, −0.4)\\nNP 7.0 (0.2) 6.5 (0.2) −0.5 (0.2) (−0.9, −0.1) 0.329\\nInsulin, μIU/mL HP 22.3 (1.9) 14.5 (1.7) −7.8 (2.0) (−11.8, −3.7)\\nNP 18.8 (1.9) 11.0 (1.8) −7.8 (2.0) (−12.0, −3.7) 0.979\\nHOMA-IR HP 7.6 (0.8) 4.5 (0.7) −3.1 (0.8) (−4.7, −1.6)\\nNP 5.9 (0.8) 3.2 (0.7) −2.7 (.8) (−4.2, −1.1) 0.657\\nValues presented as LS MEANS (SE) with glucose values rounded to nearest whole number. Values are model based from the ITT analysis \\nperformed, including LS MEANS, change, and 95% CI.\\nP-value represents differences in change between diet groups (HP vs. NP)\\nMixed effects model used to test the effect of time, group, and their interaction term on changes in indicators of type 2 diabetes. Both diet groups \\nreduced, glucose, HbA1c, insulin, and HOMA-IR from baseline to week 52. There were no differences in change in any parameters by diet group \\n(HP vs NP)\\nAbbreviations: dL, deciliter; HbA1c, hemoglobin A1c; HOMA-IR, Homeostatic Model Assessment for Insulin Resistance; HP, high protein; mg, \\nmilligrams; mL, milliliter; NP, normal protein; μIU, micro international unit.\\nObesity (Silver Spring) . Author manuscript; available in PMC 2024 August 01.Author Manuscript Author Manuscript Author Manuscript Author ManuscriptClina et al. Page 17\\nTable 3.\\nChanges in Type 2 Diabetes Status\\nPresents changes in status of Type 2 Diabetes as indicated by HbA1c ≥6.5% or fasting glucose ≥126 mg/dL \\n(clinically diagnostic of T2D) from baseline to week 52 of the trial.\\nITT Approach HP n (%) NP n (%)\\nRemained in abnormal range 7 (13) 12 (23)\\nRemained in normal range 12 (19) 9 (17)\\nPositive change (abnormal to normal value) 13 (25) 12 (23)\\nNegative change (normal to abnormal) 4 (8) 1 (2)\\nUnknown (no paired value) 19 (36) 16 (30)\\nCompleters Analysis\\nRemained in abnormal range 7 (21) 12 (33)\\nRemained in normal range 10 (2) 9 (25)\\nPositive change (abnormal to normal value) 13 (38) 14 (39)\\nNegative change (normal to abnormal) 4 (12) 1 (3)\\nIntention to treat (ITT) and completers analyses are presented. Unknown in the ITT approach refers to participants without either a baseline or \\nweek 52 value, therefore no conclusions could be made regarding change in status. Abnormal value refers to lab values consistent with T2D \\ndiagnosis where normal range refers to values below the criteria for T2D diagnosis. Percentages rounded to nearest whole number.\\nObesity (Silver Spring) . Author manuscript; available in PMC 2024 August 01.Author Manuscript Author Manuscript Author Manuscript Author ManuscriptClina et al. Page 18\\nTable 4.\\nLaboratory Markers Changes by Diet Group\\nValues presented as LS MEANS (SE) rounded to the nearest whole number. Values are model based from the \\nITT analysis performed, including LS MEANS, change, and 95% CI.\\nParameter Group Baseline Week 52 Mean Change 95% CI for Change P-value\\nBP Systolic, mmHg HP 135 (2) 126 (3) −9 (2) (−13.0, −5.1)\\nNP 135 (2) 127 (3) −8 (2) (−12.2, −3.9) 0.719\\nBP Diastolic, mmHg HP 86 (1) 78 (1) −7 (2) (−10.2, −4.2)\\nNP 86 (1) 81 (2) −6 (2) (−8.6, −2.3) 0.430\\nTriglycerides, mg/dL HP 138 (9) 114 (10) −25 (9) (−42.8, −6.1)\\nNP 139 (9) 110 (10) −29 (10) (−48.0, −10.0) 0.732\\nHDL Cholesterol, mg/dL HP 47 (1) 47 (2) 2 (1) (−2.1, 2.9)\\nNP 45 (1) 47 (2) 1 (2) (−0.8, 4.4) 0.448\\nLDL Cholesterol, mg/dL HP 94 (4) 91 (5) −3 (4) (−11.1, 4.6)\\nNP 95 (4) 94 (5) −1 (4) (−9.3, 6.9) 0.718\\nBUN HP 15 (1) 17 (1) 3 (1) (1.5, 4.2)\\nNP 15 (6) 18 (1) 3 (1) (1.2, 4.0) 0.770\\nP-value represents differences in change between diet groups (HP vs. NP)\\nMixed effects model used to test the effect of time, group, and their interaction term on changes in laboratory markers. Both diet groups reduced \\nsystolic and diastolic blood pressures and triglycerides from baseline to week 52. Neither group had changes in HDL or LDL cholesterol from \\nbaseline to week 52. Both groups increased BUN from baseline to week 52. There were no differences in change in any parameters by diet group \\n(HP vs NP)\\nAbbreviations: BUN, blood urea nitrogen; BP, blood pressure; dL, deciliter; HDL, high ‐density lipoprotein cholesterol; HP, high protein; LDL, \\nlow‐density lipoprotein cholesterol; mg, milligrams; mmHg, millimeters of mercury; NP, normal protein.\\nObesity (Silver Spring) . Author manuscript; available in PMC 2024 August 01.'"
      ]
     },
     "execution_count": 10,
     "metadata": {},
     "output_type": "execute_result"
    }
   ],
   "source": [
    "text = \"\".join(page.extract_text() for page in reader.pages if page.extract_text())\n",
    "text"
   ]
  },
  {
   "cell_type": "code",
   "execution_count": 12,
   "id": "521405e8",
   "metadata": {},
   "outputs": [
    {
     "data": {
      "text/plain": [
       "['High and normal protein diets improve body composition and \\nglucose control in adults with type 2 diabetes: A randomized \\ntrial\\nJulianne G. Clina1, R. Drew Sayer1,3, Zhaoxing Pan2, Caroline W. Cohen3, Michael T. \\nMcDermott4, Victoria A. Catenacci4, Holly R. Wyatt1,5, James O. Hill1',\n",
       " 'McDermott4, Victoria A. Catenacci4, Holly R. Wyatt1,5, James O. Hill1\\n1Department of Nutrition Sciences, University of Alabama at Birmingham\\n2Department of Pediatrics, University of Colorado Anschutz Medical Campus\\n3Department of Family and Community Medicine, University of Alabama at Birmingham\\n4Division of Endocrinology, Metabolism and Diabetes, University of Colorado School of Medicine, \\nAurora, Colorado',\n",
       " '3Department of Family and Community Medicine, University of Alabama at Birmingham\\n4Division of Endocrinology, Metabolism and Diabetes, University of Colorado School of Medicine, \\nAurora, Colorado\\n5Anschutz Health and Wellness Center, University of Colorado Anschutz Medical Campus\\nAbstract\\nObjective:\\xa0 Weight loss of ≥10% improves glucose control and may remit type 2 diabetes',\n",
       " 'Aurora, Colorado\\n5Anschutz Health and Wellness Center, University of Colorado Anschutz Medical Campus\\nAbstract\\nObjective:\\xa0 Weight loss of ≥10% improves glucose control and may remit type 2 diabetes \\n(T2D). High protein (HP) diets are commonly used for weight loss, but whether protein \\nsources, especially red meat, impact weight loss-induced T2D management is unknown. This',\n",
       " '(T2D). High protein (HP) diets are commonly used for weight loss, but whether protein \\nsources, especially red meat, impact weight loss-induced T2D management is unknown. This \\ntrial compared a HP diet including red meat and normal protein (NP) without red meat for weight \\nloss, body composition changes, and glucose control in individuals with T2D.',\n",
       " 'trial compared a HP diet including red meat and normal protein (NP) without red meat for weight \\nloss, body composition changes, and glucose control in individuals with T2D.\\nMethods:\\xa0 106 adults (80 female) with T2D consumed a HP (40% protein) diet with ≥4 weekly \\nservings of lean beef or a NP (21% protein) diet excluding red meat during a 52-week weight',\n",
       " 'servings of lean beef or a NP (21% protein) diet excluding red meat during a 52-week weight \\nloss intervention. Body weight, body composition, and cardiometabolic parameters were measured \\nbefore and after intervention.\\nResults:\\xa0 Weight loss was not different between HP (−10.2±1.6 kg) and NP (−12.7±4.8 kg,',\n",
       " 'before and after intervention.\\nResults:\\xa0 Weight loss was not different between HP (−10.2±1.6 kg) and NP (−12.7±4.8 kg, \\np=0.336). Both groups reduced fat mass and increased fat free mass percent. Hemoglobin A1c, \\nglucose, insulin, insulin resistance, blood pressure, and triglycerides improved with no differences \\nbetween groups.',\n",
       " 'glucose, insulin, insulin resistance, blood pressure, and triglycerides improved with no differences \\nbetween groups.\\nConclusions:\\xa0 The lack of observed effects of dietary protein and red meat consumption on \\nweight loss and improved cardiometabolic health suggest that achieved weight loss – rather than \\ndiet composition – should be the principal target of dietary interventions for T2D management.',\n",
       " 'weight loss and improved cardiometabolic health suggest that achieved weight loss – rather than \\ndiet composition – should be the principal target of dietary interventions for T2D management.\\nContact Info:  R. Drew Sayer, Community Health Services Building (CH20) 307B, 930 20th St S, Birmingham, AL 35294, \\nsayerd@uab.edu.',\n",
       " 'Contact Info:  R. Drew Sayer, Community Health Services Building (CH20) 307B, 930 20th St S, Birmingham, AL 35294, \\nsayerd@uab.edu.\\nAuthor Contribution:  JOH, HJW, and RDS conceived the research project; JGC and CWC conducted the research; ZP performed the',\n",
       " 'sayerd@uab.edu.\\nAuthor Contribution:  JOH, HJW, and RDS conceived the research project; JGC and CWC conducted the research; ZP performed the \\nstatistical analyses; JGC drafted the manuscript and RDS, JOH, HJW, RDS, CWC, MTM, V AC, and ZP provided critical feedback and',\n",
       " 'statistical analyses; JGC drafted the manuscript and RDS, JOH, HJW, RDS, CWC, MTM, V AC, and ZP provided critical feedback and \\nedits to the manuscript. All authors take responsibility for the final content of the manuscript.\\nClinical Trial Registration:  National Clinical Trial NCT03832933\\nDisclosure:\\nAll other authors declare no conflicts of interest.\\nHHS Public Access\\nAuthor manuscript',\n",
       " 'Clinical Trial Registration:  National Clinical Trial NCT03832933\\nDisclosure:\\nAll other authors declare no conflicts of interest.\\nHHS Public Access\\nAuthor manuscript\\nObesity (Silver Spring) . Author manuscript; available in PMC 2024 August 01.\\nPublished in final edited form as:\\nObesity (Silver Spring) . 2023 August ; 31(8): 2021–2030. doi:10.1002/oby.23815.',\n",
       " 'Published in final edited form as:\\nObesity (Silver Spring) . 2023 August ; 31(8): 2021–2030. doi:10.1002/oby.23815.\\nAuthor Manuscript Author Manuscript Author Manuscript Author ManuscriptKeywords\\nobesity; weight loss; body composition; type 2 diabetes\\nIntroduction\\nType 2 diabetes (T2D) affects over 30 million adults in America and presents numerous',\n",
       " 'Author Manuscript Author Manuscript Author Manuscript Author ManuscriptKeywords\\nobesity; weight loss; body composition; type 2 diabetes\\nIntroduction\\nType 2 diabetes (T2D) affects over 30 million adults in America and presents numerous \\npublic health challenges [ 1]. T2D is a major risk factor for cardiovascular disease [ 2], kidney',\n",
       " 'Introduction\\nType 2 diabetes (T2D) affects over 30 million adults in America and presents numerous \\npublic health challenges [ 1]. T2D is a major risk factor for cardiovascular disease [ 2], kidney \\ndisease [ 3, 4], amputation [ 5–7], certain cancers [ 8], and blindness [ 9, 10], which results in',\n",
       " 'disease [ 3, 4], amputation [ 5–7], certain cancers [ 8], and blindness [ 9, 10], which results in \\na major cost burden to the healthcare system [ 1]. The primary risk factor for T2D is obesity, \\nwith the majority of those with T2D having overweight or obesity [ 11, 12]. Obesity also \\nincreases the risk of several other co-morbid conditions including heart disease and stroke',\n",
       " 'with the majority of those with T2D having overweight or obesity [ 11, 12]. Obesity also \\nincreases the risk of several other co-morbid conditions including heart disease and stroke \\n[11, 13, 14]. It has been demonstrated that both T2D and obesity can be treated with lifestyle \\nmodification. For example, in DiRECT (Diabetes Remission Clinical Trial) weight loss of',\n",
       " '[11, 13, 14]. It has been demonstrated that both T2D and obesity can be treated with lifestyle \\nmodification. For example, in DiRECT (Diabetes Remission Clinical Trial) weight loss of \\n10 to 15 kg resulted in the remission of T2D in a majority of individuals who had been \\nwho had been diagnosed with T2D within the past 6 years. Nearly 9 in 10 of individuals',\n",
       " '10 to 15 kg resulted in the remission of T2D in a majority of individuals who had been \\nwho had been diagnosed with T2D within the past 6 years. Nearly 9 in 10 of individuals \\nachieving more than 15 kg of weight loss remitted their T2D [ 15]. While it is clear that \\nweight loss is associated with improvements in T2D, the role of diet composition in the',\n",
       " 'achieving more than 15 kg of weight loss remitted their T2D [ 15]. While it is clear that \\nweight loss is associated with improvements in T2D, the role of diet composition in the \\nreversal of T2D presents a gap in knowledge.\\nHigher protein diets are an attractive target for lifestyle-based interventions for the treatment \\nof T2D. High protein diets, especially when combined with exercise, produce greater weight',\n",
       " 'Higher protein diets are an attractive target for lifestyle-based interventions for the treatment \\nof T2D. High protein diets, especially when combined with exercise, produce greater weight \\nloss and prevent losses of fat free mass (FFM) compared to lower protein diets [ 16–18]. In \\npremenopausal women with obesity without diabetes, a high protein diet improved insulin \\nsensitivity more than a high carbohydrate diet even though achieved weight loss was not',\n",
       " 'premenopausal women with obesity without diabetes, a high protein diet improved insulin \\nsensitivity more than a high carbohydrate diet even though achieved weight loss was not \\ndifferent between diets (high protein: 9.8 ± 1.4%, high carbohydrate: 9.3 ± 1.6%, p = \\n0.9323) [ 19]. Conversely, a study in post-menopausal women found that consuming a high',\n",
       " '0.9323) [ 19]. Conversely, a study in post-menopausal women found that consuming a high \\nprotein diet during weight loss eliminated the beneficial effects of 10% weight loss on \\ninsulin action and sensitivity [ 20]. These conflicting results suggest that additional studies \\non the amount and sources of dietary protein during weight loss are needed to determine its \\ninfluence on weight loss induced improvements in T2D.',\n",
       " 'insulin action and sensitivity [ 20]. These conflicting results suggest that additional studies \\non the amount and sources of dietary protein during weight loss are needed to determine its \\ninfluence on weight loss induced improvements in T2D.\\nRed meats –and beef in particular –are important contributors to dietary protein intakes \\nin the United States [ 21]. However, some observational studies have associated red \\nmeat consumption with higher risk of T2D, leading to recommendations to limit its',\n",
       " 'in the United States [ 21]. However, some observational studies have associated red \\nmeat consumption with higher risk of T2D, leading to recommendations to limit its \\nconsumption [ 22, 23]. Recommendations to limit red meat consumption are based mostly \\non observational data, while findings from randomized clinical trials usually find a neutral \\neffect of red meat consumption on health outcomes [ 24–28]. A recent meta-analysis found',\n",
       " 'on observational data, while findings from randomized clinical trials usually find a neutral \\neffect of red meat consumption on health outcomes [ 24–28]. A recent meta-analysis found \\nno differences in most glycemic and insulinemic risk factors associated with T2D when \\ncomparing reduced or no red meat diets to diets that contained red meat [ 29]. However, \\nthe impact on red meat consumption during weight loss among people with T2D remains',\n",
       " 'comparing reduced or no red meat diets to diets that contained red meat [ 29]. However, \\nthe impact on red meat consumption during weight loss among people with T2D remains \\nambiguous. Thus, it would be important to know whether beef can be part of a HP dietary \\nplan to reverse T2D by contributing to weight and fat loss and improving weight loss \\nmaintenance.Clina et al. Page 2',\n",
       " 'plan to reverse T2D by contributing to weight and fat loss and improving weight loss \\nmaintenance.Clina et al. Page 2\\nObesity (Silver Spring) . Author manuscript; available in PMC 2024 August 01.\\nAuthor Manuscript Author Manuscript Author Manuscript Author ManuscriptThe purpose of this randomized clinical trial was to compare a high protein diet (HP) versus',\n",
       " 'Author Manuscript Author Manuscript Author Manuscript Author ManuscriptThe purpose of this randomized clinical trial was to compare a high protein diet (HP) versus \\na normal protein diet (NP) for weight loss, body composition changes, and indicators of type \\n2 diabetes status during a 52-week behavioral weight loss intervention. Both intervention \\ndiets were energy-restricted, and the HP diet included recommendations to include lean',\n",
       " '2 diabetes status during a 52-week behavioral weight loss intervention. Both intervention \\ndiets were energy-restricted, and the HP diet included recommendations to include lean \\nbeef in the diet whereas the NP was instructed to refrain from eating any red meats for the \\nduration of the stud. The hypotheses were the HP diet would lead to greater weight loss, \\npreferential loss of fat mass compared to fat free mass, and greater improvements glucose',\n",
       " 'duration of the stud. The hypotheses were the HP diet would lead to greater weight loss, \\npreferential loss of fat mass compared to fat free mass, and greater improvements glucose \\ncontrol and cardiometabolic health.\\nMethods\\nParticipants\\nOne hundred and six individuals (80 female) began the intervention and were recruited \\nfrom the Denver, CO (n=39) and Birmingham, AL (n=67) metropolitan areas using letters,',\n",
       " 'Methods\\nParticipants\\nOne hundred and six individuals (80 female) began the intervention and were recruited \\nfrom the Denver, CO (n=39) and Birmingham, AL (n=67) metropolitan areas using letters, \\ninternet advertisements, and news advertisements to participate in the trial. A diagram \\ndepicting participant flow is presented in Figure 1. The study was conducted in three',\n",
       " 'internet advertisements, and news advertisements to participate in the trial. A diagram \\ndepicting participant flow is presented in Figure 1. The study was conducted in three \\ncohorts, with approximately 35 participants in each cohort. Cohort 1 was from the Denver, \\nCO area and began the intervention in January 2020. Cohorts 2 and 3 were from the \\nBirmingham, AL area and began in February 2020 and April 2021, respectively. Participants',\n",
       " 'CO area and began the intervention in January 2020. Cohorts 2 and 3 were from the \\nBirmingham, AL area and began in February 2020 and April 2021, respectively. Participants \\nwere required to be at least 18 years old, BMI ≥27 kg/m2, T2D diagnosis within the past 6 \\nyears (documented physician diagnosis, fasting glucose ≥126 mg/dl, or HbA1c ≥6.5%), be',\n",
       " 'years (documented physician diagnosis, fasting glucose ≥126 mg/dl, or HbA1c ≥6.5%), be \\nweight stable (±3 kg in the past 3 months), and be stable on all medications for the past 3 \\nmonths. Regarding eligibility criteria for T2D diagnosis, participants were enrolled who had \\na recent diagnosis as described above without meeting the threshold for fasting glucose or',\n",
       " 'months. Regarding eligibility criteria for T2D diagnosis, participants were enrolled who had \\na recent diagnosis as described above without meeting the threshold for fasting glucose or \\nHbA1c if that participant was on medication to manage their T2D, which would lower these \\nvalues. Exclusion criteria were: HbA1c ≥ 12%, current eating disorder (anorexia or bulimia),',\n",
       " 'values. Exclusion criteria were: HbA1c ≥ 12%, current eating disorder (anorexia or bulimia), \\ndependence on illicit drugs or alcohol, untreated hypothyroidism, currently using insulin or \\nother drugs known to cause weight loss or gain (including GLP-1 of SGLT-2 medications, \\nsteroids, tricyclic antidepressants, chemotherapy, antipsychotics, prescribed or OTC weight',\n",
       " 'other drugs known to cause weight loss or gain (including GLP-1 of SGLT-2 medications, \\nsteroids, tricyclic antidepressants, chemotherapy, antipsychotics, prescribed or OTC weight \\nloss agent), following a vegetarian or vegan diet, any illness or injury that would make it \\nunsafe to follow a diet and/or exercise up to 70 minutes at a moderate intensity regularly,',\n",
       " 'loss agent), following a vegetarian or vegan diet, any illness or injury that would make it \\nunsafe to follow a diet and/or exercise up to 70 minutes at a moderate intensity regularly, \\nand women who were pregnant, lactating, trying to become pregnant, or who had been \\npregnant or lactating in the last six months. Criteria for diabetes diagnoses were confirmed \\nthrough medical records or doctor reports, blood biomarkers were confirmed via a blood',\n",
       " 'pregnant or lactating in the last six months. Criteria for diabetes diagnoses were confirmed \\nthrough medical records or doctor reports, blood biomarkers were confirmed via a blood \\ntest at the screening visit, and all other criteria were confirmed by self-report. The study \\nprotocol was reviewed and approved the Institutional Review Boards at the University of \\nAlabama at Birmingham and University of Colorado Anschutz Medical Campus. The study',\n",
       " 'protocol was reviewed and approved the Institutional Review Boards at the University of \\nAlabama at Birmingham and University of Colorado Anschutz Medical Campus. The study \\nwas registered on clinicaltrials.gov  as NCT03832933 .\\nExperimental Design\\nAll participants followed the State of Slim (SOS) weight management program for the first \\n16 weeks of the program, which consisted of weekly group classes led by a trained coach.',\n",
       " 'Experimental Design\\nAll participants followed the State of Slim (SOS) weight management program for the first \\n16 weeks of the program, which consisted of weekly group classes led by a trained coach. \\nParticipants received copies of the SOS book, copies of the course materials, and access \\nto the online community. After the first 16 weeks, participants participated in the SOS',\n",
       " 'Participants received copies of the SOS book, copies of the course materials, and access \\nto the online community. After the first 16 weeks, participants participated in the SOS \\nNext Steps program which consists of 18 bi-weekly group classes for the remainder of the Clina et al. Page 3\\nObesity (Silver Spring) . Author manuscript; available in PMC 2024 August 01.',\n",
       " 'Next Steps program which consists of 18 bi-weekly group classes for the remainder of the Clina et al. Page 3\\nObesity (Silver Spring) . Author manuscript; available in PMC 2024 August 01.\\nAuthor Manuscript Author Manuscript Author Manuscript Author Manuscriptintervention. Participants were randomly assigned to one of two diet groups: the high protein \\ngroup (HP) with instructions to consume ≥4 weekly servings of lean beef as the only source',\n",
       " 'group (HP) with instructions to consume ≥4 weekly servings of lean beef as the only source \\nof red meat or a normal protein group (NP) with instructions to not eat red meat for the \\nduration of the study and followed a modified SOS diet that reduced protein intake.\\nDiet Intervention\\nThe SOS plan is broken up into three distinct phases, each of which having food lists for',\n",
       " 'duration of the study and followed a modified SOS diet that reduced protein intake.\\nDiet Intervention\\nThe SOS plan is broken up into three distinct phases, each of which having food lists for \\nparticipants to choose from as well as defined portion sizes for each food. Typically, the \\nSOS plan is a high-protein, low fat diet plan that emphasizes non starchy and whole-grain',\n",
       " 'participants to choose from as well as defined portion sizes for each food. Typically, the \\nSOS plan is a high-protein, low fat diet plan that emphasizes non starchy and whole-grain \\ncarbohydrates. The SOS plan also has five diet rules that are to be followed throughout \\neach phase: (1) Eat five to six times per day. (2) Eat breakfast within 1 hour of waking.',\n",
       " 'carbohydrates. The SOS plan also has five diet rules that are to be followed throughout \\neach phase: (1) Eat five to six times per day. (2) Eat breakfast within 1 hour of waking. \\n(3) Do not count calories; instead, measure portions. (4) Have the right protein mix at each \\nmeal (one carbohydrate and one protein at each meal). (5) Eat a healthy fat twice a day.',\n",
       " '(3) Do not count calories; instead, measure portions. (4) Have the right protein mix at each \\nmeal (one carbohydrate and one protein at each meal). (5) Eat a healthy fat twice a day. \\nFood lists for the HP and NP groups were similar, with the exception of the HP group \\nbeing asked to consume lean beef ≥4 times per week and the portion sizes for the protein',\n",
       " 'Food lists for the HP and NP groups were similar, with the exception of the HP group \\nbeing asked to consume lean beef ≥4 times per week and the portion sizes for the protein \\nbeing reduced for the NP group. Approximate carbohydrate and protein compositions were \\n32% and 40% of total energy for the HP diet, respectively and 53% and 21% for the NP',\n",
       " 'being reduced for the NP group. Approximate carbohydrate and protein compositions were \\n32% and 40% of total energy for the HP diet, respectively and 53% and 21% for the NP \\ndiet, respectively. Recommended fat intakes were similar for HP (28% of total energy) \\nand NP (26%). Food lists for each phase given to participants with adjusted portion sizes',\n",
       " 'diet, respectively. Recommended fat intakes were similar for HP (28% of total energy) \\nand NP (26%). Food lists for each phase given to participants with adjusted portion sizes \\nare presented in supplemental tables 1, 2, and 3. In addition, participants worked up to \\nexercising up to 70 minutes per day, 6 days per week as a part of the program.',\n",
       " 'are presented in supplemental tables 1, 2, and 3. In addition, participants worked up to \\nexercising up to 70 minutes per day, 6 days per week as a part of the program.\\nSelf-reported energy intake and macronutrient distribution were not tracked during the study \\nbecause a principal component of the SOS program is to focus on portion sizes as opposed \\nto counting calories (Diet Rule #3). Participants did complete food logs throughout the',\n",
       " 'because a principal component of the SOS program is to focus on portion sizes as opposed \\nto counting calories (Diet Rule #3). Participants did complete food logs throughout the \\nintervention, however these were used as a self-monitoring tool to enhance weight loss [ 30], \\nand not intended to measure energy intake or macronutrient distribution. Per the diet rules, \\na detailed food log designed to capture these data would be inconsistent with the program',\n",
       " 'and not intended to measure energy intake or macronutrient distribution. Per the diet rules, \\na detailed food log designed to capture these data would be inconsistent with the program \\ngoals and structure. Further, self-reported measured of food intake are unreliable, and their \\nsuitability for clinical research has been questioned [ 31].\\nParticipants were instructed that clinical decision making as regards T2D management was',\n",
       " 'goals and structure. Further, self-reported measured of food intake are unreliable, and their \\nsuitability for clinical research has been questioned [ 31].\\nParticipants were instructed that clinical decision making as regards T2D management was \\nto be made with their primary care provider, but participants were asked to report any \\nmedication changes to research staff as soon as feasible. Study staff also queried participants',\n",
       " 'to be made with their primary care provider, but participants were asked to report any \\nmedication changes to research staff as soon as feasible. Study staff also queried participants \\non any medication changes on a monthly basis throughout the study period.\\nProtocol Modifications due to COVID-19\\nThe original plan for this intervention was for SOS classes to be held in-person. The onset',\n",
       " 'on any medication changes on a monthly basis throughout the study period.\\nProtocol Modifications due to COVID-19\\nThe original plan for this intervention was for SOS classes to be held in-person. The onset \\nof lockdown orders in the spring of 2020 due to the COVID-19 pandemic required that \\nclasses be moved to an online platform (Zoom). The online intervention format was used',\n",
       " 'of lockdown orders in the spring of 2020 due to the COVID-19 pandemic required that \\nclasses be moved to an online platform (Zoom). The online intervention format was used \\nfor the remainder of the trial. The group classes were switched to the online format for \\ncohort 1 (Colorado) at week 7 of the intervention and at week 4 for cohort 2 (Alabama). The',\n",
       " 'for the remainder of the trial. The group classes were switched to the online format for \\ncohort 1 (Colorado) at week 7 of the intervention and at week 4 for cohort 2 (Alabama). The \\nintervention for cohort 3 (Alabama) was conducted entirely online. Weekly self-weighing \\nwas completed at home with pictures of scale weight sent to the health coaches in lieu',\n",
       " 'intervention for cohort 3 (Alabama) was conducted entirely online. Weekly self-weighing \\nwas completed at home with pictures of scale weight sent to the health coaches in lieu \\nof weighing in-person before each class. Additionally, the Week 16 study visits became Clina et al. Page 4\\nObesity (Silver Spring) . Author manuscript; available in PMC 2024 August 01.',\n",
       " 'of weighing in-person before each class. Additionally, the Week 16 study visits became Clina et al. Page 4\\nObesity (Silver Spring) . Author manuscript; available in PMC 2024 August 01.\\nAuthor Manuscript Author Manuscript Author Manuscript Author Manuscriptat-home study visits for cohorts 1 and 2 with limited data collection due to university-wide \\nrestrictions on in-person clinical research at the University of Colorado Anschutz Medical',\n",
       " 'restrictions on in-person clinical research at the University of Colorado Anschutz Medical \\nCampus and the University of Alabama at Birmingham. Participants were sent a link to \\na video call with research staff, who conducted the visit. For this manuscript, baseline \\nand week 52 data were used to assess study outcomes due to the limited data collection \\ntechniques used during the week 16 visits.\\nAnthropometric Measurements',\n",
       " 'and week 52 data were used to assess study outcomes due to the limited data collection \\ntechniques used during the week 16 visits.\\nAnthropometric Measurements\\nBody weight was measured at baseline and week 52 using a digital platform scale \\n(Colorado: Tanita BWB-800 Digital scale, Tanita Cooperation of America, Inc., Arlington',\n",
       " 'Anthropometric Measurements\\nBody weight was measured at baseline and week 52 using a digital platform scale \\n(Colorado: Tanita BWB-800 Digital scale, Tanita Cooperation of America, Inc., Arlington \\nHeights, Illinois; Alabama: DETECTO BRW1000, DETECTO, Webb City, MO) in a fasted \\nstate in clinic with participants wearing light clothing after voiding. Height was measured',\n",
       " 'Heights, Illinois; Alabama: DETECTO BRW1000, DETECTO, Webb City, MO) in a fasted \\nstate in clinic with participants wearing light clothing after voiding. Height was measured \\nusing a stadiometer in clinic at the screening visit. Body Mass Index (BMI, kg/m2) was \\ncalculated using these measurements. Body composition (fat and lean mass) was measured',\n",
       " 'using a stadiometer in clinic at the screening visit. Body Mass Index (BMI, kg/m2) was \\ncalculated using these measurements. Body composition (fat and lean mass) was measured \\nusing dual x ‐ray absorptiometry at baseline and week 52 (Colorado: Horizon W, APEX \\nsoftware version 5.6.05 Hologic, Inc., Marlborough, MA, USA; Alabama GE Lunar Prodigy',\n",
       " 'software version 5.6.05 Hologic, Inc., Marlborough, MA, USA; Alabama GE Lunar Prodigy \\nPrimo, enCORE software version 15.10.046, GE Healthcare, Chicago, IL, USA). Waist \\ncircumference (WC) was measured at the border of the iliac crest in duplicate in accordance \\nwith the National Institutes of Health recommendations [ 32], measured at baseline and week \\n52.',\n",
       " 'circumference (WC) was measured at the border of the iliac crest in duplicate in accordance \\nwith the National Institutes of Health recommendations [ 32], measured at baseline and week \\n52.\\nCardiometabolic Health\\nBlood samples were obtained at baseline and week 52 from an antecubital vein by a \\ntrained phlebotomist. Samples were processed and analyzed for glucose, total cholesterol,',\n",
       " '52.\\nCardiometabolic Health\\nBlood samples were obtained at baseline and week 52 from an antecubital vein by a \\ntrained phlebotomist. Samples were processed and analyzed for glucose, total cholesterol, \\nlow‐density lipoprotein cholesterol (LDL; calculated), high ‐density lipoprotein cholesterol \\n(HDL), triglycerides, HbA1c, and blood urea nitrogen (BUN). Blood samples were',\n",
       " 'low‐density lipoprotein cholesterol (LDL; calculated), high ‐density lipoprotein cholesterol \\n(HDL), triglycerides, HbA1c, and blood urea nitrogen (BUN). Blood samples were \\nprocessed at the University of Alabama Outreach Lab for Alabama samples and at \\nUniversity of Colorado Hospital Clinical Lab for screening and at the Adult CTRC Core lab',\n",
       " 'processed at the University of Alabama Outreach Lab for Alabama samples and at \\nUniversity of Colorado Hospital Clinical Lab for screening and at the Adult CTRC Core lab \\nfor baseline and week 52 visits for Colorado samples. Blood pressure was measured at each \\nin-person study visit using at the left upper arm using an automatic sphygmomanometer',\n",
       " 'for baseline and week 52 visits for Colorado samples. Blood pressure was measured at each \\nin-person study visit using at the left upper arm using an automatic sphygmomanometer \\n(Colorado: Datascope Trio, (Serial# MC07547-A5) Digital Patient Monitor; Alabama, \\nOmron 3-Series Upper Arm Blood Pressure Monitor, OMRON Healthcare Inc., Kyoto,',\n",
       " '(Colorado: Datascope Trio, (Serial# MC07547-A5) Digital Patient Monitor; Alabama, \\nOmron 3-Series Upper Arm Blood Pressure Monitor, OMRON Healthcare Inc., Kyoto, \\nJapan). Blood pressure was measured after the participant rested quietly in a seated position \\nfor ≥5 min with participants’ legs uncrossed and back and arms supported. The measurement',\n",
       " 'Japan). Blood pressure was measured after the participant rested quietly in a seated position \\nfor ≥5 min with participants’ legs uncrossed and back and arms supported. The measurement \\nwas taken two times and if the reading differed by more than 5 mmHg, a third measurement \\nwas obtained.\\nStatistical Analyses\\nAll study data were collected and managed using REDCap electronic data capture tools',\n",
       " 'was taken two times and if the reading differed by more than 5 mmHg, a third measurement \\nwas obtained.\\nStatistical Analyses\\nAll study data were collected and managed using REDCap electronic data capture tools \\nhosted at the University of Alabama at Birmingham and University of Colorado Denver [ 33, \\n34]. REDCap is a secure, web-based software platform designed to support data capture',\n",
       " 'hosted at the University of Alabama at Birmingham and University of Colorado Denver [ 33, \\n34]. REDCap is a secure, web-based software platform designed to support data capture \\nfor research studies, providing (1) an intuitive interface for validated data capture; (2) audit \\ntrails for tracking data manipulation and export procedures; (3) automated export procedures',\n",
       " 'for research studies, providing (1) an intuitive interface for validated data capture; (2) audit \\ntrails for tracking data manipulation and export procedures; (3) automated export procedures \\nfor seamless data downloads to common statistical packages; and (4) procedures for data Clina et al. Page 5\\nObesity (Silver Spring) . Author manuscript; available in PMC 2024 August 01.',\n",
       " 'for seamless data downloads to common statistical packages; and (4) procedures for data Clina et al. Page 5\\nObesity (Silver Spring) . Author manuscript; available in PMC 2024 August 01.\\nAuthor Manuscript Author Manuscript Author Manuscript Author Manuscriptintegration and interoperability with external sources. All analyses were completed using \\nSAS (version 9.4, 2002–2012 by SAS Institute Inc.).',\n",
       " 'Author Manuscript Author Manuscript Author Manuscript Author Manuscriptintegration and interoperability with external sources. All analyses were completed using \\nSAS (version 9.4, 2002–2012 by SAS Institute Inc.).\\nA sample size of 120 participants was targeted based on findings from the Beef WISE \\nStudy [ 25] to detect a 2.75 kg difference in weight loss between the HP and NP. Weight',\n",
       " 'A sample size of 120 participants was targeted based on findings from the Beef WISE \\nStudy [ 25] to detect a 2.75 kg difference in weight loss between the HP and NP. Weight \\nloss achieved by the ‘Beef’ group in the Beef WISE Study was 8.9±6.0 kg, and this \\ngroup received the same dietary plan and counseling as the HP group in the current',\n",
       " 'loss achieved by the ‘Beef’ group in the Beef WISE Study was 8.9±6.0 kg, and this \\ngroup received the same dietary plan and counseling as the HP group in the current \\nstudy. Assuming a similar amount and variability in achieved weight loss, statistical power \\ncalculations indicated that sample size of 112 (56 per group) would provide >80% power ( α',\n",
       " 'study. Assuming a similar amount and variability in achieved weight loss, statistical power \\ncalculations indicated that sample size of 112 (56 per group) would provide >80% power ( α \\n= 0.05) to detect a 2.75 kg difference in weight loss.\\nBaseline characteristics were assessed by diet group (HP and NP) as well as the total of \\nthe whole sample. Randomization was performed by the statistician and was stratified by',\n",
       " 'Baseline characteristics were assessed by diet group (HP and NP) as well as the total of \\nthe whole sample. Randomization was performed by the statistician and was stratified by \\nage, sex, BMI, and years since diagnosis of T2D. Differences in baseline characteristic \\nwere assessed using paired t-tests or Chi-squared tests. Linear mixed models (LMM) with',\n",
       " 'age, sex, BMI, and years since diagnosis of T2D. Differences in baseline characteristic \\nwere assessed using paired t-tests or Chi-squared tests. Linear mixed models (LMM) with \\nunstructured covariance were used to test the effect of diet group, time, and their interaction \\nterm for changes in body weight and composition, and cardiometabolic health using and',\n",
       " 'unstructured covariance were used to test the effect of diet group, time, and their interaction \\nterm for changes in body weight and composition, and cardiometabolic health using and \\nintention to treat approach (ITT), meaning that all participants that were randomized and \\nhave one or more measures were included in LMM analyses regardless of completion of \\nprotocol or adherence. Differences in frequency of reducing or discontinuing medication for',\n",
       " 'have one or more measures were included in LMM analyses regardless of completion of \\nprotocol or adherence. Differences in frequency of reducing or discontinuing medication for \\nT2D was assessed using Chi-squared tests. SAS 9.4 was used for all the analyses. P<0.05 is \\ndeemed statistically significant.\\nResults\\nBaseline Characteristics of Participants\\nBaseline characteristic of participants are presented in Table 1. No differences in any',\n",
       " 'deemed statistically significant.\\nResults\\nBaseline Characteristics of Participants\\nBaseline characteristic of participants are presented in Table 1. No differences in any \\nbaseline characteristics were detected between HP and NP. Participant retention at 52 weeks \\ndid not differ between HP and NP (completed: HP n=37 (69.8%); NP n=34 (64.2%), p= \\n0.51).\\nAdverse Events',\n",
       " 'did not differ between HP and NP (completed: HP n=37 (69.8%); NP n=34 (64.2%), p= \\n0.51).\\nAdverse Events\\nNo adverse events likely to be related to the study were reported by participants in either \\ngroup.\\nWeight Loss and Body Composition\\nChanges in body weight and composition are shown in Figure 2. Total mass was reduced by',\n",
       " 'No adverse events likely to be related to the study were reported by participants in either \\ngroup.\\nWeight Loss and Body Composition\\nChanges in body weight and composition are shown in Figure 2. Total mass was reduced by \\n10.2±1.6 kg (9.4%) in the HP group and 12.7±4.8 kg (11.8%) in the NP group (Figure 2),',\n",
       " '10.2±1.6 kg (9.4%) in the HP group and 12.7±4.8 kg (11.8%) in the NP group (Figure 2), \\nwith no difference between groups ( p=0.336). Fat mass percent decreased (HP, 46.2±0.8%',\n",
       " 'with no difference between groups ( p=0.336). Fat mass percent decreased (HP, 46.2±0.8% \\nvs. 41.9±1.1%, p<0.001; NP, 46.6±0.8% vs. 42.8±1.6%, p<0.001) and fat free mass percent',\n",
       " 'increased (HP, 52.9±0.8% vs. 57.1±1.1%, p<0.001; NP, 51.8±1.6%, vs. 55.4±0.8% p<0.001) \\nin both groups during the intervention period with no significant difference between HP and',\n",
       " 'in both groups during the intervention period with no significant difference between HP and \\nNP (fat mass percent, p = 0.665; fat free mass percent, p = 0.689). Both the HP and NP \\ngroups reduced waist circumference (HP, 118±2.0 cm vs. 111±2.1 cm, p=<0.001; NP, 117±2',\n",
       " 'groups reduced waist circumference (HP, 118±2.0 cm vs. 111±2.1 cm, p=<0.001; NP, 117±2 \\ncm vs. 109±2 cm, p=<0.001) and BMI (HP, 38.7±1.0 kg/m2 vs. 35.0±1.0 kg/m2, p=<0.001; Clina et al. Page 6',\n",
       " 'Obesity (Silver Spring) . Author manuscript; available in PMC 2024 August 01.\\nAuthor Manuscript Author Manuscript Author Manuscript Author ManuscriptNP, 38.8±1.0 kg/m2 cm vs. 34.4±1.0 kg/m2, p=<0.001) from baseline to week 52, with no',\n",
       " 'differences between groups (waist circumference, p=0.934; BMI, p=0.421). Supplemental \\nfigure 1 includes additional plots related to body composition changes by group.\\nIndicators of Type 2 Diabetes\\nChanges in indicators of type 2 diabetes are presented in Table 2. In general, participants \\nreduced HbA1c, fasting glucose and HOMA-IR with no differences in changes between HP',\n",
       " 'Changes in indicators of type 2 diabetes are presented in Table 2. In general, participants \\nreduced HbA1c, fasting glucose and HOMA-IR with no differences in changes between HP \\nand NP. Data describing participants with HbA1c ≥6.5% or fasting glucose ≥126 mg/dL \\n(clinically diagnostic of T2D) at baseline and week 52 by diet group are presented in Table',\n",
       " '(clinically diagnostic of T2D) at baseline and week 52 by diet group are presented in Table \\n3. At baseline, 73.6% of participants in the HP group and 62.3% of participants in the NP \\ngroup had biomarkers in the range for T2D. Using the ITT approach, 24.5% and 22.6% \\nof participants in the HP and NP groups respectively reduced these values to no longer',\n",
       " 'group had biomarkers in the range for T2D. Using the ITT approach, 24.5% and 22.6% \\nof participants in the HP and NP groups respectively reduced these values to no longer \\nmeet diagnostic criteria for T2D. Using the completer analyses, these numbers are 38.2% \\nand 38.5% for the HP and NP groups respectively. Four participants in the HP group and',\n",
       " 'meet diagnostic criteria for T2D. Using the completer analyses, these numbers are 38.2% \\nand 38.5% for the HP and NP groups respectively. Four participants in the HP group and \\n1 participant in the NP group were classified as having a negative change, with values at \\nbaseline not meeting criteria for T2D diagnosis, but meeting these criteria at week 52. There',\n",
       " '1 participant in the NP group were classified as having a negative change, with values at \\nbaseline not meeting criteria for T2D diagnosis, but meeting these criteria at week 52. There \\nwere no differences between diet groups for any changes in T2D indicators. Also during \\nthe trial, n=14 participants (HP, n=5; NP, n=9) discontinued all T2D medications and n=16',\n",
       " 'the trial, n=14 participants (HP, n=5; NP, n=9) discontinued all T2D medications and n=16 \\n(HP, n=7; NP, n=9) reduced at least one T2D medication. The frequency of discontinuing or \\nreducing T2D medications was not statistically different between HP and NP ( p=0.4358).\\nLaboratory Markers',\n",
       " 'reducing T2D medications was not statistically different between HP and NP ( p=0.4358).\\nLaboratory Markers\\nChanges in blood pressure, lipids, and BUN are summarized in Table 4. Participants reduced \\nsystolic and diastolic blood pressures, and triglycerides with no differences between groups. \\nBUN was increased in both groups at week 52 compared to baseline with no difference',\n",
       " 'systolic and diastolic blood pressures, and triglycerides with no differences between groups. \\nBUN was increased in both groups at week 52 compared to baseline with no difference \\nbetween HP and NP. There were no changes in total cholesterol, HDL cholesterol, or LDL \\ncholesterol in either group over the duration of the intervention.\\nDiscussion\\nBoth the HP and NP diet groups significantly reduced weight and improved in key indicators',\n",
       " 'cholesterol in either group over the duration of the intervention.\\nDiscussion\\nBoth the HP and NP diet groups significantly reduced weight and improved in key indicators \\nof T2D with no difference between groups. These findings support data suggesting that \\nweight loss is the primary driver of improvements in glucose control. Results from the Look \\nAHEAD (Action for Health in Diabetes) study found that those with a 5–10% reduction',\n",
       " 'weight loss is the primary driver of improvements in glucose control. Results from the Look \\nAHEAD (Action for Health in Diabetes) study found that those with a 5–10% reduction \\nin weight had increased odds of achieving a 0.5% reduction in HbA1c (odds ratio 3.52) \\n[35]. Evidence from review papers also suggests that modest weight loss can successfully',\n",
       " 'in weight had increased odds of achieving a 0.5% reduction in HbA1c (odds ratio 3.52) \\n[35]. Evidence from review papers also suggests that modest weight loss can successfully \\nresult in remission of T2D in many individuals [ 36]. Findings from the current study further \\nsupport the notion that weight loss can produce improvements in glucose control in many',\n",
       " 'result in remission of T2D in many individuals [ 36]. Findings from the current study further \\nsupport the notion that weight loss can produce improvements in glucose control in many \\nwith T2D. Average weight loss in the current study was consistent with that found to cause \\nimprovements in T2D in the majority of participants in DiRECT [ 15]. Our results extend \\nthose of previous research by demonstrating that weight loss is an effective treatment for',\n",
       " 'improvements in T2D in the majority of participants in DiRECT [ 15]. Our results extend \\nthose of previous research by demonstrating that weight loss is an effective treatment for \\nT2D.\\nContrary to the hypothesis, the HP diet did not result in greater weight loss when compared \\nto the NP diet. Instead, the groups had similar weight loss and body composition changes Clina et al. Page 7',\n",
       " 'T2D.\\nContrary to the hypothesis, the HP diet did not result in greater weight loss when compared \\nto the NP diet. Instead, the groups had similar weight loss and body composition changes Clina et al. Page 7\\nObesity (Silver Spring) . Author manuscript; available in PMC 2024 August 01.\\nAuthor Manuscript Author Manuscript Author Manuscript Author Manuscriptfollowing the intervention. It was also hypothesized that the HP group would result in',\n",
       " 'Obesity (Silver Spring) . Author manuscript; available in PMC 2024 August 01.\\nAuthor Manuscript Author Manuscript Author Manuscript Author Manuscriptfollowing the intervention. It was also hypothesized that the HP group would result in \\npreferential loss of fat mass compared to fat free mass which was also not supported. A \\nrecent review suggested that a weight loss could increase risk of mortality for those recently',\n",
       " 'preferential loss of fat mass compared to fat free mass which was also not supported. A \\nrecent review suggested that a weight loss could increase risk of mortality for those recently \\ndiagnosed with T2D potentially as a result in a decline in appendicular lean mass [ 37]. \\nWhile appendicular body composition was not analyzed for the present study, whole-body \\nfat free mass was only slightly reduced with no significant differences between groups. The',\n",
       " 'While appendicular body composition was not analyzed for the present study, whole-body \\nfat free mass was only slightly reduced with no significant differences between groups. The \\npreferential loss of fat mass in both diet groups in the present study lessens concerns related \\nto potential weight loss-related adverse events.\\nResults from this study also add to the literature regarding the impact of HP diets during',\n",
       " 'preferential loss of fat mass in both diet groups in the present study lessens concerns related \\nto potential weight loss-related adverse events.\\nResults from this study also add to the literature regarding the impact of HP diets during \\nweight loss for individuals with T2D. The HP and NP groups had similar reduction in \\nindices of T2D, including HbA1c and fasting glucose. Some trials have demonstrated that',\n",
       " 'weight loss for individuals with T2D. The HP and NP groups had similar reduction in \\nindices of T2D, including HbA1c and fasting glucose. Some trials have demonstrated that \\na HP diet is more beneficial than a high carbohydrate diet in outcomes associated with \\nT2D [ 19, 38]. However, One trial in post-menopausal women demonstrated that a HP diet',\n",
       " 'a HP diet is more beneficial than a high carbohydrate diet in outcomes associated with \\nT2D [ 19, 38]. However, One trial in post-menopausal women demonstrated that a HP diet \\nduring weight loss could negatively insulin action [ 20], however this did not seem to be \\nthe case in the present study, as marked by similar improvements in HOMA-IR across',\n",
       " 'during weight loss could negatively insulin action [ 20], however this did not seem to be \\nthe case in the present study, as marked by similar improvements in HOMA-IR across \\ngroups. In the present study, at baseline, 73.6% of participants in the HP group and 62.3% \\nof participants in the NP group had biomarkers in the range for T2D. Notably, inclusion',\n",
       " 'groups. In the present study, at baseline, 73.6% of participants in the HP group and 62.3% \\nof participants in the NP group had biomarkers in the range for T2D. Notably, inclusion \\ninto the study was based on previously diagnosed T2D but did not require participants to \\npresent with a diagnostic value for A1c or fasting glucose at baseline. This resulted in some',\n",
       " 'into the study was based on previously diagnosed T2D but did not require participants to \\npresent with a diagnostic value for A1c or fasting glucose at baseline. This resulted in some \\nparticipants having A1c or fasting glucose below the diabetic range at study entry. This is \\nlikely because many participants were taking T2D medications at baseline and they were \\nnot required to discontinue medications at study entry as has been done in other studies',\n",
       " 'likely because many participants were taking T2D medications at baseline and they were \\nnot required to discontinue medications at study entry as has been done in other studies \\nsuch as DiRECT [ 15]. Participants exhibiting indices of T2D was reduced to 35.1% and \\n32.4% in the HP and NP groups, respectively. These findings strongly suggest that achieved \\nweight loss – regardless of dietary pattern – is the primary factor driving improvements',\n",
       " '32.4% in the HP and NP groups, respectively. These findings strongly suggest that achieved \\nweight loss – regardless of dietary pattern – is the primary factor driving improvements \\nin glucose control. This finding has substantial public health implications as it provides a \\ndegree of individual-level flexibility in choosing a dietary pattern that is consistent with \\npatient preferences.\\nThese results demonstrate that the inclusion of lean, minimally processed beef does not',\n",
       " 'degree of individual-level flexibility in choosing a dietary pattern that is consistent with \\npatient preferences.\\nThese results demonstrate that the inclusion of lean, minimally processed beef does not \\nimpact the effectiveness of an energy restricted diet to induce weight loss and improvements \\nin cardiometabolic health. Previous work from our group found equivalent changes in body \\nweight and composition between a HP diet including beef and a HP diet excluding all red',\n",
       " 'in cardiometabolic health. Previous work from our group found equivalent changes in body \\nweight and composition between a HP diet including beef and a HP diet excluding all red \\nmeat [ 25]. The present study builds on this work, through the investigation of two diets \\nwith differing recommended macronutrient compositions. From these data, it is evident that \\nminimally processed, lean beef can be safely included in diets when attempting to lose',\n",
       " 'with differing recommended macronutrient compositions. From these data, it is evident that \\nminimally processed, lean beef can be safely included in diets when attempting to lose \\nweight and control glucose.\\nA limitation of this trial was that despite giving explicit diet rules and lists to participants, \\nboth groups saw an equivalent increase in BUN from baseline to week 52. This finding \\ncould indicate that the protein composition of the diet groups likely did not reach the',\n",
       " 'both groups saw an equivalent increase in BUN from baseline to week 52. This finding \\ncould indicate that the protein composition of the diet groups likely did not reach the \\nintended macronutrient distributions, with the groups consuming similar amounts of protein. \\nThe study might not have been able to detect the true impact on improvements in T2D \\nmarkers because participants discontinued medication as recommended by their primary',\n",
       " 'The study might not have been able to detect the true impact on improvements in T2D \\nmarkers because participants discontinued medication as recommended by their primary \\ncare providers. This could mean that the observed intervention could have had a greater Clina et al. Page 8\\nObesity (Silver Spring) . Author manuscript; available in PMC 2024 August 01.',\n",
       " 'care providers. This could mean that the observed intervention could have had a greater Clina et al. Page 8\\nObesity (Silver Spring) . Author manuscript; available in PMC 2024 August 01.\\nAuthor Manuscript Author Manuscript Author Manuscript Author Manuscripteffect if those participants had stayed on their medications. Additionally, the COVID-19 \\npandemic began during the first cohort of the AL and CO groups and lasted throughout the',\n",
       " 'pandemic began during the first cohort of the AL and CO groups and lasted throughout the \\nrest of the study. The onset of the pandemic resulted in several methodological changes of \\nthe study and impacted the lives of participants taking part in the intervention. Fortunately, \\nthe SOS program had been previously delivered in a virtual format, so changes to course \\ncontent were minor. Classes were still able to be held at the usual time, but in a virtual',\n",
       " 'the SOS program had been previously delivered in a virtual format, so changes to course \\ncontent were minor. Classes were still able to be held at the usual time, but in a virtual \\nsetting. However, research study visits were completely halted for a period during the study, \\nhence the completion of some of the week 16 visits virtually instead of in-person. This \\nchange limited the data that could be collected at this timepoint. In addition, some outcome',\n",
       " 'hence the completion of some of the week 16 visits virtually instead of in-person. This \\nchange limited the data that could be collected at this timepoint. In addition, some outcome \\nmeasures tests that were originally collected in person could no longer be collected at all, \\neven when restrictions were lifted, including resting energy expenditure and six-minute walk \\ntest. These two tests were removed because masks were still required in the research facility',\n",
       " 'even when restrictions were lifted, including resting energy expenditure and six-minute walk \\ntest. These two tests were removed because masks were still required in the research facility \\nand since baseline measurements were collected without masks, it was unclear if the use of \\nmasks at future visits would impact results. Some participants who withdrew from the study \\ncited COVID-19 as a primary reason for leaving, such as increased work demands. Total',\n",
       " 'masks at future visits would impact results. Some participants who withdrew from the study \\ncited COVID-19 as a primary reason for leaving, such as increased work demands. Total \\nattrition overall was high at 33%, which is likely due in part to the challenges faced during \\nthe COVID-19 pandemic. Despite challenges, the study team was able to adapt swiftly to the \\nnature of the pandemic and continue the intervention and data collection.',\n",
       " 'the COVID-19 pandemic. Despite challenges, the study team was able to adapt swiftly to the \\nnature of the pandemic and continue the intervention and data collection.\\nThese result show that behavioral weight loss programs can produce significant weight loss \\nin those with T2D and that this weight loss can improve glucose control and many other \\naspects of cardiometabolic health. Results also show that avoiding red meat does not provide',\n",
       " 'in those with T2D and that this weight loss can improve glucose control and many other \\naspects of cardiometabolic health. Results also show that avoiding red meat does not provide \\nan advantage either in weight loss or in disease management.\\nSupplementary Material\\nRefer to Web version on PubMed Central for supplementary material.\\nAcknowledgements\\nThe authors acknowledge Jeanne Anne Breen and Aaron Chestnut for their effort in the recruitment, retention,',\n",
       " 'Supplementary Material\\nRefer to Web version on PubMed Central for supplementary material.\\nAcknowledgements\\nThe authors acknowledge Jeanne Anne Breen and Aaron Chestnut for their effort in the recruitment, retention, \\nand completion of study visits. The authors would also like to acknowledge Marsha Miller for coaching the SOS \\nclasses at the CO site. Finally, the authors acknowledge the participants for their contribution to the study and time',\n",
       " 'and completion of study visits. The authors would also like to acknowledge Marsha Miller for coaching the SOS \\nclasses at the CO site. Finally, the authors acknowledge the participants for their contribution to the study and time \\nand effort put forth as a part of this trial. Funding for the parent trial was provided by the Beef Checkoff. This \\nwork was also supported by NIH/NCATS Colorado CTSA Grant Number UL1 TR002535 and by Award Number',\n",
       " 'work was also supported by NIH/NCATS Colorado CTSA Grant Number UL1 TR002535 and by Award Number \\nP30DK056336 from the National Institute Of Diabetes And Digestive And Kidney Diseases. The content is solely \\nthe responsibility of the authors and does not necessarily represent the official views of the National Institute Of \\nDiabetes And Digestive And Kidney Diseases or the National Institutes of Health. The corresponding author will',\n",
       " 'the responsibility of the authors and does not necessarily represent the official views of the National Institute Of \\nDiabetes And Digestive And Kidney Diseases or the National Institutes of Health. The corresponding author will \\ncooperate with any requests for data sharing. Any data described in the manuscript will be made available upon \\nrequest pending application and approval.\\nFunding:',\n",
       " 'cooperate with any requests for data sharing. Any data described in the manuscript will be made available upon \\nrequest pending application and approval.\\nFunding:\\nFunding for this study was provided by The Beef Checkoff/National Cattlemen’s Beef Association and the \\nUniversity of Alabama at Birmingham, Nutrition Obesity Research Center. The financial supporters had no role in \\nthe design and conduct of the study or collection, analysis, and interpretation of the data.',\n",
       " 'University of Alabama at Birmingham, Nutrition Obesity Research Center. The financial supporters had no role in \\nthe design and conduct of the study or collection, analysis, and interpretation of the data.\\nJOH and HRW have received royalties from the book, State of Slim. They have ownership in Shakabuku LLC, \\nwhich offers weight loss to the public. HRW has received grant support for unrelated studies from Gelesis, Novo',\n",
       " 'which offers weight loss to the public. HRW has received grant support for unrelated studies from Gelesis, Novo \\nNordisk, Epitome, and General Mills, Inc., and has done consulting for Gelesis and reports speaking fees from \\nNovo Nordisk, and the National Cattlemen’s Beef Association. JOH has received grant funding for unrelated',\n",
       " 'Novo Nordisk, and the National Cattlemen’s Beef Association. JOH has received grant funding for unrelated \\nstudies from Gelesis and has done consulting for Gelesis, General Mills, Inc., and McCormick Science Institute. Clina et al. Page 9\\nObesity (Silver Spring) . Author manuscript; available in PMC 2024 August 01.',\n",
       " 'Obesity (Silver Spring) . Author manuscript; available in PMC 2024 August 01.\\nAuthor Manuscript Author Manuscript Author Manuscript Author ManuscriptRDS has received grant support for an unrelated study from General Mills, Inc., and reports speaking fees from the \\nTexas Beef Council.\\nReferences\\n1. Control, C.f.D. and Prevention, National diabetes statistics report: estimates of diabetes and its',\n",
       " 'Texas Beef Council.\\nReferences\\n1. Control, C.f.D. and Prevention, National diabetes statistics report: estimates of diabetes and its \\nburden in the United States, 2014. Atlanta, GA: US Department of Health and Human Services, \\n2014. 2014.\\n2. Einarson TR, et al. , Prevalence of cardiovascular disease in type 2 diabetes: a systematic literature',\n",
       " '2014. 2014.\\n2. Einarson TR, et al. , Prevalence of cardiovascular disease in type 2 diabetes: a systematic literature \\nreview of scientific evidence from across the world in 2007–2017. Cardiovascular Diabetology, \\n2018. 17(1): p. 83. [PubMed: 29884191]',\n",
       " 'review of scientific evidence from across the world in 2007–2017. Cardiovascular Diabetology, \\n2018. 17(1): p. 83. [PubMed: 29884191] \\n3. Afkarian M, et al. , Kidney disease and increased mortality risk in type 2 diabetes. Journal of the \\nAmerican Society of Nephrology, 2013. 24(2): p. 302–308. [PubMed: 23362314]',\n",
       " 'American Society of Nephrology, 2013. 24(2): p. 302–308. [PubMed: 23362314] \\n4. Koye DN, et al. , The global epidemiology of diabetes and kidney disease. Advances in chronic \\nkidney disease, 2018. 25(2): p. 121–132. [PubMed: 29580576]',\n",
       " 'kidney disease, 2018. 25(2): p. 121–132. [PubMed: 29580576] \\n5. Muller IS, et al. , Foot ulceration and lower limb amputation in type 2 diabetic patients in Dutch \\nprimary health care. Diabetes care, 2002. 25(3): p. 570–574. [PubMed: 11874949]',\n",
       " 'primary health care. Diabetes care, 2002. 25(3): p. 570–574. [PubMed: 11874949] \\n6. Shatnawi NJ, et al. , Predictors of major lower limb amputation in type 2 diabetic patients referred \\nfor hospital care with diabetic foot syndrome. Diabetes, metabolic syndrome and obesity: targets \\nand therapy, 2018. 11: p. 313. [PubMed: 29950877]',\n",
       " 'for hospital care with diabetic foot syndrome. Diabetes, metabolic syndrome and obesity: targets \\nand therapy, 2018. 11: p. 313. [PubMed: 29950877] \\n7. Singh N, Armstrong DG, and Lipsky BA, Preventing foot ulcers in patients with diabetes. Jama, \\n2005. 293(2): p. 217–228. [PubMed: 15644549]',\n",
       " '2005. 293(2): p. 217–228. [PubMed: 15644549] \\n8. Berster JM and Göke B, Type 2 diabetes mellitus as risk factor for colorectal cancer. Archives of \\nphysiology and biochemistry, 2008. 114(1): p. 84–98. [PubMed: 18465362]',\n",
       " 'physiology and biochemistry, 2008. 114(1): p. 84–98. [PubMed: 18465362] \\n9. Cheung N. and Wong TY , Diabetic retinopathy and systemic vascular complications. Progress in \\nretinal and eye research, 2008. 27(2): p. 161–176. [PubMed: 18249026]',\n",
       " 'retinal and eye research, 2008. 27(2): p. 161–176. [PubMed: 18249026] \\n10. Sasongko MB, et al. , Prevalence of diabetic retinopathy and blindness in Indonesian adults with \\ntype 2 diabetes. American journal of ophthalmology, 2017. 181: p. 79–87. [PubMed: 28669781]',\n",
       " 'type 2 diabetes. American journal of ophthalmology, 2017. 181: p. 79–87. [PubMed: 28669781] \\n11. Albu J. and Pi-Sunyer FX, Obesity and diabetes, in Handbook of obesity. 2003, CRC Press. p. \\n915–934.\\n12. Maggio CA and Pi-Sunyer FX, Obesity and type 2 diabetes. Endocrinology and Metabolism',\n",
       " '915–934.\\n12. Maggio CA and Pi-Sunyer FX, Obesity and type 2 diabetes. Endocrinology and Metabolism \\nClinics, 2003. 32(4): p. 805–822. [PubMed: 14711063] \\n13. Apovian CM, Obesity: definition, comorbidities, causes, and burden. Am J Manag Care, 2016.',\n",
       " '13. Apovian CM, Obesity: definition, comorbidities, causes, and burden. Am J Manag Care, 2016. \\n22(7 Suppl): p. s176–85. [PubMed: 27356115] \\n14. Schelbert KB, Comorbidities of obesity. Primary Care: Clinics in Office Practice, 2009. 36(2): p.',\n",
       " '14. Schelbert KB, Comorbidities of obesity. Primary Care: Clinics in Office Practice, 2009. 36(2): p. \\n271–285. [PubMed: 19501243] \\n15. Lean ME, et al. , Primary care-led weight management for remission of type 2 diabetes (DiRECT):',\n",
       " '271–285. [PubMed: 19501243] \\n15. Lean ME, et al. , Primary care-led weight management for remission of type 2 diabetes (DiRECT): \\nan open-label, cluster-randomised trial. The Lancet, 2018. 391(10120): p. 541–551.\\n16. Wycherley TP, et al. , Effects of energy-restricted high-protein, low-fat compared with standard-',\n",
       " '16. Wycherley TP, et al. , Effects of energy-restricted high-protein, low-fat compared with standard-\\nprotein, low-fat diets: a meta-analysis of randomized controlled trials. The American journal of \\nclinical nutrition, 2012. 96(6): p. 1281–1298. [PubMed: 23097268]',\n",
       " 'protein, low-fat diets: a meta-analysis of randomized controlled trials. The American journal of \\nclinical nutrition, 2012. 96(6): p. 1281–1298. [PubMed: 23097268] \\n17. Wycherley TP, et al. , A high-protein diet with resistance exercise training improves weight loss \\nand body composition in overweight and obese patients with type 2 diabetes. Diabetes care, 2010.',\n",
       " '17. Wycherley TP, et al. , A high-protein diet with resistance exercise training improves weight loss \\nand body composition in overweight and obese patients with type 2 diabetes. Diabetes care, 2010. \\n33(5): p. 969–976. [PubMed: 20150293] \\n18. Leidy HJ, et al. , The role of protein in weight loss and maintenance. The American journal of',\n",
       " '33(5): p. 969–976. [PubMed: 20150293] \\n18. Leidy HJ, et al. , The role of protein in weight loss and maintenance. The American journal of \\nclinical nutrition, 2015. 101(6): p. 1320S–1329S. [PubMed: 25926512]',\n",
       " 'clinical nutrition, 2015. 101(6): p. 1320S–1329S. [PubMed: 25926512] \\n19. Kitabchi AE, et al. , Effects of high-protein versus high-carbohydrate diets on markers of β-cell \\nfunction, oxidative stress, lipid peroxidation, proinflammatory cytokines, and adipokines in obese,',\n",
       " 'function, oxidative stress, lipid peroxidation, proinflammatory cytokines, and adipokines in obese, \\npremenopausal women without diabetes: a randomized controlled trial. Diabetes care, 2013. 36(7): \\np. 1919–1925. [PubMed: 23404297] \\n20. Smith Gordon I., et al. , High-Protein Intake during Weight Loss Therapy Eliminates the Weight-',\n",
       " 'p. 1919–1925. [PubMed: 23404297] \\n20. Smith Gordon I., et al. , High-Protein Intake during Weight Loss Therapy Eliminates the Weight-\\nLoss-Induced Improvement in Insulin Action in Obese Postmenopausal Women. Cell Reports, \\n2016. 17(3): p. 849–861. [PubMed: 27732859] Clina et al. Page 10',\n",
       " '2016. 17(3): p. 849–861. [PubMed: 27732859] Clina et al. Page 10\\nObesity (Silver Spring) . Author manuscript; available in PMC 2024 August 01.\\nAuthor Manuscript Author Manuscript Author Manuscript Author Manuscript21. Daniel CR, et al. , Trends in meat consumption in the USA. Public health nutrition, 2011. 14(4): p.',\n",
       " 'Author Manuscript Author Manuscript Author Manuscript Author Manuscript21. Daniel CR, et al. , Trends in meat consumption in the USA. Public health nutrition, 2011. 14(4): p. \\n575–583. [PubMed: 21070685] \\n22. Barnard N, Levin S, and Trapp C, Correction: Barnard N, et al. Meat Consumption as a Risk Factor',\n",
       " '575–583. [PubMed: 21070685] \\n22. Barnard N, Levin S, and Trapp C, Correction: Barnard N, et al. Meat Consumption as a Risk Factor \\nfor Type 2 Diabetes. Nutrients 2014, 6, 897–910. Nutrients, 2014. 6(10): p. 4317–4319. [PubMed: \\n24566443]',\n",
       " 'for Type 2 Diabetes. Nutrients 2014, 6, 897–910. Nutrients, 2014. 6(10): p. 4317–4319. [PubMed: \\n24566443] \\n23. Pan A, et al. , Changes in red meat consumption and subsequent risk of type 2 diabetes mellitus:',\n",
       " '24566443] \\n23. Pan A, et al. , Changes in red meat consumption and subsequent risk of type 2 diabetes mellitus: \\nthree cohorts of US men and women. JAMA internal medicine, 2013. 173(14): p. 1328–1335. \\n[PubMed: 23779232] \\n24. Sayer RD, et al. , Dietary Approaches to Stop Hypertension diet retains effectiveness to reduce',\n",
       " '[PubMed: 23779232] \\n24. Sayer RD, et al. , Dietary Approaches to Stop Hypertension diet retains effectiveness to reduce \\nblood pressure when lean pork is substituted for chicken and fish as the predominant source \\nof protein. The American journal of clinical nutrition, 2015. 102(2): p. 302–308. [PubMed: \\n26063693]',\n",
       " 'of protein. The American journal of clinical nutrition, 2015. 102(2): p. 302–308. [PubMed: \\n26063693] \\n25. Sayer R, et al. , Equivalent reductions in body weight during the Beef WISE Study: beef’s role in \\nweight improvement, satisfaction and energy. Obesity science & practice, 2017. 3(3): p. 298–310.',\n",
       " 'weight improvement, satisfaction and energy. Obesity science & practice, 2017. 3(3): p. 298–310. \\n[PubMed: 29071106] \\n26. Roussell MA, et al. , Beef in an Optimal Lean Diet study: effects on lipids, lipoproteins, and',\n",
       " '[PubMed: 29071106] \\n26. Roussell MA, et al. , Beef in an Optimal Lean Diet study: effects on lipids, lipoproteins, and \\napolipoproteins. The American journal of clinical nutrition, 2012. 95(1): p. 9–16. [PubMed: \\n22170364]',\n",
       " 'apolipoproteins. The American journal of clinical nutrition, 2012. 95(1): p. 9–16. [PubMed: \\n22170364] \\n27. Roussell M, et al. , Effects of a DASH-like diet containing lean beef on vascular health. Journal of \\nhuman hypertension, 2014. 28(10): p. 600–605. [PubMed: 24943285]',\n",
       " 'human hypertension, 2014. 28(10): p. 600–605. [PubMed: 24943285] \\n28. Magkos F, et al. , Unprocessed red meat in the dietary treatment of obesity: a randomized \\ncontrolled trial of beef supplementation during weight maintenance after successful weight loss. \\nThe American Journal of Clinical Nutrition, 2022.',\n",
       " 'controlled trial of beef supplementation during weight maintenance after successful weight loss. \\nThe American Journal of Clinical Nutrition, 2022.\\n29. Sanders LM, Wilcox ML, and Maki KC, Red meat consumption and risk factors for type 2 \\ndiabetes: a systematic review and meta-analysis of randomized controlled trials. European Journal \\nof Clinical Nutrition, 2022.',\n",
       " 'diabetes: a systematic review and meta-analysis of randomized controlled trials. European Journal \\nof Clinical Nutrition, 2022.\\n30. Butryn ML, et al. , Consistent self-monitoring of weight: a key component of successful weight \\nloss maintenance. Obesity (Silver Spring), 2007. 15(12): p. 3091–6. [PubMed: 18198319]',\n",
       " 'loss maintenance. Obesity (Silver Spring), 2007. 15(12): p. 3091–6. [PubMed: 18198319] \\n31. Dhurandhar NV , et al. , Energy balance measurement: when something is not better than nothing. \\nInternational journal of obesity, 2015. 39(7): p. 1109–1113. [PubMed: 25394308]',\n",
       " 'International journal of obesity, 2015. 39(7): p. 1109–1113. [PubMed: 25394308] \\n32. Obesity, N.A.A.f.t.S.o., et al., The practical guide: identification, evaluation, and treatment of \\noverweight and obesity in adults. 2000: National Institutes of Health, National Heart, Lung, and \\nBlood Institute ….',\n",
       " 'overweight and obesity in adults. 2000: National Institutes of Health, National Heart, Lung, and \\nBlood Institute ….\\n33. Harris PA, et al. , The REDCap consortium: Building an international community of software \\nplatform partners. Journal of biomedical informatics, 2019. 95: p. 103208.\\n34. Harris PA, et al. , Research electronic data capture (REDCap)—a metadata-driven methodology',\n",
       " 'platform partners. Journal of biomedical informatics, 2019. 95: p. 103208.\\n34. Harris PA, et al. , Research electronic data capture (REDCap)—a metadata-driven methodology \\nand workflow process for providing translational research informatics support. Journal of \\nbiomedical informatics, 2009. 42(2): p. 377–381. [PubMed: 18929686]',\n",
       " 'and workflow process for providing translational research informatics support. Journal of \\nbiomedical informatics, 2009. 42(2): p. 377–381. [PubMed: 18929686] \\n35. Wing RR, et al. , Benefits of Modest Weight Loss in Improving Cardiovascular Risk Factors in \\nOverweight and Obese Individuals With Type 2 Diabetes. Diabetes Care, 2011. 34(7): p. 1481–',\n",
       " '35. Wing RR, et al. , Benefits of Modest Weight Loss in Improving Cardiovascular Risk Factors in \\nOverweight and Obese Individuals With Type 2 Diabetes. Diabetes Care, 2011. 34(7): p. 1481–\\n1486. [PubMed: 21593294] \\n36. Lau DCW and Teoh H, Benefits of Modest Weight Loss on the Management of Type 2 Diabetes',\n",
       " '1486. [PubMed: 21593294] \\n36. Lau DCW and Teoh H, Benefits of Modest Weight Loss on the Management of Type 2 Diabetes \\nMellitus. Canadian Journal of Diabetes, 2013. 37(2): p. 128–134. [PubMed: 24070804] \\n37. Huang S, et al. , Association of magnitude of weight loss and weight variability with mortality and',\n",
       " '37. Huang S, et al. , Association of magnitude of weight loss and weight variability with mortality and \\nmajor cardiovascular events among individuals with type 2 diabetes mellitus: a systematic review \\nand meta-analysis. Cardiovascular Diabetology, 2022. 21(1): p. 78. [PubMed: 35578337]',\n",
       " 'major cardiovascular events among individuals with type 2 diabetes mellitus: a systematic review \\nand meta-analysis. Cardiovascular Diabetology, 2022. 21(1): p. 78. [PubMed: 35578337] \\n38. McAuley K, et al. , Comparison of high-fat and high-protein diets with a high-carbohydrate diet in',\n",
       " '38. McAuley K, et al. , Comparison of high-fat and high-protein diets with a high-carbohydrate diet in \\ninsulin-resistant obese women. Diabetologia, 2005. 48: p. 8–16. [PubMed: 15616799] Clina et al. Page 11\\nObesity (Silver Spring) . Author manuscript; available in PMC 2024 August 01.',\n",
       " 'Obesity (Silver Spring) . Author manuscript; available in PMC 2024 August 01.\\nAuthor Manuscript Author Manuscript Author Manuscript Author ManuscriptWhat is already known about this subject?\\n• Weight loss of ≥10% improves can improve glucose control and even remit \\ntype 2 diabetes for some\\n• High protein diets can produce greater weight loss and prevent loss of fat free \\nmass compared to diets lower in protein',\n",
       " '• Weight loss of ≥10% improves can improve glucose control and even remit \\ntype 2 diabetes for some\\n• High protein diets can produce greater weight loss and prevent loss of fat free \\nmass compared to diets lower in protein\\n• Some observational studies recommend limiting red meat consumption to \\nreduce risk for type 2 diabetes, but data from randomized clinical trials \\ngenerally find little to no independent effect of lean red meat consumption.',\n",
       " '• Some observational studies recommend limiting red meat consumption to \\nreduce risk for type 2 diabetes, but data from randomized clinical trials \\ngenerally find little to no independent effect of lean red meat consumption.\\nWhat are the new findings in your manuscript?\\n• Both a normal protein diet excluding red meat and a high protein diet \\ncontaining red meat are effective at producing weight loss and improvements \\nin glucose control',\n",
       " 'What are the new findings in your manuscript?\\n• Both a normal protein diet excluding red meat and a high protein diet \\ncontaining red meat are effective at producing weight loss and improvements \\nin glucose control\\nHow might your results change the direction of research or the focus of clinical \\npractice?\\n• Weight loss, not diet composition, is the primary driver of type 2 diabetes \\nmanagement\\n• Avoiding red meat does not provide additional benefit for weight loss or',\n",
       " 'practice?\\n• Weight loss, not diet composition, is the primary driver of type 2 diabetes \\nmanagement\\n• Avoiding red meat does not provide additional benefit for weight loss or \\nimprovements in glucose control during a weight loss interventionClina et al. Page 12\\nObesity (Silver Spring) . Author manuscript; available in PMC 2024 August 01.\\nAuthor Manuscript Author Manuscript Author Manuscript Author ManuscriptFigure 1. CONSORT Diagram',\n",
       " 'Obesity (Silver Spring) . Author manuscript; available in PMC 2024 August 01.\\nAuthor Manuscript Author Manuscript Author Manuscript Author ManuscriptFigure 1. CONSORT Diagram\\nDiagram of participant flow.Clina et al. Page 13\\nObesity (Silver Spring) . Author manuscript; available in PMC 2024 August 01.\\nAuthor Manuscript Author Manuscript Author Manuscript Author ManuscriptFigure 2. Change in Body Weight and Composition',\n",
       " 'Obesity (Silver Spring) . Author manuscript; available in PMC 2024 August 01.\\nAuthor Manuscript Author Manuscript Author Manuscript Author ManuscriptFigure 2. Change in Body Weight and Composition\\nDepicts changes in weight and composition (fat and fat free mass) in kilograms from \\nbaseline to week 52 by diet group. Mixed effects models used to test the effect of diet',\n",
       " 'Depicts changes in weight and composition (fat and fat free mass) in kilograms from \\nbaseline to week 52 by diet group. Mixed effects models used to test the effect of diet \\ngroup, time, and their interaction term on body weight and composition changes. Presented \\nas LSMEANS±SE. Both groups had a significantly reduced weight (HP −10.2±1.6 kg; NP',\n",
       " 'group, time, and their interaction term on body weight and composition changes. Presented \\nas LSMEANS±SE. Both groups had a significantly reduced weight (HP −10.2±1.6 kg; NP \\n−12.5±1.6 kg), fat mass (HP −8.4±1.4 kg; NP −9.1±1.5 kg), and fat-free mass (HP −1.8±0.4',\n",
       " 'kg; NP −2.9±0.4 kg), but the majority of weight loss was due to fat mass loss. There were \\nno differences in outcomes by diet group in changes in total mass ( p=0.333), fat mass \\n(p=0.735), or fat free mass p=0.056).Clina et al. Page 14\\nObesity (Silver Spring) . Author manuscript; available in PMC 2024 August 01.',\n",
       " '(p=0.735), or fat free mass p=0.056).Clina et al. Page 14\\nObesity (Silver Spring) . Author manuscript; available in PMC 2024 August 01.\\nAuthor Manuscript Author Manuscript Author Manuscript Author ManuscriptAuthor Manuscript Author Manuscript Author Manuscript Author ManuscriptClina et al. Page 15\\nTable 1.\\nBaseline Characteristics of Participants',\n",
       " 'Author Manuscript Author Manuscript Author Manuscript Author ManuscriptAuthor Manuscript Author Manuscript Author Manuscript Author ManuscriptClina et al. Page 15\\nTable 1.\\nBaseline Characteristics of Participants\\nPresent baseline characteristics of participants by diet group assignment. Percent of sample (i.e. % female, % \\nusing medications for T2D), waist circumference, and blood biomarkers rounded to the nearest whole number',\n",
       " 'Present baseline characteristics of participants by diet group assignment. Percent of sample (i.e. % female, % \\nusing medications for T2D), waist circumference, and blood biomarkers rounded to the nearest whole number \\n(except HOMA-IR, HbA1c %, and insulin)\\nParameter HP NP\\nAge, y (M±SD) 54.1 ± 12.0 55.4 ± 9.6',\n",
       " '(except HOMA-IR, HbA1c %, and insulin)\\nParameter HP NP\\nAge, y (M±SD) 54.1 ± 12.0 55.4 ± 9.6\\nDuration of T2D, y (M±SD) 3.2 ± 1.8 3.2 ± 1.6\\nFemale, n (%) 38 (72) 42 (79)',\n",
       " 'Duration of T2D, y (M±SD) 3.2 ± 1.8 3.2 ± 1.6\\nFemale, n (%) 38 (72) 42 (79)\\nUsing Medications for T2D, n (%) 48 (91) 46 (87)\\nAnthropometrics  (M±SD)\\n Weight, kg 108.0 ± 22.8 107.8 ± 26.6',\n",
       " 'Using Medications for T2D, n (%) 48 (91) 46 (87)\\nAnthropometrics  (M±SD)\\n Weight, kg 108.0 ± 22.8 107.8 ± 26.6\\n BMI, kg/m2 38.7 ± 6.8 38.8 ± 7.3\\n Waist Circumference, cm 118 ± 14 117 ± 15',\n",
       " 'BMI, kg/m2 38.7 ± 6.8 38.8 ± 7.3\\n Waist Circumference, cm 118 ± 14 117 ± 15\\n Fat Mass, % 46.2 ± 6.2 46.6 ± 5.9\\n Fat-Free Mass, % 52.9 ± 6.1 52.4 ± 5.8\\nBiomarkers  (M±SD)',\n",
       " 'Fat-Free Mass, % 52.9 ± 6.1 52.4 ± 5.8\\nBiomarkers  (M±SD)\\n HOMA-IR 7.6 ± 7.0 5.9 ± 3.4\\n Glucose, mg/dL 134 ± 38 130 ± 40\\n HbA1c, % 7.2 ± 1.0 7.0 ± 1.3',\n",
       " 'Glucose, mg/dL 134 ± 38 130 ± 40\\n HbA1c, % 7.2 ± 1.0 7.0 ± 1.3\\n Insulin, μIU/mL 22.3 ± 16.5 18.1 ± 11.1\\n BP Systolic, mmHg 135 ± 15 135 ± 15\\n BP Diastolic, mmHg 86 ± 9 86 ± 9',\n",
       " 'BP Systolic, mmHg 135 ± 15 135 ± 15\\n BP Diastolic, mmHg 86 ± 9 86 ± 9\\n Triglycerides, mg/dL 138 ± 71 139 ± 58\\n HDL Cholesterol, mg/dL 47 ± 11 45 ± 9\\n LDL Cholesterol, mg/dL 94 ± 28 95 ± 36\\nRace , n (%)\\n White 37 (70) 30 (57)\\n Black 11 (21) 19 (39)',\n",
       " 'LDL Cholesterol, mg/dL 94 ± 28 95 ± 36\\nRace , n (%)\\n White 37 (70) 30 (57)\\n Black 11 (21) 19 (39)\\n Asian 3 (6) 1 (2)\\n Native Hawaiian or Pacific Islander 1 (2) 0 (0)\\n Other 1 (2) 3 (6)\\nEthnicity , n (%)\\n Hispanic 6 (11) 9 (17)',\n",
       " 'Native Hawaiian or Pacific Islander 1 (2) 0 (0)\\n Other 1 (2) 3 (6)\\nEthnicity , n (%)\\n Hispanic 6 (11) 9 (17)\\n Non-Hispanic 46 (87) 43 (81)\\n Did not report 1 (2) 1 (2)',\n",
       " 'Ethnicity , n (%)\\n Hispanic 6 (11) 9 (17)\\n Non-Hispanic 46 (87) 43 (81)\\n Did not report 1 (2) 1 (2)\\nAbbreviations: BMI, body mass index; BP, blood pressure; cm, centimeter; dL, deciliter; HDL, high ‐density lipoprotein cholesterol; HbA1c,',\n",
       " 'Abbreviations: BMI, body mass index; BP, blood pressure; cm, centimeter; dL, deciliter; HDL, high ‐density lipoprotein cholesterol; HbA1c, \\nhemoglobin A1c; HOMA-IR, Homeostatic Model Assessment for Insulin Resistance; HP, high protein; kg, kilogram; LDL, low ‐density lipoprotein',\n",
       " 'hemoglobin A1c; HOMA-IR, Homeostatic Model Assessment for Insulin Resistance; HP, high protein; kg, kilogram; LDL, low ‐density lipoprotein \\ncholesterol; M, mean; m, meter; mg, milligrams; ml, milliliter; mmHg, millimeters of mercury; NP, normal protein; SD, standard deviation; T2D,',\n",
       " 'cholesterol; M, mean; m, meter; mg, milligrams; ml, milliliter; mmHg, millimeters of mercury; NP, normal protein; SD, standard deviation; T2D, \\ntype 2 diabetes; y, years; μIU, micro international unit.',\n",
       " 'type 2 diabetes; y, years; μIU, micro international unit.\\nObesity (Silver Spring) . Author manuscript; available in PMC 2024 August 01.Author Manuscript Author Manuscript Author Manuscript Author ManuscriptClina et al. Page 16\\nTable 2.\\nChanges in Indicators of Type 2 Diabetes by Diet Group\\nParameter Group Baseline Week 52 Mean Change 95% CI for Change P-value',\n",
       " 'Table 2.\\nChanges in Indicators of Type 2 Diabetes by Diet Group\\nParameter Group Baseline Week 52 Mean Change 95% CI for Change P-value\\nGlucose, mg/dL HP 134 (5) 115 (6) −19 (6) (−31.0, −6.8)\\nNP 130 (5) 111 (6) −19 (6) (−31.4, −6.4) 0.999',\n",
       " 'NP 130 (5) 111 (6) −19 (6) (−31.4, −6.4) 0.999\\nHbA1c, % HP 7.2 (0.2) 6.4 (0.2) −0.8 (0.2) (−1.1, −0.4)',\n",
       " 'HbA1c, % HP 7.2 (0.2) 6.4 (0.2) −0.8 (0.2) (−1.1, −0.4)\\nNP 7.0 (0.2) 6.5 (0.2) −0.5 (0.2) (−0.9, −0.1) 0.329',\n",
       " 'NP 7.0 (0.2) 6.5 (0.2) −0.5 (0.2) (−0.9, −0.1) 0.329\\nInsulin, μIU/mL HP 22.3 (1.9) 14.5 (1.7) −7.8 (2.0) (−11.8, −3.7)',\n",
       " 'Insulin, μIU/mL HP 22.3 (1.9) 14.5 (1.7) −7.8 (2.0) (−11.8, −3.7)\\nNP 18.8 (1.9) 11.0 (1.8) −7.8 (2.0) (−12.0, −3.7) 0.979',\n",
       " 'NP 18.8 (1.9) 11.0 (1.8) −7.8 (2.0) (−12.0, −3.7) 0.979\\nHOMA-IR HP 7.6 (0.8) 4.5 (0.7) −3.1 (0.8) (−4.7, −1.6)',\n",
       " 'HOMA-IR HP 7.6 (0.8) 4.5 (0.7) −3.1 (0.8) (−4.7, −1.6)\\nNP 5.9 (0.8) 3.2 (0.7) −2.7 (.8) (−4.2, −1.1) 0.657',\n",
       " 'NP 5.9 (0.8) 3.2 (0.7) −2.7 (.8) (−4.2, −1.1) 0.657\\nValues presented as LS MEANS (SE) with glucose values rounded to nearest whole number. Values are model based from the ITT analysis \\nperformed, including LS MEANS, change, and 95% CI.\\nP-value represents differences in change between diet groups (HP vs. NP)',\n",
       " 'performed, including LS MEANS, change, and 95% CI.\\nP-value represents differences in change between diet groups (HP vs. NP)\\nMixed effects model used to test the effect of time, group, and their interaction term on changes in indicators of type 2 diabetes. Both diet groups',\n",
       " 'P-value represents differences in change between diet groups (HP vs. NP)\\nMixed effects model used to test the effect of time, group, and their interaction term on changes in indicators of type 2 diabetes. Both diet groups \\nreduced, glucose, HbA1c, insulin, and HOMA-IR from baseline to week 52. There were no differences in change in any parameters by diet group \\n(HP vs NP)',\n",
       " 'reduced, glucose, HbA1c, insulin, and HOMA-IR from baseline to week 52. There were no differences in change in any parameters by diet group \\n(HP vs NP)\\nAbbreviations: dL, deciliter; HbA1c, hemoglobin A1c; HOMA-IR, Homeostatic Model Assessment for Insulin Resistance; HP, high protein; mg,',\n",
       " 'Abbreviations: dL, deciliter; HbA1c, hemoglobin A1c; HOMA-IR, Homeostatic Model Assessment for Insulin Resistance; HP, high protein; mg, \\nmilligrams; mL, milliliter; NP, normal protein; μIU, micro international unit.',\n",
       " 'milligrams; mL, milliliter; NP, normal protein; μIU, micro international unit.\\nObesity (Silver Spring) . Author manuscript; available in PMC 2024 August 01.Author Manuscript Author Manuscript Author Manuscript Author ManuscriptClina et al. Page 17\\nTable 3.\\nChanges in Type 2 Diabetes Status',\n",
       " 'Obesity (Silver Spring) . Author manuscript; available in PMC 2024 August 01.Author Manuscript Author Manuscript Author Manuscript Author ManuscriptClina et al. Page 17\\nTable 3.\\nChanges in Type 2 Diabetes Status\\nPresents changes in status of Type 2 Diabetes as indicated by HbA1c ≥6.5% or fasting glucose ≥126 mg/dL',\n",
       " 'Table 3.\\nChanges in Type 2 Diabetes Status\\nPresents changes in status of Type 2 Diabetes as indicated by HbA1c ≥6.5% or fasting glucose ≥126 mg/dL \\n(clinically diagnostic of T2D) from baseline to week 52 of the trial.\\nITT Approach HP n (%) NP n (%)\\nRemained in abnormal range 7 (13) 12 (23)\\nRemained in normal range 12 (19) 9 (17)',\n",
       " 'ITT Approach HP n (%) NP n (%)\\nRemained in abnormal range 7 (13) 12 (23)\\nRemained in normal range 12 (19) 9 (17)\\nPositive change (abnormal to normal value) 13 (25) 12 (23)\\nNegative change (normal to abnormal) 4 (8) 1 (2)\\nUnknown (no paired value) 19 (36) 16 (30)\\nCompleters Analysis',\n",
       " 'Negative change (normal to abnormal) 4 (8) 1 (2)\\nUnknown (no paired value) 19 (36) 16 (30)\\nCompleters Analysis\\nRemained in abnormal range 7 (21) 12 (33)\\nRemained in normal range 10 (2) 9 (25)\\nPositive change (abnormal to normal value) 13 (38) 14 (39)',\n",
       " 'Remained in abnormal range 7 (21) 12 (33)\\nRemained in normal range 10 (2) 9 (25)\\nPositive change (abnormal to normal value) 13 (38) 14 (39)\\nNegative change (normal to abnormal) 4 (12) 1 (3)\\nIntention to treat (ITT) and completers analyses are presented. Unknown in the ITT approach refers to participants without either a baseline or',\n",
       " 'Negative change (normal to abnormal) 4 (12) 1 (3)\\nIntention to treat (ITT) and completers analyses are presented. Unknown in the ITT approach refers to participants without either a baseline or \\nweek 52 value, therefore no conclusions could be made regarding change in status. Abnormal value refers to lab values consistent with T2D',\n",
       " 'week 52 value, therefore no conclusions could be made regarding change in status. Abnormal value refers to lab values consistent with T2D \\ndiagnosis where normal range refers to values below the criteria for T2D diagnosis. Percentages rounded to nearest whole number.\\nObesity (Silver Spring) . Author manuscript; available in PMC 2024 August 01.Author Manuscript Author Manuscript Author Manuscript Author ManuscriptClina et al. Page 18\\nTable 4.',\n",
       " 'Obesity (Silver Spring) . Author manuscript; available in PMC 2024 August 01.Author Manuscript Author Manuscript Author Manuscript Author ManuscriptClina et al. Page 18\\nTable 4.\\nLaboratory Markers Changes by Diet Group\\nValues presented as LS MEANS (SE) rounded to the nearest whole number. Values are model based from the \\nITT analysis performed, including LS MEANS, change, and 95% CI.',\n",
       " 'Laboratory Markers Changes by Diet Group\\nValues presented as LS MEANS (SE) rounded to the nearest whole number. Values are model based from the \\nITT analysis performed, including LS MEANS, change, and 95% CI.\\nParameter Group Baseline Week 52 Mean Change 95% CI for Change P-value\\nBP Systolic, mmHg HP 135 (2) 126 (3) −9 (2) (−13.0, −5.1)',\n",
       " 'Parameter Group Baseline Week 52 Mean Change 95% CI for Change P-value\\nBP Systolic, mmHg HP 135 (2) 126 (3) −9 (2) (−13.0, −5.1)\\nNP 135 (2) 127 (3) −8 (2) (−12.2, −3.9) 0.719',\n",
       " 'NP 135 (2) 127 (3) −8 (2) (−12.2, −3.9) 0.719\\nBP Diastolic, mmHg HP 86 (1) 78 (1) −7 (2) (−10.2, −4.2)\\nNP 86 (1) 81 (2) −6 (2) (−8.6, −2.3) 0.430',\n",
       " 'NP 86 (1) 81 (2) −6 (2) (−8.6, −2.3) 0.430\\nTriglycerides, mg/dL HP 138 (9) 114 (10) −25 (9) (−42.8, −6.1)\\nNP 139 (9) 110 (10) −29 (10) (−48.0, −10.0) 0.732',\n",
       " 'NP 139 (9) 110 (10) −29 (10) (−48.0, −10.0) 0.732\\nHDL Cholesterol, mg/dL HP 47 (1) 47 (2) 2 (1) (−2.1, 2.9)\\nNP 45 (1) 47 (2) 1 (2) (−0.8, 4.4) 0.448',\n",
       " 'NP 45 (1) 47 (2) 1 (2) (−0.8, 4.4) 0.448\\nLDL Cholesterol, mg/dL HP 94 (4) 91 (5) −3 (4) (−11.1, 4.6)\\nNP 95 (4) 94 (5) −1 (4) (−9.3, 6.9) 0.718',\n",
       " 'NP 95 (4) 94 (5) −1 (4) (−9.3, 6.9) 0.718\\nBUN HP 15 (1) 17 (1) 3 (1) (1.5, 4.2)\\nNP 15 (6) 18 (1) 3 (1) (1.2, 4.0) 0.770\\nP-value represents differences in change between diet groups (HP vs. NP)',\n",
       " 'NP 15 (6) 18 (1) 3 (1) (1.2, 4.0) 0.770\\nP-value represents differences in change between diet groups (HP vs. NP)\\nMixed effects model used to test the effect of time, group, and their interaction term on changes in laboratory markers. Both diet groups reduced',\n",
       " 'P-value represents differences in change between diet groups (HP vs. NP)\\nMixed effects model used to test the effect of time, group, and their interaction term on changes in laboratory markers. Both diet groups reduced \\nsystolic and diastolic blood pressures and triglycerides from baseline to week 52. Neither group had changes in HDL or LDL cholesterol from',\n",
       " 'systolic and diastolic blood pressures and triglycerides from baseline to week 52. Neither group had changes in HDL or LDL cholesterol from \\nbaseline to week 52. Both groups increased BUN from baseline to week 52. There were no differences in change in any parameters by diet group \\n(HP vs NP)',\n",
       " 'baseline to week 52. Both groups increased BUN from baseline to week 52. There were no differences in change in any parameters by diet group \\n(HP vs NP)\\nAbbreviations: BUN, blood urea nitrogen; BP, blood pressure; dL, deciliter; HDL, high ‐density lipoprotein cholesterol; HP, high protein; LDL,',\n",
       " 'Abbreviations: BUN, blood urea nitrogen; BP, blood pressure; dL, deciliter; HDL, high ‐density lipoprotein cholesterol; HP, high protein; LDL, \\nlow‐density lipoprotein cholesterol; mg, milligrams; mmHg, millimeters of mercury; NP, normal protein.\\nObesity (Silver Spring) . Author manuscript; available in PMC 2024 August 01.']"
      ]
     },
     "execution_count": 12,
     "metadata": {},
     "output_type": "execute_result"
    }
   ],
   "source": [
    "\n",
    "text_splitter = RecursiveCharacterTextSplitter.from_tiktoken_encoder(\n",
    "    chunk_size=100, chunk_overlap=50\n",
    ")\n",
    "chunks = text_splitter.split_text(text)\n",
    "chunks"
   ]
  },
  {
   "cell_type": "code",
   "execution_count": 13,
   "id": "a1cb224e",
   "metadata": {},
   "outputs": [
    {
     "name": "stderr",
     "output_type": "stream",
     "text": [
      "WARNING: All log messages before absl::InitializeLog() is called are written to STDERR\n",
      "E0000 00:00:1761137198.678787   10583 alts_credentials.cc:93] ALTS creds ignored. Not running on GCP and untrusted ALTS is not enabled.\n"
     ]
    }
   ],
   "source": [
    "vectorstore = InMemoryVectorStore.from_texts(\n",
    "    texts=chunks, embedding=GoogleGenerativeAIEmbeddings(model=\"models/gemini-embedding-001\")\n",
    ")"
   ]
  },
  {
   "cell_type": "code",
   "execution_count": 14,
   "id": "3f63a778",
   "metadata": {},
   "outputs": [],
   "source": [
    "retriever = vectorstore.as_retriever()"
   ]
  },
  {
   "cell_type": "code",
   "execution_count": 15,
   "id": "405273bd",
   "metadata": {},
   "outputs": [],
   "source": [
    "retriever_tool = create_retriever_tool(\n",
    "    retriever,\n",
    "    \"retrieve_medical_information\",\n",
    "    \"Search and return information about Protein Diets for Daibetes 2 Patients.\",\n",
    ")"
   ]
  },
  {
   "cell_type": "code",
   "execution_count": 16,
   "id": "77347c8d",
   "metadata": {},
   "outputs": [
    {
     "data": {
      "text/plain": [
       "'Food lists for the HP and NP groups were similar, with the exception of the HP group \\nbeing asked to consume lean beef ≥4 times per week and the portion sizes for the protein \\nbeing reduced for the NP group. Approximate carbohydrate and protein compositions were \\n32% and 40% of total energy for the HP diet, respectively and 53% and 21% for the NP\\n\\nAuthor Manuscript Author Manuscript Author Manuscript Author ManuscriptThe purpose of this randomized clinical trial was to compare a high protein diet (HP) versus \\na normal protein diet (NP) for weight loss, body composition changes, and indicators of type \\n2 diabetes status during a 52-week behavioral weight loss intervention. Both intervention \\ndiets were energy-restricted, and the HP diet included recommendations to include lean\\n\\n16. Wycherley TP, et al. , Effects of energy-restricted high-protein, low-fat compared with standard-\\nprotein, low-fat diets: a meta-analysis of randomized controlled trials. The American journal of \\nclinical nutrition, 2012. 96(6): p. 1281–1298. [PubMed: 23097268]\\n\\ntrial compared a HP diet including red meat and normal protein (NP) without red meat for weight \\nloss, body composition changes, and glucose control in individuals with T2D.\\nMethods:\\xa0 106 adults (80 female) with T2D consumed a HP (40% protein) diet with ≥4 weekly \\nservings of lean beef or a NP (21% protein) diet excluding red meat during a 52-week weight'"
      ]
     },
     "execution_count": 16,
     "metadata": {},
     "output_type": "execute_result"
    }
   ],
   "source": [
    "retriever_tool.invoke({\"query\": \"types of protein diets\"})"
   ]
  },
  {
   "cell_type": "code",
   "execution_count": 17,
   "id": "9058c5cb",
   "metadata": {},
   "outputs": [
    {
     "name": "stderr",
     "output_type": "stream",
     "text": [
      "E0000 00:00:1761137381.974133   10583 alts_credentials.cc:93] ALTS creds ignored. Not running on GCP and untrusted ALTS is not enabled.\n"
     ]
    }
   ],
   "source": [
    "response_model = init_chat_model(\"google_genai:gemini-2.5-flash\", temperature=0, api_key=key)"
   ]
  },
  {
   "cell_type": "code",
   "execution_count": 18,
   "id": "ee114b03",
   "metadata": {},
   "outputs": [],
   "source": [
    "def generate_query_or_respond(state: MessagesState):\n",
    "    \"\"\"Call the model to generate a response based on the current state. Given\n",
    "    the question, it will decide to retrieve using the retriever tool, or simply respond to the user.\n",
    "    \"\"\"\n",
    "    response = (\n",
    "        response_model\n",
    "        .bind_tools([retriever_tool]).invoke(state[\"messages\"])  \n",
    "    )\n",
    "    return {\"messages\": [response]}"
   ]
  },
  {
   "cell_type": "code",
   "execution_count": 20,
   "id": "09e9b0ac",
   "metadata": {},
   "outputs": [
    {
     "name": "stdout",
     "output_type": "stream",
     "text": [
      "==================================\u001b[1m Ai Message \u001b[0m==================================\n",
      "\n",
      "Hello! How can I help you today?\n"
     ]
    }
   ],
   "source": [
    "input = {\"messages\": [{\"role\": \"user\", \"content\": \"hello!\"}]}\n",
    "generate_query_or_respond(input)[\"messages\"][-1].pretty_print()"
   ]
  },
  {
   "cell_type": "code",
   "execution_count": 21,
   "id": "3b22cef1",
   "metadata": {},
   "outputs": [
    {
     "name": "stdout",
     "output_type": "stream",
     "text": [
      "==================================\u001b[1m Ai Message \u001b[0m==================================\n",
      "Tool Calls:\n",
      "  retrieve_medical_information (d47c5ca1-73ec-4c28-bbc8-7501204de369)\n",
      " Call ID: d47c5ca1-73ec-4c28-bbc8-7501204de369\n",
      "  Args:\n",
      "    query: Protein diet for type 2 diabetes\n"
     ]
    }
   ],
   "source": [
    "input = {\n",
    "    \"messages\": [\n",
    "        {\n",
    "            \"role\": \"user\",\n",
    "            \"content\": \"What Protein diet is best for type 2 diabetes?\",\n",
    "        }\n",
    "    ]\n",
    "}\n",
    "generate_query_or_respond(input)[\"messages\"][-1].pretty_print()"
   ]
  },
  {
   "cell_type": "code",
   "execution_count": 22,
   "id": "2fdb1103",
   "metadata": {},
   "outputs": [],
   "source": [
    "class GradeDocuments(BaseModel):\n",
    "    binary_score: Literal[\"yes\", \"no\"] = Field(\n",
    "        description=\"Relevance score: 'yes' if relevant, 'no' otherwise\"\n",
    "    )"
   ]
  },
  {
   "cell_type": "code",
   "execution_count": 23,
   "id": "d8ceecf1",
   "metadata": {},
   "outputs": [],
   "source": [
    "def grade_documents(state: MessagesState):\n",
    "    \"\"\"Determine whether the retrieved documents are relevant to the question.\"\"\"\n",
    "    question = state[\"messages\"][0].content\n",
    "    context = state[\"messages\"][-1].content\n",
    "\n",
    "    grader_model = init_chat_model(\"google_genai:gemini-2.5-flash\", temperature=0, api_key=key)\n",
    "    GRADE_PROMPT = (\n",
    "    \"You are a grader assessing relevance of a retrieved document to a user question. \\n \"\n",
    "    \"Here is the retrieved document: \\n\\n {context} \\n\\n\"\n",
    "    \"Here is the user question: {question} \\n\"\n",
    "    \"If the document contains keyword(s) or semantic meaning related to the user question, grade it as relevant. \\n\"\n",
    "    \"Give a binary score 'yes' or 'no' score to indicate whether the document is relevant to the question.\"\n",
    ")\n",
    "\n",
    "\n",
    "    prompt = GRADE_PROMPT.format(question=question, context=context)\n",
    "    response = (\n",
    "        grader_model\n",
    "        .with_structured_output(GradeDocuments).invoke(  \n",
    "            [{\"role\": \"user\", \"content\": prompt}]\n",
    "        )\n",
    "    )\n",
    "    score = response.binary_score\n",
    "\n",
    "    if score == \"yes\":\n",
    "        return \"generate_answer\"\n",
    "    else:\n",
    "        return \"rewrite_question\""
   ]
  },
  {
   "cell_type": "markdown",
   "id": "aaaf58ab",
   "metadata": {},
   "source": [
    "Irrelevant documents"
   ]
  },
  {
   "cell_type": "code",
   "execution_count": 24,
   "id": "33ea92e9",
   "metadata": {},
   "outputs": [
    {
     "name": "stderr",
     "output_type": "stream",
     "text": [
      "E0000 00:00:1761137469.420071   10583 alts_credentials.cc:93] ALTS creds ignored. Not running on GCP and untrusted ALTS is not enabled.\n"
     ]
    },
    {
     "data": {
      "text/plain": [
       "'rewrite_question'"
      ]
     },
     "execution_count": 24,
     "metadata": {},
     "output_type": "execute_result"
    }
   ],
   "source": [
    "input = {\n",
    "    \"messages\": convert_to_messages(\n",
    "        [\n",
    "            {\n",
    "                \"role\": \"user\",\n",
    "                \"content\": \"What Protein diet is best for type 2 diabetes?\",\n",
    "            },\n",
    "            {\n",
    "                \"role\": \"assistant\",\n",
    "                \"content\": \"\",\n",
    "                \"tool_calls\": [\n",
    "                    {\n",
    "                        \"id\": \"1\",\n",
    "                        \"name\": \"retrieve_medical_information\",\n",
    "                        \"args\": {\"query\": \"Search and return information about Protein Diets for Daibetes 2 Patients.\"}\n",
    "                    }\n",
    "                ],\n",
    "            },\n",
    "            {\"role\": \"tool\", \"content\": \"meow\", \"tool_call_id\": \"1\"},\n",
    "        ]\n",
    "    )\n",
    "}\n",
    "grade_documents(input)"
   ]
  },
  {
   "cell_type": "markdown",
   "id": "65b35960",
   "metadata": {},
   "source": [
    "Relevant Documents"
   ]
  },
  {
   "cell_type": "code",
   "execution_count": 25,
   "id": "391ce5db",
   "metadata": {},
   "outputs": [
    {
     "name": "stderr",
     "output_type": "stream",
     "text": [
      "E0000 00:00:1761137474.015640   10583 alts_credentials.cc:93] ALTS creds ignored. Not running on GCP and untrusted ALTS is not enabled.\n"
     ]
    },
    {
     "data": {
      "text/plain": [
       "'generate_answer'"
      ]
     },
     "execution_count": 25,
     "metadata": {},
     "output_type": "execute_result"
    }
   ],
   "source": [
    "input = {\n",
    "    \"messages\": convert_to_messages(\n",
    "        [\n",
    "            {\n",
    "                \"role\": \"user\",\n",
    "                \"content\": \"What Protein diet is best for type 2 diabetes?\",\n",
    "            },\n",
    "            {\n",
    "                \"role\": \"assistant\",\n",
    "                \"content\": \"\",\n",
    "                \"tool_calls\": [\n",
    "                    {\n",
    "                        \"id\": \"1\",\n",
    "                        \"name\": \"retrieve_medical_information\",\n",
    "                        \"args\": {\"query\": \"Search and return information about Protein Diets for Diabetes 2 Patients.\"},\n",
    "                    }\n",
    "                ],\n",
    "            },\n",
    "            {\n",
    "                \"role\": \"tool\",\n",
    "                \"content\": \"Diabetes 2 Patients can do high, medium or low protein diets.\",\n",
    "                \"tool_call_id\": \"1\",\n",
    "            },\n",
    "        ]\n",
    "    )\n",
    "}\n",
    "grade_documents(input)"
   ]
  },
  {
   "cell_type": "markdown",
   "id": "0bf837e5",
   "metadata": {},
   "source": [
    "  Original Prompt war:\n",
    "  REWRITE_PROMPT = (\n",
    "    \"Look at the input and try to reason about the underlying semantic intent / meaning.\\n\"\n",
    "    \"Here is the initial question:\"\n",
    "    \"\\n ------- \\n\"\n",
    "    \"{question}\"\n",
    "    \"\\n ------- \\n\"\n",
    "    \"Formulate an improved question\"\n",
    ")"
   ]
  },
  {
   "cell_type": "code",
   "execution_count": 26,
   "id": "3649ee66",
   "metadata": {},
   "outputs": [],
   "source": [
    "def rewrite_question(state: MessagesState):\n",
    "    \"\"\"Rewrite the original user question.\"\"\"\n",
    "    REWRITE_PROMPT = (\n",
    "    \"Look at the input and try to reason about the underlying semantic intent / meaning.\\n\"\n",
    "    \"Here is the initial question:\"\n",
    "    \"\\n ------- \\n\"\n",
    "    \"{question}\"\n",
    "    \"\\n ------- \\n\"\n",
    "    \"Formulate an improved question and only return the rephrased question:\"\n",
    ")\n",
    "    messages = state[\"messages\"]\n",
    "    question = messages[0].content\n",
    "    prompt = REWRITE_PROMPT.format(question=question)\n",
    "    response = response_model.invoke([{\"role\": \"user\", \"content\": prompt}])\n",
    "    return {\"messages\": [{\"role\": \"user\", \"content\": response.content}]}"
   ]
  },
  {
   "cell_type": "markdown",
   "id": "6597c2d4",
   "metadata": {},
   "source": [
    "Test the rewriter"
   ]
  },
  {
   "cell_type": "code",
   "execution_count": null,
   "id": "8ee0b820",
   "metadata": {},
   "outputs": [
    {
     "name": "stdout",
     "output_type": "stream",
     "text": [
      "What are the recommended types and amounts of protein for individuals with type 2 diabetes to support blood sugar management and overall health?\n"
     ]
    }
   ],
   "source": [
    "input = {\n",
    "    \"messages\": convert_to_messages(\n",
    "        [\n",
    "            {\n",
    "                \"role\": \"user\",\n",
    "                \"content\": \"What Protein diet is best for type 2 diabetes?\",\n",
    "            },\n",
    "            {\n",
    "                \"role\": \"assistant\",\n",
    "                \"content\": \"\",\n",
    "                \"tool_calls\": [\n",
    "                    {\n",
    "                        \"id\": \"1\",\n",
    "                        \"name\": \"retrieve_medical_information\",\n",
    "                        \"args\": {\"query\": \"Search and return information about Protein Diets for Diabetes 2 Patients.\"}\n",
    "                    }\n",
    "                ],\n",
    "            },\n",
    "            {\"role\": \"tool\", \"content\": \"meow\", \"tool_call_id\": \"1\"},\n",
    "        ]\n",
    "    )\n",
    "}\n",
    "\n",
    "response = rewrite_question(input)\n",
    "print(response[\"messages\"][-1][\"content\"])"
   ]
  },
  {
   "cell_type": "code",
   "execution_count": 29,
   "id": "a2fc564f",
   "metadata": {},
   "outputs": [],
   "source": [
    "\n",
    "def generate_answer(state: MessagesState):\n",
    "    \"\"\"Generate an answer.\"\"\"\n",
    "    \n",
    "    GENERATE_PROMPT = (\n",
    "    \"You are an assistant for question-answering tasks. \"\n",
    "    \"Use the following pieces of retrieved context to answer the question. \"\n",
    "    \"If you don't know the answer, just say that you don't know. \"\n",
    "    \"Use three sentences maximum and keep the answer concise.\\n\"\n",
    "    \"Question: {question} \\n\"\n",
    "    \"Context: {context}\"\n",
    "    )\n",
    "\n",
    "    question = state[\"messages\"][0].content\n",
    "    context = state[\"messages\"][-1].content\n",
    "    prompt = GENERATE_PROMPT.format(question=question, context=context)\n",
    "    response = response_model.invoke([{\"role\": \"user\", \"content\": prompt}])\n",
    "    return {\"messages\": [response]}\n",
    "\n"
   ]
  },
  {
   "cell_type": "code",
   "execution_count": 30,
   "id": "c7a9e34a",
   "metadata": {},
   "outputs": [
    {
     "name": "stdout",
     "output_type": "stream",
     "text": [
      "==================================\u001b[1m Ai Message \u001b[0m==================================\n",
      "\n",
      "There isn't one protein diet that is evidently much better than the others for type 2 diabetes. High, medium, and low protein diets have all been considered. Therefore, no specific protein diet can be singled out as the best.\n"
     ]
    }
   ],
   "source": [
    "input = {\n",
    "    \"messages\": convert_to_messages(\n",
    "        [\n",
    "            {\n",
    "                \"role\": \"user\",\n",
    "                \"content\": \"What Protein diet is best for type 2 diabetes?\",\n",
    "            },\n",
    "            {\n",
    "                \"role\": \"assistant\",\n",
    "                \"content\": \"\",\n",
    "                \"tool_calls\": [\n",
    "                    {\n",
    "                        \"id\": \"1\",\n",
    "                        \"name\": \"retrieve_medical_information\",\n",
    "                        \"args\": {\"query\": \"Search and return information about Protein Diets for Diabetes 2 Patients.\"},\n",
    "                    }\n",
    "                ],\n",
    "            },\n",
    "            {\n",
    "                \"role\": \"tool\",\n",
    "                \"content\": \"There are high, medium and low protein diets and none of them is evidently much better than the other.\",\n",
    "                \"tool_call_id\": \"1\",\n",
    "            },\n",
    "        ]\n",
    "    )\n",
    "}\n",
    "\n",
    "response = generate_answer(input)\n",
    "response[\"messages\"][-1].pretty_print()"
   ]
  },
  {
   "cell_type": "markdown",
   "id": "1107b84e",
   "metadata": {},
   "source": [
    "7. Assemble the graph\n",
    "Now we’ll assemble all the nodes and edges into a complete graph:\n",
    "Start with a generate_query_or_respond and determine if we need to call retriever_tool\n",
    "Route to next step using tools_condition:\n",
    "If generate_query_or_respond returned tool_calls, call retriever_tool to retrieve context\n",
    "Otherwise, respond directly to the user\n",
    "Grade retrieved document content for relevance to the question (grade_documents) and route to next step:\n",
    "If not relevant, rewrite the question using rewrite_question and then call generate_query_or_respond again\n",
    "If relevant, proceed to generate_answer and generate final response using the ToolMessage with the retrieved document context"
   ]
  },
  {
   "cell_type": "code",
   "execution_count": null,
   "id": "8885d7df",
   "metadata": {},
   "outputs": [],
   "source": [
    "workflow = StateGraph(MessagesState)\n",
    "\n",
    "# Define the nodes we will cycle between\n",
    "workflow.add_node(generate_query_or_respond)\n",
    "workflow.add_node(\"retrieve\", ToolNode([retriever_tool]))\n",
    "workflow.add_node(rewrite_question)\n",
    "workflow.add_node(generate_answer)\n",
    "\n",
    "workflow.add_edge(START, \"generate_query_or_respond\")\n",
    "\n",
    "# Decide whether to retrieve\n",
    "workflow.add_conditional_edges(\n",
    "    \"generate_query_or_respond\",\n",
    "    # Assess LLM decision (call `retriever_tool` tool or respond to the user)\n",
    "    tools_condition,\n",
    "    {\n",
    "        # Translate the condition outputs to nodes in our graph\n",
    "        \"tools\": \"retrieve\",\n",
    "        END: END,\n",
    "    },\n",
    ")\n",
    "\n",
    "# Edges taken after the `action` node is called.\n",
    "workflow.add_conditional_edges(\n",
    "    \"retrieve\",\n",
    "    # Assess agent decision\n",
    "    grade_documents,\n",
    ")\n",
    "workflow.add_edge(\"generate_answer\", END)\n",
    "workflow.add_edge(\"rewrite_question\", \"generate_query_or_respond\")\n",
    "\n",
    "# Compile\n",
    "\n",
    "graph = workflow.compile()"
   ]
  },
  {
   "cell_type": "code",
   "execution_count": 34,
   "id": "632d27c2",
   "metadata": {},
   "outputs": [
    {
     "data": {
      "image/png": "[encoded data removed]",
      "text/plain": [
       "<IPython.core.display.Image object>"
      ]
     },
     "metadata": {},
     "output_type": "display_data"
    }
   ],
   "source": [
    "from IPython.display import Image, display\n",
    "\n",
    "display(Image(graph.get_graph().draw_mermaid_png()))"
   ]
  },
  {
   "cell_type": "code",
   "execution_count": 36,
   "id": "352ff3cf",
   "metadata": {},
   "outputs": [
    {
     "name": "stdout",
     "output_type": "stream",
     "text": [
      "Update from node generate_query_or_respond\n",
      "==================================\u001b[1m Ai Message \u001b[0m==================================\n",
      "Tool Calls:\n",
      "  retrieve_medical_information (fa23c0ed-de6e-45a1-a8b4-ce87e4801611)\n",
      " Call ID: fa23c0ed-de6e-45a1-a8b4-ce87e4801611\n",
      "  Args:\n",
      "    query: Protein diet for type 2 diabetes\n",
      "\n",
      "\n",
      "\n"
     ]
    },
    {
     "name": "stderr",
     "output_type": "stream",
     "text": [
      "E0000 00:00:1761141229.384276   10583 alts_credentials.cc:93] ALTS creds ignored. Not running on GCP and untrusted ALTS is not enabled.\n"
     ]
    },
    {
     "name": "stdout",
     "output_type": "stream",
     "text": [
      "Update from node retrieve\n",
      "=================================\u001b[1m Tool Message \u001b[0m=================================\n",
      "Name: retrieve_medical_information\n",
      "\n",
      "High and normal protein diets improve body composition and \n",
      "glucose control in adults with type 2 diabetes: A randomized \n",
      "trial\n",
      "Julianne G. Clina1, R. Drew Sayer1,3, Zhaoxing Pan2, Caroline W. Cohen3, Michael T. \n",
      "McDermott4, Victoria A. Catenacci4, Holly R. Wyatt1,5, James O. Hill1\n",
      "\n",
      "Higher protein diets are an attractive target for lifestyle-based interventions for the treatment \n",
      "of T2D. High protein diets, especially when combined with exercise, produce greater weight \n",
      "loss and prevent losses of fat free mass (FFM) compared to lower protein diets [ 16–18]. In \n",
      "premenopausal women with obesity without diabetes, a high protein diet improved insulin \n",
      "sensitivity more than a high carbohydrate diet even though achieved weight loss was not\n",
      "\n",
      "achieving more than 15 kg of weight loss remitted their T2D [ 15]. While it is clear that \n",
      "weight loss is associated with improvements in T2D, the role of diet composition in the \n",
      "reversal of T2D presents a gap in knowledge.\n",
      "Higher protein diets are an attractive target for lifestyle-based interventions for the treatment \n",
      "of T2D. High protein diets, especially when combined with exercise, produce greater weight\n",
      "\n",
      "• Weight loss of ≥10% improves can improve glucose control and even remit \n",
      "type 2 diabetes for some\n",
      "• High protein diets can produce greater weight loss and prevent loss of fat free \n",
      "mass compared to diets lower in protein\n",
      "• Some observational studies recommend limiting red meat consumption to \n",
      "reduce risk for type 2 diabetes, but data from randomized clinical trials \n",
      "generally find little to no independent effect of lean red meat consumption.\n",
      "\n",
      "\n",
      "\n",
      "Update from node generate_answer\n",
      "==================================\u001b[1m Ai Message \u001b[0m==================================\n",
      "\n",
      "High and normal protein diets have been shown to improve body composition and glucose control in adults with type 2 diabetes. Higher protein diets, especially when combined with exercise, can lead to greater weight loss and prevent the loss of fat-free mass. While some observational studies suggest limiting red meat, randomized clinical trials generally find little independent effect of lean red meat consumption.\n",
      "\n",
      "\n",
      "\n"
     ]
    }
   ],
   "source": [
    "for chunk in graph.stream(\n",
    "    {\n",
    "        \"messages\": [\n",
    "            {\n",
    "                \"role\": \"user\",\n",
    "                \"content\": \"What Protein diet is best for type 2 diabetes?\",\n",
    "            }\n",
    "        ]\n",
    "    }\n",
    "):\n",
    "    for node, update in chunk.items():\n",
    "        print(\"Update from node\", node)\n",
    "        update[\"messages\"][-1].pretty_print()\n",
    "        print(\"\\n\\n\")"
   ]
  }
 ],
 "metadata": {
  "kernelspec": {
   "display_name": "Python 3",
   "language": "python",
   "name": "python3"
  },
  "language_info": {
   "codemirror_mode": {
    "name": "ipython",
    "version": 3
   },
   "file_extension": ".py",
   "mimetype": "text/x-python",
   "name": "python",
   "nbconvert_exporter": "python",
   "pygments_lexer": "ipython3",
   "version": "3.12.1"
  }
 },
 "nbformat": 4,
 "nbformat_minor": 5
}
