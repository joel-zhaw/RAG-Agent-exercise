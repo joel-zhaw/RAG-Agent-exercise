{
  "cells": [
    {
      "cell_type": "markdown",
      "metadata": {},
      "source": [
        "# 🧭 Agentic RAG — Guided Exercise (Documentation + Try‑it tasks)\n",
        "\n",
        "**Goal:** Keep the *existing code as-is* (including the question router) and layer clear explanations + short exercises so students can *understand and probe each stage*.\n",
        "\n",
        "### Learning Outcomes\n",
        "1. Understand how our **question router** chooses tools and why that matters.\n",
        "2. See that the **retriever** already works as a stand‑alone component.\n",
        "3. Run the **agent** end‑to‑end and interpret traces.\n",
        "4. Compare simple parameter tweaks (`k`, chunk size) on retrieval quality.\n",
        "\n"
      ]
    },
    {
      "cell_type": "markdown",
      "metadata": {},
      "source": [
        "## 0) Map of the Notebook\n",
        "- **A. Build/Load Components**: embedding model, vector store (FAISS), retriever, tools.\n",
        "- **B. Question Router**: routes user input to the right tool/agent path.\n",
        "- **C. Agent Execution**: calls tools, synthesizes final answers.\n",
        "- **D. (Optional) History**: can be added later — not required here.\n"
      ]
    },
    {
      "cell_type": "markdown",
      "metadata": {},
      "source": [
        "## D — (Optional) Parameter experiments\n",
        "- Change retriever `k` from 3 → 1/5 and re-run B & C.\n",
        "- Modify chunking (size/overlap) in your splitter and rebuild the index; note changes.\n",
        "- Add a deliberately **off-topic** note to the corpus and see how the router behaves.\n"
      ]
    },
    {
      "cell_type": "markdown",
      "id": "92e75db1",
      "metadata": {},
      "source": [
        "## 🔩 Imports "
      ]
    },
    {
      "cell_type": "code",
      "execution_count": 9,
      "id": "2e338c3f",
      "metadata": {},
      "outputs": [],
      "source": [
        "import os\n",
        "from dotenv import load_dotenv\n",
        "from PyPDF2 import PdfReader   # For reading PDF files\n",
        "from langchain_text_splitters import RecursiveCharacterTextSplitter\n",
        "from langchain_core.vectorstores import InMemoryVectorStore\n",
        "from langchain_google_genai import GoogleGenerativeAIEmbeddings\n",
        "from langchain_core.tools import create_retriever_tool\n",
        "from langgraph.graph import MessagesState\n",
        "from langchain.chat_models import init_chat_model\n",
        "from typing import Literal\n",
        "from pydantic import BaseModel, Field\n",
        "from langchain_core.messages import convert_to_messages\n",
        "from langgraph.graph import StateGraph, START, END\n",
        "from langgraph.prebuilt import ToolNode, tools_condition\n",
        "from langchain_community.vectorstores import FAISS\n",
        "\n"
      ]
    },
    {
      "cell_type": "markdown",
      "id": "7bb3b598",
      "metadata": {},
      "source": [
        "## 🔩 Load API Key"
      ]
    },
    {
      "cell_type": "code",
      "execution_count": 3,
      "id": "82a4d079",
      "metadata": {},
      "outputs": [],
      "source": [
        "load_dotenv()\n",
        "key = os.getenv(\"GOOGLE_API_KEY\")"
      ]
    },
    {
      "cell_type": "markdown",
      "id": "07ae541c",
      "metadata": {},
      "source": [
        "### 📄 Load a PDF & sanity-check the text\n",
        "\n",
        "**What this does**\n",
        "- Points to a PDF (`data/nihms-1901028.pdf`)\n",
        "- Loads it with `PdfReader`\n",
        "- Checks:\n",
        "  - how many **pages** the PDF has\n",
        "  - how many **characters** are extracted from **page 1**"
      ]
    },
    {
      "cell_type": "code",
      "execution_count": 5,
      "id": "f9602435",
      "metadata": {},
      "outputs": [
        {
          "data": {
            "text/plain": [
              "2966"
            ]
          },
          "execution_count": 5,
          "metadata": {},
          "output_type": "execute_result"
        }
      ],
      "source": [
        "pdf_path = \"data/nihms-1901028.pdf\"\n",
        "reader = PdfReader(pdf_path)\n",
        "len(reader.pages)\n",
        "len(reader.pages[0].extract_text())"
      ]
    },
    {
      "cell_type": "markdown",
      "id": "cb6ffcbb",
      "metadata": {},
      "source": [
        "### 🧹 Collect all PDF text into one string\n",
        "\n",
        "**What this does**\n",
        "- Loops over all pages and calls `extract_text()`\n",
        "- Skips pages that return `None`\n",
        "- Joins everything into a single `text` string and prints it\n",
        "\n",
        "**Why**\n",
        "- Gives you one clean blob for chunking/embedding."
      ]
    },
    {
      "cell_type": "code",
      "execution_count": 7,
      "id": "ec448b21",
      "metadata": {},
      "outputs": [
        {
          "data": {
            "text/plain": [
              "'High and normal protein diets improve body composition and \\nglucose control in adults with type 2 diabetes: A randomized \\ntrial\\nJulianne G. Clina1, R. Drew Sayer1,3, Zhaoxing Pan2, Caroline W. Cohen3, Michael T. \\nMcDermott4, Victoria A. Catenacci4, Holly R. Wyatt1,5, James O. Hill1\\n1Department of Nutrition Sciences, University of Alabama at Birmingham\\n2Department of Pediatrics, University of Colorado Anschutz Medical Campus\\n3Department of Family and Community Medicine, University of Alabama at Birmingham\\n4Division of Endocrinology, Metabolism and Diabetes, University of Colorado School of Medicine, \\nAurora, Colorado\\n5Anschutz Health and Wellness Center, University of Colorado Anschutz Medical Campus\\nAbstract\\nObjective:\\xa0 Weight loss of ≥10% improves glucose control and may remit type 2 diabetes \\n(T2D). High protein (HP) diets are commonly used for weight loss, but whether protein \\nsources, especially red meat, impact weight loss-induced T2D management is unknown. This \\ntrial compared a HP diet including red meat and normal protein (NP) without red meat for weight \\nloss, body composition changes, and glucose control in individuals with T2D.\\nMethods:\\xa0 106 adults (80 female) with T2D consumed a HP (40% protein) diet with ≥4 weekly \\nservings of lean beef or a NP (21% protein) diet excluding red meat during a 52-week weight \\nloss intervention. Body weight, body composition, and cardiometabolic parameters were measured \\nbefore and after intervention.\\nResults:\\xa0 Weight loss was not different between HP (−10.2±1.6 kg) and NP (−12.7±4.8 kg, \\np=0.336). Both groups reduced fat mass and increased fat free mass percent. Hemoglobin A1c, \\nglucose, insulin, insulin resistance, blood pressure, and triglycerides improved with no differences \\nbetween groups.\\nConclusions:\\xa0 The lack of observed effects of dietary protein and red meat consumption on \\nweight loss and improved cardiometabolic health suggest that achieved weight loss – rather than \\ndiet composition – should be the principal target of dietary interventions for T2D management.\\nContact Info:  R. Drew Sayer, Community Health Services Building (CH20) 307B, 930 20th St S, Birmingham, AL 35294, \\nsayerd@uab.edu.\\nAuthor Contribution:  JOH, HJW, and RDS conceived the research project; JGC and CWC conducted the research; ZP performed the \\nstatistical analyses; JGC drafted the manuscript and RDS, JOH, HJW, RDS, CWC, MTM, V AC, and ZP provided critical feedback and \\nedits to the manuscript. All authors take responsibility for the final content of the manuscript.\\nClinical Trial Registration:  National Clinical Trial NCT03832933\\nDisclosure:\\nAll other authors declare no conflicts of interest.\\nHHS Public Access\\nAuthor manuscript\\nObesity (Silver Spring) . Author manuscript; available in PMC 2024 August 01.\\nPublished in final edited form as:\\nObesity (Silver Spring) . 2023 August ; 31(8): 2021–2030. doi:10.1002/oby.23815.\\nAuthor Manuscript Author Manuscript Author Manuscript Author ManuscriptKeywords\\nobesity; weight loss; body composition; type 2 diabetes\\nIntroduction\\nType 2 diabetes (T2D) affects over 30 million adults in America and presents numerous \\npublic health challenges [ 1]. T2D is a major risk factor for cardiovascular disease [ 2], kidney \\ndisease [ 3, 4], amputation [ 5–7], certain cancers [ 8], and blindness [ 9, 10], which results in \\na major cost burden to the healthcare system [ 1]. The primary risk factor for T2D is obesity, \\nwith the majority of those with T2D having overweight or obesity [ 11, 12]. Obesity also \\nincreases the risk of several other co-morbid conditions including heart disease and stroke \\n[11, 13, 14]. It has been demonstrated that both T2D and obesity can be treated with lifestyle \\nmodification. For example, in DiRECT (Diabetes Remission Clinical Trial) weight loss of \\n10 to 15 kg resulted in the remission of T2D in a majority of individuals who had been \\nwho had been diagnosed with T2D within the past 6 years. Nearly 9 in 10 of individuals \\nachieving more than 15 kg of weight loss remitted their T2D [ 15]. While it is clear that \\nweight loss is associated with improvements in T2D, the role of diet composition in the \\nreversal of T2D presents a gap in knowledge.\\nHigher protein diets are an attractive target for lifestyle-based interventions for the treatment \\nof T2D. High protein diets, especially when combined with exercise, produce greater weight \\nloss and prevent losses of fat free mass (FFM) compared to lower protein diets [ 16–18]. In \\npremenopausal women with obesity without diabetes, a high protein diet improved insulin \\nsensitivity more than a high carbohydrate diet even though achieved weight loss was not \\ndifferent between diets (high protein: 9.8 ± 1.4%, high carbohydrate: 9.3 ± 1.6%, p = \\n0.9323) [ 19]. Conversely, a study in post-menopausal women found that consuming a high \\nprotein diet during weight loss eliminated the beneficial effects of 10% weight loss on \\ninsulin action and sensitivity [ 20]. These conflicting results suggest that additional studies \\non the amount and sources of dietary protein during weight loss are needed to determine its \\ninfluence on weight loss induced improvements in T2D.\\nRed meats –and beef in particular –are important contributors to dietary protein intakes \\nin the United States [ 21]. However, some observational studies have associated red \\nmeat consumption with higher risk of T2D, leading to recommendations to limit its \\nconsumption [ 22, 23]. Recommendations to limit red meat consumption are based mostly \\non observational data, while findings from randomized clinical trials usually find a neutral \\neffect of red meat consumption on health outcomes [ 24–28]. A recent meta-analysis found \\nno differences in most glycemic and insulinemic risk factors associated with T2D when \\ncomparing reduced or no red meat diets to diets that contained red meat [ 29]. However, \\nthe impact on red meat consumption during weight loss among people with T2D remains \\nambiguous. Thus, it would be important to know whether beef can be part of a HP dietary \\nplan to reverse T2D by contributing to weight and fat loss and improving weight loss \\nmaintenance.Clina et al. Page 2\\nObesity (Silver Spring) . Author manuscript; available in PMC 2024 August 01.\\nAuthor Manuscript Author Manuscript Author Manuscript Author ManuscriptThe purpose of this randomized clinical trial was to compare a high protein diet (HP) versus \\na normal protein diet (NP) for weight loss, body composition changes, and indicators of type \\n2 diabetes status during a 52-week behavioral weight loss intervention. Both intervention \\ndiets were energy-restricted, and the HP diet included recommendations to include lean \\nbeef in the diet whereas the NP was instructed to refrain from eating any red meats for the \\nduration of the stud. The hypotheses were the HP diet would lead to greater weight loss, \\npreferential loss of fat mass compared to fat free mass, and greater improvements glucose \\ncontrol and cardiometabolic health.\\nMethods\\nParticipants\\nOne hundred and six individuals (80 female) began the intervention and were recruited \\nfrom the Denver, CO (n=39) and Birmingham, AL (n=67) metropolitan areas using letters, \\ninternet advertisements, and news advertisements to participate in the trial. A diagram \\ndepicting participant flow is presented in Figure 1. The study was conducted in three \\ncohorts, with approximately 35 participants in each cohort. Cohort 1 was from the Denver, \\nCO area and began the intervention in January 2020. Cohorts 2 and 3 were from the \\nBirmingham, AL area and began in February 2020 and April 2021, respectively. Participants \\nwere required to be at least 18 years old, BMI ≥27 kg/m2, T2D diagnosis within the past 6 \\nyears (documented physician diagnosis, fasting glucose ≥126 mg/dl, or HbA1c ≥6.5%), be \\nweight stable (±3 kg in the past 3 months), and be stable on all medications for the past 3 \\nmonths. Regarding eligibility criteria for T2D diagnosis, participants were enrolled who had \\na recent diagnosis as described above without meeting the threshold for fasting glucose or \\nHbA1c if that participant was on medication to manage their T2D, which would lower these \\nvalues. Exclusion criteria were: HbA1c ≥ 12%, current eating disorder (anorexia or bulimia), \\ndependence on illicit drugs or alcohol, untreated hypothyroidism, currently using insulin or \\nother drugs known to cause weight loss or gain (including GLP-1 of SGLT-2 medications, \\nsteroids, tricyclic antidepressants, chemotherapy, antipsychotics, prescribed or OTC weight \\nloss agent), following a vegetarian or vegan diet, any illness or injury that would make it \\nunsafe to follow a diet and/or exercise up to 70 minutes at a moderate intensity regularly, \\nand women who were pregnant, lactating, trying to become pregnant, or who had been \\npregnant or lactating in the last six months. Criteria for diabetes diagnoses were confirmed \\nthrough medical records or doctor reports, blood biomarkers were confirmed via a blood \\ntest at the screening visit, and all other criteria were confirmed by self-report. The study \\nprotocol was reviewed and approved the Institutional Review Boards at the University of \\nAlabama at Birmingham and University of Colorado Anschutz Medical Campus. The study \\nwas registered on clinicaltrials.gov  as NCT03832933 .\\nExperimental Design\\nAll participants followed the State of Slim (SOS) weight management program for the first \\n16 weeks of the program, which consisted of weekly group classes led by a trained coach. \\nParticipants received copies of the SOS book, copies of the course materials, and access \\nto the online community. After the first 16 weeks, participants participated in the SOS \\nNext Steps program which consists of 18 bi-weekly group classes for the remainder of the Clina et al. Page 3\\nObesity (Silver Spring) . Author manuscript; available in PMC 2024 August 01.\\nAuthor Manuscript Author Manuscript Author Manuscript Author Manuscriptintervention. Participants were randomly assigned to one of two diet groups: the high protein \\ngroup (HP) with instructions to consume ≥4 weekly servings of lean beef as the only source \\nof red meat or a normal protein group (NP) with instructions to not eat red meat for the \\nduration of the study and followed a modified SOS diet that reduced protein intake.\\nDiet Intervention\\nThe SOS plan is broken up into three distinct phases, each of which having food lists for \\nparticipants to choose from as well as defined portion sizes for each food. Typically, the \\nSOS plan is a high-protein, low fat diet plan that emphasizes non starchy and whole-grain \\ncarbohydrates. The SOS plan also has five diet rules that are to be followed throughout \\neach phase: (1) Eat five to six times per day. (2) Eat breakfast within 1 hour of waking. \\n(3) Do not count calories; instead, measure portions. (4) Have the right protein mix at each \\nmeal (one carbohydrate and one protein at each meal). (5) Eat a healthy fat twice a day. \\nFood lists for the HP and NP groups were similar, with the exception of the HP group \\nbeing asked to consume lean beef ≥4 times per week and the portion sizes for the protein \\nbeing reduced for the NP group. Approximate carbohydrate and protein compositions were \\n32% and 40% of total energy for the HP diet, respectively and 53% and 21% for the NP \\ndiet, respectively. Recommended fat intakes were similar for HP (28% of total energy) \\nand NP (26%). Food lists for each phase given to participants with adjusted portion sizes \\nare presented in supplemental tables 1, 2, and 3. In addition, participants worked up to \\nexercising up to 70 minutes per day, 6 days per week as a part of the program.\\nSelf-reported energy intake and macronutrient distribution were not tracked during the study \\nbecause a principal component of the SOS program is to focus on portion sizes as opposed \\nto counting calories (Diet Rule #3). Participants did complete food logs throughout the \\nintervention, however these were used as a self-monitoring tool to enhance weight loss [ 30], \\nand not intended to measure energy intake or macronutrient distribution. Per the diet rules, \\na detailed food log designed to capture these data would be inconsistent with the program \\ngoals and structure. Further, self-reported measured of food intake are unreliable, and their \\nsuitability for clinical research has been questioned [ 31].\\nParticipants were instructed that clinical decision making as regards T2D management was \\nto be made with their primary care provider, but participants were asked to report any \\nmedication changes to research staff as soon as feasible. Study staff also queried participants \\non any medication changes on a monthly basis throughout the study period.\\nProtocol Modifications due to COVID-19\\nThe original plan for this intervention was for SOS classes to be held in-person. The onset \\nof lockdown orders in the spring of 2020 due to the COVID-19 pandemic required that \\nclasses be moved to an online platform (Zoom). The online intervention format was used \\nfor the remainder of the trial. The group classes were switched to the online format for \\ncohort 1 (Colorado) at week 7 of the intervention and at week 4 for cohort 2 (Alabama). The \\nintervention for cohort 3 (Alabama) was conducted entirely online. Weekly self-weighing \\nwas completed at home with pictures of scale weight sent to the health coaches in lieu \\nof weighing in-person before each class. Additionally, the Week 16 study visits became Clina et al. Page 4\\nObesity (Silver Spring) . Author manuscript; available in PMC 2024 August 01.\\nAuthor Manuscript Author Manuscript Author Manuscript Author Manuscriptat-home study visits for cohorts 1 and 2 with limited data collection due to university-wide \\nrestrictions on in-person clinical research at the University of Colorado Anschutz Medical \\nCampus and the University of Alabama at Birmingham. Participants were sent a link to \\na video call with research staff, who conducted the visit. For this manuscript, baseline \\nand week 52 data were used to assess study outcomes due to the limited data collection \\ntechniques used during the week 16 visits.\\nAnthropometric Measurements\\nBody weight was measured at baseline and week 52 using a digital platform scale \\n(Colorado: Tanita BWB-800 Digital scale, Tanita Cooperation of America, Inc., Arlington \\nHeights, Illinois; Alabama: DETECTO BRW1000, DETECTO, Webb City, MO) in a fasted \\nstate in clinic with participants wearing light clothing after voiding. Height was measured \\nusing a stadiometer in clinic at the screening visit. Body Mass Index (BMI, kg/m2) was \\ncalculated using these measurements. Body composition (fat and lean mass) was measured \\nusing dual x ‐ray absorptiometry at baseline and week 52 (Colorado: Horizon W, APEX \\nsoftware version 5.6.05 Hologic, Inc., Marlborough, MA, USA; Alabama GE Lunar Prodigy \\nPrimo, enCORE software version 15.10.046, GE Healthcare, Chicago, IL, USA). Waist \\ncircumference (WC) was measured at the border of the iliac crest in duplicate in accordance \\nwith the National Institutes of Health recommendations [ 32], measured at baseline and week \\n52.\\nCardiometabolic Health\\nBlood samples were obtained at baseline and week 52 from an antecubital vein by a \\ntrained phlebotomist. Samples were processed and analyzed for glucose, total cholesterol, \\nlow‐density lipoprotein cholesterol (LDL; calculated), high ‐density lipoprotein cholesterol \\n(HDL), triglycerides, HbA1c, and blood urea nitrogen (BUN). Blood samples were \\nprocessed at the University of Alabama Outreach Lab for Alabama samples and at \\nUniversity of Colorado Hospital Clinical Lab for screening and at the Adult CTRC Core lab \\nfor baseline and week 52 visits for Colorado samples. Blood pressure was measured at each \\nin-person study visit using at the left upper arm using an automatic sphygmomanometer \\n(Colorado: Datascope Trio, (Serial# MC07547-A5) Digital Patient Monitor; Alabama, \\nOmron 3-Series Upper Arm Blood Pressure Monitor, OMRON Healthcare Inc., Kyoto, \\nJapan). Blood pressure was measured after the participant rested quietly in a seated position \\nfor ≥5 min with participants’ legs uncrossed and back and arms supported. The measurement \\nwas taken two times and if the reading differed by more than 5 mmHg, a third measurement \\nwas obtained.\\nStatistical Analyses\\nAll study data were collected and managed using REDCap electronic data capture tools \\nhosted at the University of Alabama at Birmingham and University of Colorado Denver [ 33, \\n34]. REDCap is a secure, web-based software platform designed to support data capture \\nfor research studies, providing (1) an intuitive interface for validated data capture; (2) audit \\ntrails for tracking data manipulation and export procedures; (3) automated export procedures \\nfor seamless data downloads to common statistical packages; and (4) procedures for data Clina et al. Page 5\\nObesity (Silver Spring) . Author manuscript; available in PMC 2024 August 01.\\nAuthor Manuscript Author Manuscript Author Manuscript Author Manuscriptintegration and interoperability with external sources. All analyses were completed using \\nSAS (version 9.4, 2002–2012 by SAS Institute Inc.).\\nA sample size of 120 participants was targeted based on findings from the Beef WISE \\nStudy [ 25] to detect a 2.75 kg difference in weight loss between the HP and NP. Weight \\nloss achieved by the ‘Beef’ group in the Beef WISE Study was 8.9±6.0 kg, and this \\ngroup received the same dietary plan and counseling as the HP group in the current \\nstudy. Assuming a similar amount and variability in achieved weight loss, statistical power \\ncalculations indicated that sample size of 112 (56 per group) would provide >80% power ( α \\n= 0.05) to detect a 2.75 kg difference in weight loss.\\nBaseline characteristics were assessed by diet group (HP and NP) as well as the total of \\nthe whole sample. Randomization was performed by the statistician and was stratified by \\nage, sex, BMI, and years since diagnosis of T2D. Differences in baseline characteristic \\nwere assessed using paired t-tests or Chi-squared tests. Linear mixed models (LMM) with \\nunstructured covariance were used to test the effect of diet group, time, and their interaction \\nterm for changes in body weight and composition, and cardiometabolic health using and \\nintention to treat approach (ITT), meaning that all participants that were randomized and \\nhave one or more measures were included in LMM analyses regardless of completion of \\nprotocol or adherence. Differences in frequency of reducing or discontinuing medication for \\nT2D was assessed using Chi-squared tests. SAS 9.4 was used for all the analyses. P<0.05 is \\ndeemed statistically significant.\\nResults\\nBaseline Characteristics of Participants\\nBaseline characteristic of participants are presented in Table 1. No differences in any \\nbaseline characteristics were detected between HP and NP. Participant retention at 52 weeks \\ndid not differ between HP and NP (completed: HP n=37 (69.8%); NP n=34 (64.2%), p= \\n0.51).\\nAdverse Events\\nNo adverse events likely to be related to the study were reported by participants in either \\ngroup.\\nWeight Loss and Body Composition\\nChanges in body weight and composition are shown in Figure 2. Total mass was reduced by \\n10.2±1.6 kg (9.4%) in the HP group and 12.7±4.8 kg (11.8%) in the NP group (Figure 2), \\nwith no difference between groups ( p=0.336). Fat mass percent decreased (HP, 46.2±0.8% \\nvs. 41.9±1.1%, p<0.001; NP, 46.6±0.8% vs. 42.8±1.6%, p<0.001) and fat free mass percent \\nincreased (HP, 52.9±0.8% vs. 57.1±1.1%, p<0.001; NP, 51.8±1.6%, vs. 55.4±0.8% p<0.001) \\nin both groups during the intervention period with no significant difference between HP and \\nNP (fat mass percent, p = 0.665; fat free mass percent, p = 0.689). Both the HP and NP \\ngroups reduced waist circumference (HP, 118±2.0 cm vs. 111±2.1 cm, p=<0.001; NP, 117±2 \\ncm vs. 109±2 cm, p=<0.001) and BMI (HP, 38.7±1.0 kg/m2 vs. 35.0±1.0 kg/m2, p=<0.001; Clina et al. Page 6\\nObesity (Silver Spring) . Author manuscript; available in PMC 2024 August 01.\\nAuthor Manuscript Author Manuscript Author Manuscript Author ManuscriptNP, 38.8±1.0 kg/m2 cm vs. 34.4±1.0 kg/m2, p=<0.001) from baseline to week 52, with no \\ndifferences between groups (waist circumference, p=0.934; BMI, p=0.421). Supplemental \\nfigure 1 includes additional plots related to body composition changes by group.\\nIndicators of Type 2 Diabetes\\nChanges in indicators of type 2 diabetes are presented in Table 2. In general, participants \\nreduced HbA1c, fasting glucose and HOMA-IR with no differences in changes between HP \\nand NP. Data describing participants with HbA1c ≥6.5% or fasting glucose ≥126 mg/dL \\n(clinically diagnostic of T2D) at baseline and week 52 by diet group are presented in Table \\n3. At baseline, 73.6% of participants in the HP group and 62.3% of participants in the NP \\ngroup had biomarkers in the range for T2D. Using the ITT approach, 24.5% and 22.6% \\nof participants in the HP and NP groups respectively reduced these values to no longer \\nmeet diagnostic criteria for T2D. Using the completer analyses, these numbers are 38.2% \\nand 38.5% for the HP and NP groups respectively. Four participants in the HP group and \\n1 participant in the NP group were classified as having a negative change, with values at \\nbaseline not meeting criteria for T2D diagnosis, but meeting these criteria at week 52. There \\nwere no differences between diet groups for any changes in T2D indicators. Also during \\nthe trial, n=14 participants (HP, n=5; NP, n=9) discontinued all T2D medications and n=16 \\n(HP, n=7; NP, n=9) reduced at least one T2D medication. The frequency of discontinuing or \\nreducing T2D medications was not statistically different between HP and NP ( p=0.4358).\\nLaboratory Markers\\nChanges in blood pressure, lipids, and BUN are summarized in Table 4. Participants reduced \\nsystolic and diastolic blood pressures, and triglycerides with no differences between groups. \\nBUN was increased in both groups at week 52 compared to baseline with no difference \\nbetween HP and NP. There were no changes in total cholesterol, HDL cholesterol, or LDL \\ncholesterol in either group over the duration of the intervention.\\nDiscussion\\nBoth the HP and NP diet groups significantly reduced weight and improved in key indicators \\nof T2D with no difference between groups. These findings support data suggesting that \\nweight loss is the primary driver of improvements in glucose control. Results from the Look \\nAHEAD (Action for Health in Diabetes) study found that those with a 5–10% reduction \\nin weight had increased odds of achieving a 0.5% reduction in HbA1c (odds ratio 3.52) \\n[35]. Evidence from review papers also suggests that modest weight loss can successfully \\nresult in remission of T2D in many individuals [ 36]. Findings from the current study further \\nsupport the notion that weight loss can produce improvements in glucose control in many \\nwith T2D. Average weight loss in the current study was consistent with that found to cause \\nimprovements in T2D in the majority of participants in DiRECT [ 15]. Our results extend \\nthose of previous research by demonstrating that weight loss is an effective treatment for \\nT2D.\\nContrary to the hypothesis, the HP diet did not result in greater weight loss when compared \\nto the NP diet. Instead, the groups had similar weight loss and body composition changes Clina et al. Page 7\\nObesity (Silver Spring) . Author manuscript; available in PMC 2024 August 01.\\nAuthor Manuscript Author Manuscript Author Manuscript Author Manuscriptfollowing the intervention. It was also hypothesized that the HP group would result in \\npreferential loss of fat mass compared to fat free mass which was also not supported. A \\nrecent review suggested that a weight loss could increase risk of mortality for those recently \\ndiagnosed with T2D potentially as a result in a decline in appendicular lean mass [ 37]. \\nWhile appendicular body composition was not analyzed for the present study, whole-body \\nfat free mass was only slightly reduced with no significant differences between groups. The \\npreferential loss of fat mass in both diet groups in the present study lessens concerns related \\nto potential weight loss-related adverse events.\\nResults from this study also add to the literature regarding the impact of HP diets during \\nweight loss for individuals with T2D. The HP and NP groups had similar reduction in \\nindices of T2D, including HbA1c and fasting glucose. Some trials have demonstrated that \\na HP diet is more beneficial than a high carbohydrate diet in outcomes associated with \\nT2D [ 19, 38]. However, One trial in post-menopausal women demonstrated that a HP diet \\nduring weight loss could negatively insulin action [ 20], however this did not seem to be \\nthe case in the present study, as marked by similar improvements in HOMA-IR across \\ngroups. In the present study, at baseline, 73.6% of participants in the HP group and 62.3% \\nof participants in the NP group had biomarkers in the range for T2D. Notably, inclusion \\ninto the study was based on previously diagnosed T2D but did not require participants to \\npresent with a diagnostic value for A1c or fasting glucose at baseline. This resulted in some \\nparticipants having A1c or fasting glucose below the diabetic range at study entry. This is \\nlikely because many participants were taking T2D medications at baseline and they were \\nnot required to discontinue medications at study entry as has been done in other studies \\nsuch as DiRECT [ 15]. Participants exhibiting indices of T2D was reduced to 35.1% and \\n32.4% in the HP and NP groups, respectively. These findings strongly suggest that achieved \\nweight loss – regardless of dietary pattern – is the primary factor driving improvements \\nin glucose control. This finding has substantial public health implications as it provides a \\ndegree of individual-level flexibility in choosing a dietary pattern that is consistent with \\npatient preferences.\\nThese results demonstrate that the inclusion of lean, minimally processed beef does not \\nimpact the effectiveness of an energy restricted diet to induce weight loss and improvements \\nin cardiometabolic health. Previous work from our group found equivalent changes in body \\nweight and composition between a HP diet including beef and a HP diet excluding all red \\nmeat [ 25]. The present study builds on this work, through the investigation of two diets \\nwith differing recommended macronutrient compositions. From these data, it is evident that \\nminimally processed, lean beef can be safely included in diets when attempting to lose \\nweight and control glucose.\\nA limitation of this trial was that despite giving explicit diet rules and lists to participants, \\nboth groups saw an equivalent increase in BUN from baseline to week 52. This finding \\ncould indicate that the protein composition of the diet groups likely did not reach the \\nintended macronutrient distributions, with the groups consuming similar amounts of protein. \\nThe study might not have been able to detect the true impact on improvements in T2D \\nmarkers because participants discontinued medication as recommended by their primary \\ncare providers. This could mean that the observed intervention could have had a greater Clina et al. Page 8\\nObesity (Silver Spring) . Author manuscript; available in PMC 2024 August 01.\\nAuthor Manuscript Author Manuscript Author Manuscript Author Manuscripteffect if those participants had stayed on their medications. Additionally, the COVID-19 \\npandemic began during the first cohort of the AL and CO groups and lasted throughout the \\nrest of the study. The onset of the pandemic resulted in several methodological changes of \\nthe study and impacted the lives of participants taking part in the intervention. Fortunately, \\nthe SOS program had been previously delivered in a virtual format, so changes to course \\ncontent were minor. Classes were still able to be held at the usual time, but in a virtual \\nsetting. However, research study visits were completely halted for a period during the study, \\nhence the completion of some of the week 16 visits virtually instead of in-person. This \\nchange limited the data that could be collected at this timepoint. In addition, some outcome \\nmeasures tests that were originally collected in person could no longer be collected at all, \\neven when restrictions were lifted, including resting energy expenditure and six-minute walk \\ntest. These two tests were removed because masks were still required in the research facility \\nand since baseline measurements were collected without masks, it was unclear if the use of \\nmasks at future visits would impact results. Some participants who withdrew from the study \\ncited COVID-19 as a primary reason for leaving, such as increased work demands. Total \\nattrition overall was high at 33%, which is likely due in part to the challenges faced during \\nthe COVID-19 pandemic. Despite challenges, the study team was able to adapt swiftly to the \\nnature of the pandemic and continue the intervention and data collection.\\nThese result show that behavioral weight loss programs can produce significant weight loss \\nin those with T2D and that this weight loss can improve glucose control and many other \\naspects of cardiometabolic health. Results also show that avoiding red meat does not provide \\nan advantage either in weight loss or in disease management.\\nSupplementary Material\\nRefer to Web version on PubMed Central for supplementary material.\\nAcknowledgements\\nThe authors acknowledge Jeanne Anne Breen and Aaron Chestnut for their effort in the recruitment, retention, \\nand completion of study visits. The authors would also like to acknowledge Marsha Miller for coaching the SOS \\nclasses at the CO site. Finally, the authors acknowledge the participants for their contribution to the study and time \\nand effort put forth as a part of this trial. Funding for the parent trial was provided by the Beef Checkoff. This \\nwork was also supported by NIH/NCATS Colorado CTSA Grant Number UL1 TR002535 and by Award Number \\nP30DK056336 from the National Institute Of Diabetes And Digestive And Kidney Diseases. The content is solely \\nthe responsibility of the authors and does not necessarily represent the official views of the National Institute Of \\nDiabetes And Digestive And Kidney Diseases or the National Institutes of Health. The corresponding author will \\ncooperate with any requests for data sharing. Any data described in the manuscript will be made available upon \\nrequest pending application and approval.\\nFunding:\\nFunding for this study was provided by The Beef Checkoff/National Cattlemen’s Beef Association and the \\nUniversity of Alabama at Birmingham, Nutrition Obesity Research Center. The financial supporters had no role in \\nthe design and conduct of the study or collection, analysis, and interpretation of the data.\\nJOH and HRW have received royalties from the book, State of Slim. They have ownership in Shakabuku LLC, \\nwhich offers weight loss to the public. HRW has received grant support for unrelated studies from Gelesis, Novo \\nNordisk, Epitome, and General Mills, Inc., and has done consulting for Gelesis and reports speaking fees from \\nNovo Nordisk, and the National Cattlemen’s Beef Association. JOH has received grant funding for unrelated \\nstudies from Gelesis and has done consulting for Gelesis, General Mills, Inc., and McCormick Science Institute. Clina et al. Page 9\\nObesity (Silver Spring) . Author manuscript; available in PMC 2024 August 01.\\nAuthor Manuscript Author Manuscript Author Manuscript Author ManuscriptRDS has received grant support for an unrelated study from General Mills, Inc., and reports speaking fees from the \\nTexas Beef Council.\\nReferences\\n1. Control, C.f.D. and Prevention, National diabetes statistics report: estimates of diabetes and its \\nburden in the United States, 2014. Atlanta, GA: US Department of Health and Human Services, \\n2014. 2014.\\n2. Einarson TR, et al. , Prevalence of cardiovascular disease in type 2 diabetes: a systematic literature \\nreview of scientific evidence from across the world in 2007–2017. Cardiovascular Diabetology, \\n2018. 17(1): p. 83. [PubMed: 29884191] \\n3. Afkarian M, et al. , Kidney disease and increased mortality risk in type 2 diabetes. Journal of the \\nAmerican Society of Nephrology, 2013. 24(2): p. 302–308. [PubMed: 23362314] \\n4. Koye DN, et al. , The global epidemiology of diabetes and kidney disease. Advances in chronic \\nkidney disease, 2018. 25(2): p. 121–132. [PubMed: 29580576] \\n5. Muller IS, et al. , Foot ulceration and lower limb amputation in type 2 diabetic patients in Dutch \\nprimary health care. Diabetes care, 2002. 25(3): p. 570–574. [PubMed: 11874949] \\n6. Shatnawi NJ, et al. , Predictors of major lower limb amputation in type 2 diabetic patients referred \\nfor hospital care with diabetic foot syndrome. Diabetes, metabolic syndrome and obesity: targets \\nand therapy, 2018. 11: p. 313. [PubMed: 29950877] \\n7. Singh N, Armstrong DG, and Lipsky BA, Preventing foot ulcers in patients with diabetes. Jama, \\n2005. 293(2): p. 217–228. [PubMed: 15644549] \\n8. Berster JM and Göke B, Type 2 diabetes mellitus as risk factor for colorectal cancer. Archives of \\nphysiology and biochemistry, 2008. 114(1): p. 84–98. [PubMed: 18465362] \\n9. Cheung N. and Wong TY , Diabetic retinopathy and systemic vascular complications. Progress in \\nretinal and eye research, 2008. 27(2): p. 161–176. [PubMed: 18249026] \\n10. Sasongko MB, et al. , Prevalence of diabetic retinopathy and blindness in Indonesian adults with \\ntype 2 diabetes. American journal of ophthalmology, 2017. 181: p. 79–87. [PubMed: 28669781] \\n11. Albu J. and Pi-Sunyer FX, Obesity and diabetes, in Handbook of obesity. 2003, CRC Press. p. \\n915–934.\\n12. Maggio CA and Pi-Sunyer FX, Obesity and type 2 diabetes. Endocrinology and Metabolism \\nClinics, 2003. 32(4): p. 805–822. [PubMed: 14711063] \\n13. Apovian CM, Obesity: definition, comorbidities, causes, and burden. Am J Manag Care, 2016. \\n22(7 Suppl): p. s176–85. [PubMed: 27356115] \\n14. Schelbert KB, Comorbidities of obesity. Primary Care: Clinics in Office Practice, 2009. 36(2): p. \\n271–285. [PubMed: 19501243] \\n15. Lean ME, et al. , Primary care-led weight management for remission of type 2 diabetes (DiRECT): \\nan open-label, cluster-randomised trial. The Lancet, 2018. 391(10120): p. 541–551.\\n16. Wycherley TP, et al. , Effects of energy-restricted high-protein, low-fat compared with standard-\\nprotein, low-fat diets: a meta-analysis of randomized controlled trials. The American journal of \\nclinical nutrition, 2012. 96(6): p. 1281–1298. [PubMed: 23097268] \\n17. Wycherley TP, et al. , A high-protein diet with resistance exercise training improves weight loss \\nand body composition in overweight and obese patients with type 2 diabetes. Diabetes care, 2010. \\n33(5): p. 969–976. [PubMed: 20150293] \\n18. Leidy HJ, et al. , The role of protein in weight loss and maintenance. The American journal of \\nclinical nutrition, 2015. 101(6): p. 1320S–1329S. [PubMed: 25926512] \\n19. Kitabchi AE, et al. , Effects of high-protein versus high-carbohydrate diets on markers of β-cell \\nfunction, oxidative stress, lipid peroxidation, proinflammatory cytokines, and adipokines in obese, \\npremenopausal women without diabetes: a randomized controlled trial. Diabetes care, 2013. 36(7): \\np. 1919–1925. [PubMed: 23404297] \\n20. Smith Gordon I., et al. , High-Protein Intake during Weight Loss Therapy Eliminates the Weight-\\nLoss-Induced Improvement in Insulin Action in Obese Postmenopausal Women. Cell Reports, \\n2016. 17(3): p. 849–861. [PubMed: 27732859] Clina et al. Page 10\\nObesity (Silver Spring) . Author manuscript; available in PMC 2024 August 01.\\nAuthor Manuscript Author Manuscript Author Manuscript Author Manuscript21. Daniel CR, et al. , Trends in meat consumption in the USA. Public health nutrition, 2011. 14(4): p. \\n575–583. [PubMed: 21070685] \\n22. Barnard N, Levin S, and Trapp C, Correction: Barnard N, et al. Meat Consumption as a Risk Factor \\nfor Type 2 Diabetes. Nutrients 2014, 6, 897–910. Nutrients, 2014. 6(10): p. 4317–4319. [PubMed: \\n24566443] \\n23. Pan A, et al. , Changes in red meat consumption and subsequent risk of type 2 diabetes mellitus: \\nthree cohorts of US men and women. JAMA internal medicine, 2013. 173(14): p. 1328–1335. \\n[PubMed: 23779232] \\n24. Sayer RD, et al. , Dietary Approaches to Stop Hypertension diet retains effectiveness to reduce \\nblood pressure when lean pork is substituted for chicken and fish as the predominant source \\nof protein. The American journal of clinical nutrition, 2015. 102(2): p. 302–308. [PubMed: \\n26063693] \\n25. Sayer R, et al. , Equivalent reductions in body weight during the Beef WISE Study: beef’s role in \\nweight improvement, satisfaction and energy. Obesity science & practice, 2017. 3(3): p. 298–310. \\n[PubMed: 29071106] \\n26. Roussell MA, et al. , Beef in an Optimal Lean Diet study: effects on lipids, lipoproteins, and \\napolipoproteins. The American journal of clinical nutrition, 2012. 95(1): p. 9–16. [PubMed: \\n22170364] \\n27. Roussell M, et al. , Effects of a DASH-like diet containing lean beef on vascular health. Journal of \\nhuman hypertension, 2014. 28(10): p. 600–605. [PubMed: 24943285] \\n28. Magkos F, et al. , Unprocessed red meat in the dietary treatment of obesity: a randomized \\ncontrolled trial of beef supplementation during weight maintenance after successful weight loss. \\nThe American Journal of Clinical Nutrition, 2022.\\n29. Sanders LM, Wilcox ML, and Maki KC, Red meat consumption and risk factors for type 2 \\ndiabetes: a systematic review and meta-analysis of randomized controlled trials. European Journal \\nof Clinical Nutrition, 2022.\\n30. Butryn ML, et al. , Consistent self-monitoring of weight: a key component of successful weight \\nloss maintenance. Obesity (Silver Spring), 2007. 15(12): p. 3091–6. [PubMed: 18198319] \\n31. Dhurandhar NV , et al. , Energy balance measurement: when something is not better than nothing. \\nInternational journal of obesity, 2015. 39(7): p. 1109–1113. [PubMed: 25394308] \\n32. Obesity, N.A.A.f.t.S.o., et al., The practical guide: identification, evaluation, and treatment of \\noverweight and obesity in adults. 2000: National Institutes of Health, National Heart, Lung, and \\nBlood Institute ….\\n33. Harris PA, et al. , The REDCap consortium: Building an international community of software \\nplatform partners. Journal of biomedical informatics, 2019. 95: p. 103208.\\n34. Harris PA, et al. , Research electronic data capture (REDCap)—a metadata-driven methodology \\nand workflow process for providing translational research informatics support. Journal of \\nbiomedical informatics, 2009. 42(2): p. 377–381. [PubMed: 18929686] \\n35. Wing RR, et al. , Benefits of Modest Weight Loss in Improving Cardiovascular Risk Factors in \\nOverweight and Obese Individuals With Type 2 Diabetes. Diabetes Care, 2011. 34(7): p. 1481–\\n1486. [PubMed: 21593294] \\n36. Lau DCW and Teoh H, Benefits of Modest Weight Loss on the Management of Type 2 Diabetes \\nMellitus. Canadian Journal of Diabetes, 2013. 37(2): p. 128–134. [PubMed: 24070804] \\n37. Huang S, et al. , Association of magnitude of weight loss and weight variability with mortality and \\nmajor cardiovascular events among individuals with type 2 diabetes mellitus: a systematic review \\nand meta-analysis. Cardiovascular Diabetology, 2022. 21(1): p. 78. [PubMed: 35578337] \\n38. McAuley K, et al. , Comparison of high-fat and high-protein diets with a high-carbohydrate diet in \\ninsulin-resistant obese women. Diabetologia, 2005. 48: p. 8–16. [PubMed: 15616799] Clina et al. Page 11\\nObesity (Silver Spring) . Author manuscript; available in PMC 2024 August 01.\\nAuthor Manuscript Author Manuscript Author Manuscript Author ManuscriptWhat is already known about this subject?\\n• Weight loss of ≥10% improves can improve glucose control and even remit \\ntype 2 diabetes for some\\n• High protein diets can produce greater weight loss and prevent loss of fat free \\nmass compared to diets lower in protein\\n• Some observational studies recommend limiting red meat consumption to \\nreduce risk for type 2 diabetes, but data from randomized clinical trials \\ngenerally find little to no independent effect of lean red meat consumption.\\nWhat are the new findings in your manuscript?\\n• Both a normal protein diet excluding red meat and a high protein diet \\ncontaining red meat are effective at producing weight loss and improvements \\nin glucose control\\nHow might your results change the direction of research or the focus of clinical \\npractice?\\n• Weight loss, not diet composition, is the primary driver of type 2 diabetes \\nmanagement\\n• Avoiding red meat does not provide additional benefit for weight loss or \\nimprovements in glucose control during a weight loss interventionClina et al. Page 12\\nObesity (Silver Spring) . Author manuscript; available in PMC 2024 August 01.\\nAuthor Manuscript Author Manuscript Author Manuscript Author ManuscriptFigure 1. CONSORT Diagram\\nDiagram of participant flow.Clina et al. Page 13\\nObesity (Silver Spring) . Author manuscript; available in PMC 2024 August 01.\\nAuthor Manuscript Author Manuscript Author Manuscript Author ManuscriptFigure 2. Change in Body Weight and Composition\\nDepicts changes in weight and composition (fat and fat free mass) in kilograms from \\nbaseline to week 52 by diet group. Mixed effects models used to test the effect of diet \\ngroup, time, and their interaction term on body weight and composition changes. Presented \\nas LSMEANS±SE. Both groups had a significantly reduced weight (HP −10.2±1.6 kg; NP \\n−12.5±1.6 kg), fat mass (HP −8.4±1.4 kg; NP −9.1±1.5 kg), and fat-free mass (HP −1.8±0.4 \\nkg; NP −2.9±0.4 kg), but the majority of weight loss was due to fat mass loss. There were \\nno differences in outcomes by diet group in changes in total mass ( p=0.333), fat mass \\n(p=0.735), or fat free mass p=0.056).Clina et al. Page 14\\nObesity (Silver Spring) . Author manuscript; available in PMC 2024 August 01.\\nAuthor Manuscript Author Manuscript Author Manuscript Author ManuscriptAuthor Manuscript Author Manuscript Author Manuscript Author ManuscriptClina et al. Page 15\\nTable 1.\\nBaseline Characteristics of Participants\\nPresent baseline characteristics of participants by diet group assignment. Percent of sample (i.e. % female, % \\nusing medications for T2D), waist circumference, and blood biomarkers rounded to the nearest whole number \\n(except HOMA-IR, HbA1c %, and insulin)\\nParameter HP NP\\nAge, y (M±SD) 54.1 ± 12.0 55.4 ± 9.6\\nDuration of T2D, y (M±SD) 3.2 ± 1.8 3.2 ± 1.6\\nFemale, n (%) 38 (72) 42 (79)\\nUsing Medications for T2D, n (%) 48 (91) 46 (87)\\nAnthropometrics  (M±SD)\\n Weight, kg 108.0 ± 22.8 107.8 ± 26.6\\n BMI, kg/m2 38.7 ± 6.8 38.8 ± 7.3\\n Waist Circumference, cm 118 ± 14 117 ± 15\\n Fat Mass, % 46.2 ± 6.2 46.6 ± 5.9\\n Fat-Free Mass, % 52.9 ± 6.1 52.4 ± 5.8\\nBiomarkers  (M±SD)\\n HOMA-IR 7.6 ± 7.0 5.9 ± 3.4\\n Glucose, mg/dL 134 ± 38 130 ± 40\\n HbA1c, % 7.2 ± 1.0 7.0 ± 1.3\\n Insulin, μIU/mL 22.3 ± 16.5 18.1 ± 11.1\\n BP Systolic, mmHg 135 ± 15 135 ± 15\\n BP Diastolic, mmHg 86 ± 9 86 ± 9\\n Triglycerides, mg/dL 138 ± 71 139 ± 58\\n HDL Cholesterol, mg/dL 47 ± 11 45 ± 9\\n LDL Cholesterol, mg/dL 94 ± 28 95 ± 36\\nRace , n (%)\\n White 37 (70) 30 (57)\\n Black 11 (21) 19 (39)\\n Asian 3 (6) 1 (2)\\n Native Hawaiian or Pacific Islander 1 (2) 0 (0)\\n Other 1 (2) 3 (6)\\nEthnicity , n (%)\\n Hispanic 6 (11) 9 (17)\\n Non-Hispanic 46 (87) 43 (81)\\n Did not report 1 (2) 1 (2)\\nAbbreviations: BMI, body mass index; BP, blood pressure; cm, centimeter; dL, deciliter; HDL, high ‐density lipoprotein cholesterol; HbA1c, \\nhemoglobin A1c; HOMA-IR, Homeostatic Model Assessment for Insulin Resistance; HP, high protein; kg, kilogram; LDL, low ‐density lipoprotein \\ncholesterol; M, mean; m, meter; mg, milligrams; ml, milliliter; mmHg, millimeters of mercury; NP, normal protein; SD, standard deviation; T2D, \\ntype 2 diabetes; y, years; μIU, micro international unit.\\nObesity (Silver Spring) . Author manuscript; available in PMC 2024 August 01.Author Manuscript Author Manuscript Author Manuscript Author ManuscriptClina et al. Page 16\\nTable 2.\\nChanges in Indicators of Type 2 Diabetes by Diet Group\\nParameter Group Baseline Week 52 Mean Change 95% CI for Change P-value\\nGlucose, mg/dL HP 134 (5) 115 (6) −19 (6) (−31.0, −6.8)\\nNP 130 (5) 111 (6) −19 (6) (−31.4, −6.4) 0.999\\nHbA1c, % HP 7.2 (0.2) 6.4 (0.2) −0.8 (0.2) (−1.1, −0.4)\\nNP 7.0 (0.2) 6.5 (0.2) −0.5 (0.2) (−0.9, −0.1) 0.329\\nInsulin, μIU/mL HP 22.3 (1.9) 14.5 (1.7) −7.8 (2.0) (−11.8, −3.7)\\nNP 18.8 (1.9) 11.0 (1.8) −7.8 (2.0) (−12.0, −3.7) 0.979\\nHOMA-IR HP 7.6 (0.8) 4.5 (0.7) −3.1 (0.8) (−4.7, −1.6)\\nNP 5.9 (0.8) 3.2 (0.7) −2.7 (.8) (−4.2, −1.1) 0.657\\nValues presented as LS MEANS (SE) with glucose values rounded to nearest whole number. Values are model based from the ITT analysis \\nperformed, including LS MEANS, change, and 95% CI.\\nP-value represents differences in change between diet groups (HP vs. NP)\\nMixed effects model used to test the effect of time, group, and their interaction term on changes in indicators of type 2 diabetes. Both diet groups \\nreduced, glucose, HbA1c, insulin, and HOMA-IR from baseline to week 52. There were no differences in change in any parameters by diet group \\n(HP vs NP)\\nAbbreviations: dL, deciliter; HbA1c, hemoglobin A1c; HOMA-IR, Homeostatic Model Assessment for Insulin Resistance; HP, high protein; mg, \\nmilligrams; mL, milliliter; NP, normal protein; μIU, micro international unit.\\nObesity (Silver Spring) . Author manuscript; available in PMC 2024 August 01.Author Manuscript Author Manuscript Author Manuscript Author ManuscriptClina et al. Page 17\\nTable 3.\\nChanges in Type 2 Diabetes Status\\nPresents changes in status of Type 2 Diabetes as indicated by HbA1c ≥6.5% or fasting glucose ≥126 mg/dL \\n(clinically diagnostic of T2D) from baseline to week 52 of the trial.\\nITT Approach HP n (%) NP n (%)\\nRemained in abnormal range 7 (13) 12 (23)\\nRemained in normal range 12 (19) 9 (17)\\nPositive change (abnormal to normal value) 13 (25) 12 (23)\\nNegative change (normal to abnormal) 4 (8) 1 (2)\\nUnknown (no paired value) 19 (36) 16 (30)\\nCompleters Analysis\\nRemained in abnormal range 7 (21) 12 (33)\\nRemained in normal range 10 (2) 9 (25)\\nPositive change (abnormal to normal value) 13 (38) 14 (39)\\nNegative change (normal to abnormal) 4 (12) 1 (3)\\nIntention to treat (ITT) and completers analyses are presented. Unknown in the ITT approach refers to participants without either a baseline or \\nweek 52 value, therefore no conclusions could be made regarding change in status. Abnormal value refers to lab values consistent with T2D \\ndiagnosis where normal range refers to values below the criteria for T2D diagnosis. Percentages rounded to nearest whole number.\\nObesity (Silver Spring) . Author manuscript; available in PMC 2024 August 01.Author Manuscript Author Manuscript Author Manuscript Author ManuscriptClina et al. Page 18\\nTable 4.\\nLaboratory Markers Changes by Diet Group\\nValues presented as LS MEANS (SE) rounded to the nearest whole number. Values are model based from the \\nITT analysis performed, including LS MEANS, change, and 95% CI.\\nParameter Group Baseline Week 52 Mean Change 95% CI for Change P-value\\nBP Systolic, mmHg HP 135 (2) 126 (3) −9 (2) (−13.0, −5.1)\\nNP 135 (2) 127 (3) −8 (2) (−12.2, −3.9) 0.719\\nBP Diastolic, mmHg HP 86 (1) 78 (1) −7 (2) (−10.2, −4.2)\\nNP 86 (1) 81 (2) −6 (2) (−8.6, −2.3) 0.430\\nTriglycerides, mg/dL HP 138 (9) 114 (10) −25 (9) (−42.8, −6.1)\\nNP 139 (9) 110 (10) −29 (10) (−48.0, −10.0) 0.732\\nHDL Cholesterol, mg/dL HP 47 (1) 47 (2) 2 (1) (−2.1, 2.9)\\nNP 45 (1) 47 (2) 1 (2) (−0.8, 4.4) 0.448\\nLDL Cholesterol, mg/dL HP 94 (4) 91 (5) −3 (4) (−11.1, 4.6)\\nNP 95 (4) 94 (5) −1 (4) (−9.3, 6.9) 0.718\\nBUN HP 15 (1) 17 (1) 3 (1) (1.5, 4.2)\\nNP 15 (6) 18 (1) 3 (1) (1.2, 4.0) 0.770\\nP-value represents differences in change between diet groups (HP vs. NP)\\nMixed effects model used to test the effect of time, group, and their interaction term on changes in laboratory markers. Both diet groups reduced \\nsystolic and diastolic blood pressures and triglycerides from baseline to week 52. Neither group had changes in HDL or LDL cholesterol from \\nbaseline to week 52. Both groups increased BUN from baseline to week 52. There were no differences in change in any parameters by diet group \\n(HP vs NP)\\nAbbreviations: BUN, blood urea nitrogen; BP, blood pressure; dL, deciliter; HDL, high ‐density lipoprotein cholesterol; HP, high protein; LDL, \\nlow‐density lipoprotein cholesterol; mg, milligrams; mmHg, millimeters of mercury; NP, normal protein.\\nObesity (Silver Spring) . Author manuscript; available in PMC 2024 August 01.'"
            ]
          },
          "execution_count": 7,
          "metadata": {},
          "output_type": "execute_result"
        }
      ],
      "source": [
        "text = \"\".join(page.extract_text() for page in reader.pages if page.extract_text())\n",
        "text"
      ]
    },
    {
      "cell_type": "markdown",
      "id": "5155a615",
      "metadata": {},
      "source": [
        "### ✂️ Split text into chunks (token-aware)\n",
        "\n",
        "**What this does**\n",
        "- Uses a tokenizer-aware splitter to break `text` into overlapping chunks.\n",
        "- Parameters:\n",
        "  - `chunk_size=400` characters\n",
        "  - `chunk_overlap=50` characters\n",
        "- Stores the result in `chunks` and displays them.\n",
        "\n",
        "**Why**\n",
        "- Smaller, overlapping chunks can help to improve retrieval recall while keeping context."
      ]
    },
    {
      "cell_type": "code",
      "execution_count": 12,
      "id": "521405e8",
      "metadata": {},
      "outputs": [
        {
          "data": {
            "text/plain": [
              "['High and normal protein diets improve body composition and \\nglucose control in adults with type 2 diabetes: A randomized \\ntrial\\nJulianne G. Clina1, R. Drew Sayer1,3, Zhaoxing Pan2, Caroline W. Cohen3, Michael T. \\nMcDermott4, Victoria A. Catenacci4, Holly R. Wyatt1,5, James O. Hill1\\n1Department of Nutrition Sciences, University of Alabama at Birmingham\\n2Department of Pediatrics, University of Colorado Anschutz Medical Campus\\n3Department of Family and Community Medicine, University of Alabama at Birmingham\\n4Division of Endocrinology, Metabolism and Diabetes, University of Colorado School of Medicine, \\nAurora, Colorado\\n5Anschutz Health and Wellness Center, University of Colorado Anschutz Medical Campus\\nAbstract\\nObjective:\\xa0 Weight loss of ≥10% improves glucose control and may remit type 2 diabetes \\n(T2D). High protein (HP) diets are commonly used for weight loss, but whether protein \\nsources, especially red meat, impact weight loss-induced T2D management is unknown. This \\ntrial compared a HP diet including red meat and normal protein (NP) without red meat for weight \\nloss, body composition changes, and glucose control in individuals with T2D.\\nMethods:\\xa0 106 adults (80 female) with T2D consumed a HP (40% protein) diet with ≥4 weekly \\nservings of lean beef or a NP (21% protein) diet excluding red meat during a 52-week weight \\nloss intervention. Body weight, body composition, and cardiometabolic parameters were measured \\nbefore and after intervention.\\nResults:\\xa0 Weight loss was not different between HP (−10.2±1.6 kg) and NP (−12.7±4.8 kg,',\n",
              " 'before and after intervention.\\nResults:\\xa0 Weight loss was not different between HP (−10.2±1.6 kg) and NP (−12.7±4.8 kg, \\np=0.336). Both groups reduced fat mass and increased fat free mass percent. Hemoglobin A1c, \\nglucose, insulin, insulin resistance, blood pressure, and triglycerides improved with no differences \\nbetween groups.\\nConclusions:\\xa0 The lack of observed effects of dietary protein and red meat consumption on \\nweight loss and improved cardiometabolic health suggest that achieved weight loss – rather than \\ndiet composition – should be the principal target of dietary interventions for T2D management.\\nContact Info:  R. Drew Sayer, Community Health Services Building (CH20) 307B, 930 20th St S, Birmingham, AL 35294, \\nsayerd@uab.edu.\\nAuthor Contribution:  JOH, HJW, and RDS conceived the research project; JGC and CWC conducted the research; ZP performed the \\nstatistical analyses; JGC drafted the manuscript and RDS, JOH, HJW, RDS, CWC, MTM, V AC, and ZP provided critical feedback and \\nedits to the manuscript. All authors take responsibility for the final content of the manuscript.\\nClinical Trial Registration:  National Clinical Trial NCT03832933\\nDisclosure:\\nAll other authors declare no conflicts of interest.\\nHHS Public Access\\nAuthor manuscript\\nObesity (Silver Spring) . Author manuscript; available in PMC 2024 August 01.\\nPublished in final edited form as:\\nObesity (Silver Spring) . 2023 August ; 31(8): 2021–2030. doi:10.1002/oby.23815.']"
            ]
          },
          "execution_count": 12,
          "metadata": {},
          "output_type": "execute_result"
        }
      ],
      "source": [
        "\n",
        "text_splitter = RecursiveCharacterTextSplitter.from_tiktoken_encoder(\n",
        "    chunk_size=400, chunk_overlap=50\n",
        ")\n",
        "chunks = text_splitter.split_text(text)\n",
        "chunks[:2]"
      ]
    },
    {
      "cell_type": "markdown",
      "id": "8901e1e2",
      "metadata": {},
      "source": [
        "### 📦 Build a vector index with FAISS + Gemini embeddings\n",
        "\n",
        "**What this does**\n",
        "- Embeds each chunk using `GoogleGenerativeAIEmbeddings(model=\"models/gemini-embedding-001\")`\n",
        "- Indexes vectors in **FAISS** (`from_texts`) for fast similarity search"
      ]
    },
    {
      "cell_type": "code",
      "execution_count": 13,
      "id": "a1cb224e",
      "metadata": {},
      "outputs": [
        {
          "name": "stderr",
          "output_type": "stream",
          "text": [
            "E0000 00:00:1761149651.901803   41421 alts_credentials.cc:93] ALTS creds ignored. Not running on GCP and untrusted ALTS is not enabled.\n"
          ]
        }
      ],
      "source": [
        "vectorstore = FAISS.from_texts(chunks, embedding=GoogleGenerativeAIEmbeddings(model=\"models/gemini-embedding-001\"))\n"
      ]
    },
    {
      "cell_type": "markdown",
      "id": "6a226cfc",
      "metadata": {},
      "source": [
        "### 🔎 Try the index with different queries\n",
        "\n",
        "*You can also change the value for k and see what happens*"
      ]
    },
    {
      "cell_type": "code",
      "execution_count": 14,
      "id": "c610b40e",
      "metadata": {},
      "outputs": [
        {
          "name": "stdout",
          "output_type": "stream",
          "text": [
            "(Document(id='5026b339-ef20-4a2d-bada-8545ad016530', metadata={}, page_content='High and normal protein diets improve body composition and \\nglucose control in adults with type 2 diabetes: A randomized \\ntrial\\nJulianne G. Clina1, R. Drew Sayer1,3, Zhaoxing Pan2, Caroline W. Cohen3, Michael T. \\nMcDermott4, Victoria A. Catenacci4, Holly R. Wyatt1,5, James O. Hill1\\n1Department of Nutrition Sciences, University of Alabama at Birmingham\\n2Department of Pediatrics, University of Colorado Anschutz Medical Campus\\n3Department of Family and Community Medicine, University of Alabama at Birmingham\\n4Division of Endocrinology, Metabolism and Diabetes, University of Colorado School of Medicine, \\nAurora, Colorado\\n5Anschutz Health and Wellness Center, University of Colorado Anschutz Medical Campus\\nAbstract\\nObjective:\\xa0 Weight loss of ≥10% improves glucose control and may remit type 2 diabetes \\n(T2D). High protein (HP) diets are commonly used for weight loss, but whether protein \\nsources, especially red meat, impact weight loss-induced T2D management is unknown. This \\ntrial compared a HP diet including red meat and normal protein (NP) without red meat for weight \\nloss, body composition changes, and glucose control in individuals with T2D.\\nMethods:\\xa0 106 adults (80 female) with T2D consumed a HP (40% protein) diet with ≥4 weekly \\nservings of lean beef or a NP (21% protein) diet excluding red meat during a 52-week weight \\nloss intervention. Body weight, body composition, and cardiometabolic parameters were measured \\nbefore and after intervention.\\nResults:\\xa0 Weight loss was not different between HP (−10.2±1.6 kg) and NP (−12.7±4.8 kg,'), np.float32(0.26511174))\n",
            "(Document(id='e4caf960-da31-4fb4-a5e8-8f7718ed9ceb', metadata={}, page_content='Higher protein diets are an attractive target for lifestyle-based interventions for the treatment \\nof T2D. High protein diets, especially when combined with exercise, produce greater weight \\nloss and prevent losses of fat free mass (FFM) compared to lower protein diets [ 16–18]. In \\npremenopausal women with obesity without diabetes, a high protein diet improved insulin \\nsensitivity more than a high carbohydrate diet even though achieved weight loss was not \\ndifferent between diets (high protein: 9.8 ± 1.4%, high carbohydrate: 9.3 ± 1.6%, p = \\n0.9323) [ 19]. Conversely, a study in post-menopausal women found that consuming a high \\nprotein diet during weight loss eliminated the beneficial effects of 10% weight loss on \\ninsulin action and sensitivity [ 20]. These conflicting results suggest that additional studies \\non the amount and sources of dietary protein during weight loss are needed to determine its \\ninfluence on weight loss induced improvements in T2D.\\nRed meats –and beef in particular –are important contributors to dietary protein intakes \\nin the United States [ 21]. However, some observational studies have associated red \\nmeat consumption with higher risk of T2D, leading to recommendations to limit its \\nconsumption [ 22, 23]. Recommendations to limit red meat consumption are based mostly \\non observational data, while findings from randomized clinical trials usually find a neutral \\neffect of red meat consumption on health outcomes [ 24–28]. A recent meta-analysis found \\nno differences in most glycemic and insulinemic risk factors associated with T2D when \\ncomparing reduced or no red meat diets to diets that contained red meat [ 29]. However, \\nthe impact on red meat consumption during weight loss among people with T2D remains'), np.float32(0.292131))\n",
            "(Document(id='1646672d-bafe-41ed-8802-1e75c4e7ee5c', metadata={}, page_content='(HP, n=7; NP, n=9) reduced at least one T2D medication. The frequency of discontinuing or \\nreducing T2D medications was not statistically different between HP and NP ( p=0.4358).\\nLaboratory Markers\\nChanges in blood pressure, lipids, and BUN are summarized in Table 4. Participants reduced \\nsystolic and diastolic blood pressures, and triglycerides with no differences between groups. \\nBUN was increased in both groups at week 52 compared to baseline with no difference \\nbetween HP and NP. There were no changes in total cholesterol, HDL cholesterol, or LDL \\ncholesterol in either group over the duration of the intervention.\\nDiscussion\\nBoth the HP and NP diet groups significantly reduced weight and improved in key indicators \\nof T2D with no difference between groups. These findings support data suggesting that \\nweight loss is the primary driver of improvements in glucose control. Results from the Look \\nAHEAD (Action for Health in Diabetes) study found that those with a 5–10% reduction \\nin weight had increased odds of achieving a 0.5% reduction in HbA1c (odds ratio 3.52) \\n[35]. Evidence from review papers also suggests that modest weight loss can successfully \\nresult in remission of T2D in many individuals [ 36]. Findings from the current study further \\nsupport the notion that weight loss can produce improvements in glucose control in many \\nwith T2D. Average weight loss in the current study was consistent with that found to cause \\nimprovements in T2D in the majority of participants in DiRECT [ 15]. Our results extend \\nthose of previous research by demonstrating that weight loss is an effective treatment for \\nT2D.\\nContrary to the hypothesis, the HP diet did not result in greater weight loss when compared'), np.float32(0.34276694))\n",
            "(Document(id='a8c18976-2778-4f8e-8317-9f3ce50d1bcd', metadata={}, page_content='Published in final edited form as:\\nObesity (Silver Spring) . 2023 August ; 31(8): 2021–2030. doi:10.1002/oby.23815.\\nAuthor Manuscript Author Manuscript Author Manuscript Author ManuscriptKeywords\\nobesity; weight loss; body composition; type 2 diabetes\\nIntroduction\\nType 2 diabetes (T2D) affects over 30 million adults in America and presents numerous \\npublic health challenges [ 1]. T2D is a major risk factor for cardiovascular disease [ 2], kidney \\ndisease [ 3, 4], amputation [ 5–7], certain cancers [ 8], and blindness [ 9, 10], which results in \\na major cost burden to the healthcare system [ 1]. The primary risk factor for T2D is obesity, \\nwith the majority of those with T2D having overweight or obesity [ 11, 12]. Obesity also \\nincreases the risk of several other co-morbid conditions including heart disease and stroke \\n[11, 13, 14]. It has been demonstrated that both T2D and obesity can be treated with lifestyle \\nmodification. For example, in DiRECT (Diabetes Remission Clinical Trial) weight loss of \\n10 to 15 kg resulted in the remission of T2D in a majority of individuals who had been \\nwho had been diagnosed with T2D within the past 6 years. Nearly 9 in 10 of individuals \\nachieving more than 15 kg of weight loss remitted their T2D [ 15]. While it is clear that \\nweight loss is associated with improvements in T2D, the role of diet composition in the \\nreversal of T2D presents a gap in knowledge.\\nHigher protein diets are an attractive target for lifestyle-based interventions for the treatment \\nof T2D. High protein diets, especially when combined with exercise, produce greater weight'), np.float32(0.34393853))\n"
          ]
        }
      ],
      "source": [
        "query = \"I'm newly diagnosed with type 2 diabetes. Is a higher-protein diet helpful?\"\n",
        "for document in vectorstore.similarity_search_with_score(query, k=4):\n",
        "    print(document)"
      ]
    },
    {
      "cell_type": "markdown",
      "id": "3be79c40",
      "metadata": {},
      "source": [
        "Your turn — on-topic query (diabetes/protein)\n",
        "Try a different wording or a specific sub-question (e.g., kidney disease, lean sources, satiety)."
      ]
    },
    {
      "cell_type": "code",
      "execution_count": null,
      "id": "e494e359",
      "metadata": {},
      "outputs": [],
      "source": []
    },
    {
      "cell_type": "markdown",
      "id": "2799fbd1",
      "metadata": {},
      "source": [
        "Your turn — off-topic query (unrelated)\n",
        "Ask something unrelated (e.g., “What’s the capital of France?”). Notice the retriever still returns something unless you add filters or thresholds."
      ]
    },
    {
      "cell_type": "code",
      "execution_count": null,
      "id": "9563950b",
      "metadata": {},
      "outputs": [],
      "source": []
    },
    {
      "cell_type": "markdown",
      "id": "fa4aee39",
      "metadata": {},
      "source": [
        "### 🔧 Turn the index into a retriever\n",
        "\n",
        "**What this does**\n",
        "- Wraps the FAISS index as a `retriever` you can call with natural-language queries.\n",
        "\n",
        "**Default behavior**\n",
        "- Returns top-k similar chunks"
      ]
    },
    {
      "cell_type": "code",
      "execution_count": 15,
      "id": "3f63a778",
      "metadata": {},
      "outputs": [],
      "source": [
        "retriever = vectorstore.as_retriever()"
      ]
    },
    {
      "cell_type": "markdown",
      "id": "4cc22d42",
      "metadata": {},
      "source": [
        "### 🧰 Expose the retriever as a **Tool**\n",
        "\n",
        "**What this does**\n",
        "- Wraps your `retriever` as a tool the agent can call.\n",
        "- `name=\"retrieve_medical_information\"` → how the agent refers to it.\n",
        "- `description=...` → guidance for when the tool should be used.\n",
        "\n",
        "**Why**\n",
        "- Tools make retrieval **addressable** by the agent/router (it can decide to call this when a query needs grounded info).\n",
        "\n",
        "**Tip**\n",
        "- Keep the tool name concise and the description specific (scope, domain). Clear wording improves routing."
      ]
    },
    {
      "cell_type": "code",
      "execution_count": 17,
      "id": "405273bd",
      "metadata": {},
      "outputs": [],
      "source": [
        "retriever_tool = create_retriever_tool(\n",
        "    retriever,\n",
        "    \"retrieve_medical_information\",\n",
        "    \"Search and return information about Protein Diets for Daibetes 2 Patients.\",\n",
        ")"
      ]
    },
    {
      "cell_type": "code",
      "execution_count": 18,
      "id": "77347c8d",
      "metadata": {},
      "outputs": [
        {
          "data": {
            "text/plain": [
              "'High and normal protein diets improve body composition and \\nglucose control in adults with type 2 diabetes: A randomized \\ntrial\\nJulianne G. Clina1, R. Drew Sayer1,3, Zhaoxing Pan2, Caroline W. Cohen3, Michael T. \\nMcDermott4, Victoria A. Catenacci4, Holly R. Wyatt1,5, James O. Hill1\\n1Department of Nutrition Sciences, University of Alabama at Birmingham\\n2Department of Pediatrics, University of Colorado Anschutz Medical Campus\\n3Department of Family and Community Medicine, University of Alabama at Birmingham\\n4Division of Endocrinology, Metabolism and Diabetes, University of Colorado School of Medicine, \\nAurora, Colorado\\n5Anschutz Health and Wellness Center, University of Colorado Anschutz Medical Campus\\nAbstract\\nObjective:\\xa0 Weight loss of ≥10% improves glucose control and may remit type 2 diabetes \\n(T2D). High protein (HP) diets are commonly used for weight loss, but whether protein \\nsources, especially red meat, impact weight loss-induced T2D management is unknown. This \\ntrial compared a HP diet including red meat and normal protein (NP) without red meat for weight \\nloss, body composition changes, and glucose control in individuals with T2D.\\nMethods:\\xa0 106 adults (80 female) with T2D consumed a HP (40% protein) diet with ≥4 weekly \\nservings of lean beef or a NP (21% protein) diet excluding red meat during a 52-week weight \\nloss intervention. Body weight, body composition, and cardiometabolic parameters were measured \\nbefore and after intervention.\\nResults:\\xa0 Weight loss was not different between HP (−10.2±1.6 kg) and NP (−12.7±4.8 kg,\\n\\nHigher protein diets are an attractive target for lifestyle-based interventions for the treatment \\nof T2D. High protein diets, especially when combined with exercise, produce greater weight \\nloss and prevent losses of fat free mass (FFM) compared to lower protein diets [ 16–18]. In \\npremenopausal women with obesity without diabetes, a high protein diet improved insulin \\nsensitivity more than a high carbohydrate diet even though achieved weight loss was not \\ndifferent between diets (high protein: 9.8 ± 1.4%, high carbohydrate: 9.3 ± 1.6%, p = \\n0.9323) [ 19]. Conversely, a study in post-menopausal women found that consuming a high \\nprotein diet during weight loss eliminated the beneficial effects of 10% weight loss on \\ninsulin action and sensitivity [ 20]. These conflicting results suggest that additional studies \\non the amount and sources of dietary protein during weight loss are needed to determine its \\ninfluence on weight loss induced improvements in T2D.\\nRed meats –and beef in particular –are important contributors to dietary protein intakes \\nin the United States [ 21]. However, some observational studies have associated red \\nmeat consumption with higher risk of T2D, leading to recommendations to limit its \\nconsumption [ 22, 23]. Recommendations to limit red meat consumption are based mostly \\non observational data, while findings from randomized clinical trials usually find a neutral \\neffect of red meat consumption on health outcomes [ 24–28]. A recent meta-analysis found \\nno differences in most glycemic and insulinemic risk factors associated with T2D when \\ncomparing reduced or no red meat diets to diets that contained red meat [ 29]. However, \\nthe impact on red meat consumption during weight loss among people with T2D remains\\n\\ncomparing reduced or no red meat diets to diets that contained red meat [ 29]. However, \\nthe impact on red meat consumption during weight loss among people with T2D remains \\nambiguous. Thus, it would be important to know whether beef can be part of a HP dietary \\nplan to reverse T2D by contributing to weight and fat loss and improving weight loss \\nmaintenance.Clina et al. Page 2\\nObesity (Silver Spring) . Author manuscript; available in PMC 2024 August 01.\\nAuthor Manuscript Author Manuscript Author Manuscript Author ManuscriptThe purpose of this randomized clinical trial was to compare a high protein diet (HP) versus \\na normal protein diet (NP) for weight loss, body composition changes, and indicators of type \\n2 diabetes status during a 52-week behavioral weight loss intervention. Both intervention \\ndiets were energy-restricted, and the HP diet included recommendations to include lean \\nbeef in the diet whereas the NP was instructed to refrain from eating any red meats for the \\nduration of the stud. The hypotheses were the HP diet would lead to greater weight loss, \\npreferential loss of fat mass compared to fat free mass, and greater improvements glucose \\ncontrol and cardiometabolic health.\\nMethods\\nParticipants\\nOne hundred and six individuals (80 female) began the intervention and were recruited \\nfrom the Denver, CO (n=39) and Birmingham, AL (n=67) metropolitan areas using letters, \\ninternet advertisements, and news advertisements to participate in the trial. A diagram \\ndepicting participant flow is presented in Figure 1. The study was conducted in three \\ncohorts, with approximately 35 participants in each cohort. Cohort 1 was from the Denver, \\nCO area and began the intervention in January 2020. Cohorts 2 and 3 were from the\\n\\n575–583. [PubMed: 21070685] \\n22. Barnard N, Levin S, and Trapp C, Correction: Barnard N, et al. Meat Consumption as a Risk Factor \\nfor Type 2 Diabetes. Nutrients 2014, 6, 897–910. Nutrients, 2014. 6(10): p. 4317–4319. [PubMed: \\n24566443] \\n23. Pan A, et al. , Changes in red meat consumption and subsequent risk of type 2 diabetes mellitus: \\nthree cohorts of US men and women. JAMA internal medicine, 2013. 173(14): p. 1328–1335. \\n[PubMed: 23779232] \\n24. Sayer RD, et al. , Dietary Approaches to Stop Hypertension diet retains effectiveness to reduce \\nblood pressure when lean pork is substituted for chicken and fish as the predominant source \\nof protein. The American journal of clinical nutrition, 2015. 102(2): p. 302–308. [PubMed: \\n26063693] \\n25. Sayer R, et al. , Equivalent reductions in body weight during the Beef WISE Study: beef’s role in \\nweight improvement, satisfaction and energy. Obesity science & practice, 2017. 3(3): p. 298–310. \\n[PubMed: 29071106] \\n26. Roussell MA, et al. , Beef in an Optimal Lean Diet study: effects on lipids, lipoproteins, and \\napolipoproteins. The American journal of clinical nutrition, 2012. 95(1): p. 9–16. [PubMed: \\n22170364]'"
            ]
          },
          "execution_count": 18,
          "metadata": {},
          "output_type": "execute_result"
        }
      ],
      "source": [
        "retriever_tool.invoke({\"query\": \"types of protein diets\"})"
      ]
    },
    {
      "cell_type": "markdown",
      "id": "d661f10e",
      "metadata": {},
      "source": [
        "### 🧠 Initialize the chat model (Gemini)\n",
        "\n",
        "**What this does**\n",
        "- Creates a Gemini chat model via `init_chat_model(\"google_genai:gemini-2.5-flash\")`\n",
        "- Sets `temperature=0` for factual, deterministic responses\n",
        "- Uses your API key (`key`) to authenticate\n",
        "\n",
        "**Why**\n",
        "- This LLM will orchestrate the flow (decide when to call tools and synthesize answers)."
      ]
    },
    {
      "cell_type": "code",
      "execution_count": 19,
      "id": "9058c5cb",
      "metadata": {},
      "outputs": [
        {
          "name": "stderr",
          "output_type": "stream",
          "text": [
            "E0000 00:00:1761150482.888124   41421 alts_credentials.cc:93] ALTS creds ignored. Not running on GCP and untrusted ALTS is not enabled.\n"
          ]
        }
      ],
      "source": [
        "response_model = init_chat_model(\"google_genai:gemini-2.5-flash\", temperature=0, api_key=key)"
      ]
    },
    {
      "cell_type": "markdown",
      "id": "5458d3ad",
      "metadata": {},
      "source": [
        "### 🧩 Agent step: let the model route (tool or direct answer)\n",
        "\n",
        "**What this does**\n",
        "- Defines `generate_query_or_respond(state: MessagesState)`.\n",
        "- Binds the **retriever tool** to the Gemini model: `response_model.bind_tools([retriever_tool])`.\n",
        "- Invokes the model on the current `state[\"messages\"]`.\n",
        "- Returns the new AI message to append to the conversation state.\n",
        "\n",
        "**Why**\n",
        "- The model now decides:  \n",
        "  - **Call the tool** (retrieve context) **or**  \n",
        "  - **Answer directly** (no retrieval)  \n",
        "  This is the “question router” behavior."
      ]
    },
    {
      "cell_type": "code",
      "execution_count": 20,
      "id": "ee114b03",
      "metadata": {},
      "outputs": [],
      "source": [
        "def generate_query_or_respond(state: MessagesState):\n",
        "    \"\"\"Call the model to generate a response based on the current state. Given\n",
        "    the question, it will decide to retrieve using the retriever tool, or simply respond to the user.\n",
        "    \"\"\"\n",
        "    response = (\n",
        "        response_model\n",
        "        .bind_tools([retriever_tool]).invoke(state[\"messages\"])  \n",
        "    )\n",
        "    return {\"messages\": [response]}"
      ]
    },
    {
      "cell_type": "markdown",
      "id": "731c190a",
      "metadata": {},
      "source": [
        "### 👋 Quick smoke test: model response\n",
        "\n",
        "**What this does**\n",
        "- Builds a minimal input state with one user message: `\"hello!\"`\n",
        "- Runs `generate_query_or_respond(...)`\n",
        "- Prints the **last** AI message with `pretty_print()`"
      ]
    },
    {
      "cell_type": "code",
      "execution_count": 21,
      "id": "09e9b0ac",
      "metadata": {},
      "outputs": [
        {
          "name": "stdout",
          "output_type": "stream",
          "text": [
            "==================================\u001b[1m Ai Message \u001b[0m==================================\n",
            "\n",
            "[{'type': 'text', 'text': 'Hello! How can I help you today?', 'extras': {'signature': 'CpkBAdHtim848eH73x348itUNvTS+xUlCi3OylCHcp0MWwKx3CozVeCfbdU9F71s5l0FUSBm23gGDBvASOU0QDRQrpphoglJ/mYYOpZXRxh9F8rijYnXQy2HFehcw/2sEM3uAgQCTOh3Soc3UqvztWv0P69myZK0WlMVgMCnIMXe0tlpKfEPP/cXdTgAarMqhherJHUr8u9qYcEE'}}]\n"
          ]
        }
      ],
      "source": [
        "input = {\"messages\": [{\"role\": \"user\", \"content\": \"hello!\"}]}\n",
        "generate_query_or_respond(input)[\"messages\"][-1].pretty_print()"
      ]
    },
    {
      "cell_type": "markdown",
      "id": "4e820db3",
      "metadata": {},
      "source": [
        "### 🎭 Simulate a routed question (manual/fake input)\n",
        "\n",
        "**What this does**\n",
        "- Manually **constructs a state** with a user question about protein diets and T2D.\n",
        "- Calls `generate_query_or_respond(...)` to let the model decide whether to **use the retriever tool** or answer directly.\n",
        "- Prints the AI message.\n",
        "\n",
        "\n",
        "- The reply may include or imply a **tool call** (retrieval) before the final answer.\n",
        "- If it answers directly, try a more retrieval-worthy query (e.g., “List lean protein sources for T2D and explain why.”)."
      ]
    },
    {
      "cell_type": "code",
      "execution_count": 21,
      "id": "3b22cef1",
      "metadata": {},
      "outputs": [
        {
          "name": "stdout",
          "output_type": "stream",
          "text": [
            "==================================\u001b[1m Ai Message \u001b[0m==================================\n",
            "Tool Calls:\n",
            "  retrieve_medical_information (d47c5ca1-73ec-4c28-bbc8-7501204de369)\n",
            " Call ID: d47c5ca1-73ec-4c28-bbc8-7501204de369\n",
            "  Args:\n",
            "    query: Protein diet for type 2 diabetes\n"
          ]
        }
      ],
      "source": [
        "input = {\n",
        "    \"messages\": [\n",
        "        {\n",
        "            \"role\": \"user\",\n",
        "            \"content\": \"What Protein diet is best for type 2 diabetes?\",\n",
        "        }\n",
        "    ]\n",
        "}\n",
        "generate_query_or_respond(input)[\"messages\"][-1].pretty_print()"
      ]
    },
    {
      "cell_type": "markdown",
      "id": "57fdab33",
      "metadata": {},
      "source": [
        "### ✅ Define a simple relevance grader (schema)\n",
        "\n",
        "**What this does**\n",
        "- Creates a Pydantic model `GradeDocuments` with one field:  \n",
        "  `binary_score ∈ {\"yes\",\"no\"}` — “yes” if a chunk is relevant to the user’s question, otherwise “no”.\n",
        "\n",
        "**Why**\n",
        "- We’ll ask the LLM to grade each retrieved chunk using this schema, then **filter out** low-relevance hits before answering."
      ]
    },
    {
      "cell_type": "code",
      "execution_count": 22,
      "id": "2fdb1103",
      "metadata": {},
      "outputs": [],
      "source": [
        "class GradeDocuments(BaseModel):\n",
        "    binary_score: Literal[\"yes\", \"no\"] = Field(\n",
        "        description=\"Relevance score: 'yes' if relevant, 'no' otherwise\"\n",
        "    )"
      ]
    },
    {
      "cell_type": "markdown",
      "id": "4194415e",
      "metadata": {},
      "source": [
        "### 🧪 Grade a retrieved chunk for relevance (route next step)\n",
        "\n",
        "**What this does**\n",
        "- Uses a **Gemini** grader (temperature=0) to judge if the latest retrieved **document chunk** is relevant to the **user question**.\n",
        "- Parses the result with a **structured schema** (`GradeDocuments`) → `\"yes\"` or `\"no\"`.\n",
        "- **Routes**:\n",
        "  - `\"yes\"` → `generate_answer`\n",
        "  - `\"no\"` → `rewrite_question` (we’ll try to reformulate the query)\n",
        "\n",
        "**Inputs assumed from state**\n",
        "- `question = state[\"messages\"][0].content` (first user message)\n",
        "- `context = state[\"messages\"][-1].content` (most recent retrieved chunk)\n",
        "\n",
        "grades one combined blob!"
      ]
    },
    {
      "cell_type": "code",
      "execution_count": 23,
      "id": "d8ceecf1",
      "metadata": {},
      "outputs": [],
      "source": [
        "def grade_documents(state: MessagesState):\n",
        "    \"\"\"Determine whether the retrieved documents are relevant to the question.\"\"\"\n",
        "    question = state[\"messages\"][0].content\n",
        "    context = state[\"messages\"][-1].content\n",
        "\n",
        "    grader_model = init_chat_model(\"google_genai:gemini-2.5-flash\", temperature=0, api_key=key)\n",
        "    GRADE_PROMPT = (\n",
        "    \"You are a grader assessing relevance of a retrieved document to a user question. \\n \"\n",
        "    \"Here is the retrieved document: \\n\\n {context} \\n\\n\"\n",
        "    \"Here is the user question: {question} \\n\"\n",
        "    \"If the document contains keyword(s) or semantic meaning related to the user question, grade it as relevant. \\n\"\n",
        "    \"Give a binary score 'yes' or 'no' score to indicate whether the document is relevant to the question.\"\n",
        ")\n",
        "\n",
        "\n",
        "    prompt = GRADE_PROMPT.format(question=question, context=context)\n",
        "    response = (\n",
        "        grader_model\n",
        "        .with_structured_output(GradeDocuments).invoke(  \n",
        "            [{\"role\": \"user\", \"content\": prompt}]\n",
        "        )\n",
        "    )\n",
        "    score = response.binary_score\n",
        "\n",
        "    if score == \"yes\":\n",
        "        return \"generate_answer\"\n",
        "    else:\n",
        "        return \"rewrite_question\""
      ]
    },
    {
      "cell_type": "markdown",
      "id": "aaaf58ab",
      "metadata": {},
      "source": [
        "### 🧪 Test the grader with a fake irrelevant result\n",
        "\n",
        "**What this does**\n",
        "- Manually builds a conversation state where:\n",
        "  - User asks a protein/T2D question.\n",
        "  - Assistant **requests** the retriever tool (simulated via `tool_calls`).\n",
        "  - The tool **returns** an obviously irrelevant chunk: `\"meow\"`.\n",
        "\n",
        "**Why**\n",
        "- To verify the grader **rejects** irrelevant context and routes to `rewrite_question`."
      ]
    },
    {
      "cell_type": "code",
      "execution_count": 24,
      "id": "33ea92e9",
      "metadata": {},
      "outputs": [
        {
          "name": "stderr",
          "output_type": "stream",
          "text": [
            "E0000 00:00:1761153090.262741   41421 alts_credentials.cc:93] ALTS creds ignored. Not running on GCP and untrusted ALTS is not enabled.\n"
          ]
        },
        {
          "data": {
            "text/plain": [
              "'rewrite_question'"
            ]
          },
          "execution_count": 24,
          "metadata": {},
          "output_type": "execute_result"
        }
      ],
      "source": [
        "input = {\n",
        "    \"messages\": convert_to_messages(\n",
        "        [\n",
        "            {\n",
        "                \"role\": \"user\",\n",
        "                \"content\": \"What Protein diet is best for type 2 diabetes?\",\n",
        "            },\n",
        "            {\n",
        "                \"role\": \"assistant\",\n",
        "                \"content\": \"\",\n",
        "                \"tool_calls\": [\n",
        "                    {\n",
        "                        \"id\": \"1\",\n",
        "                        \"name\": \"retrieve_medical_information\",\n",
        "                        \"args\": {\"query\": \"Search and return information about Protein Diets for Daibetes 2 Patients.\"}\n",
        "                    }\n",
        "                ],\n",
        "            },\n",
        "            {\"role\": \"tool\", \"content\": \"meow\", \"tool_call_id\": \"1\"},\n",
        "        ]\n",
        "    )\n",
        "}\n",
        "grade_documents(input)"
      ]
    },
    {
      "cell_type": "markdown",
      "id": "65b35960",
      "metadata": {},
      "source": [
        "### 🧪 Test the grader with a fake **relevant** result and play around\n",
        "\n",
        "**What this does**\n",
        "- Simulates a conversation where the tool returns a relevant snippet:\n",
        "  > “Diabetes 2 Patients can do high, medium or low protein diets.”\n",
        "- Calls `grade_documents(...)` to decide the next route.\n",
        "\n",
        "**Expect**\n",
        "- The grader should return **`\"generate_answer\"`** (relevance = “yes”).\n",
        "\n",
        "**Try**\n",
        "- Tweak the tool text to be borderline (e.g., mention *protein* but not *diabetes*) and see if it still passes.\n",
        "- Replace with a clearly off-topic line to confirm it flips back to **`\"rewrite_question\"`**."
      ]
    },
    {
      "cell_type": "code",
      "execution_count": 25,
      "id": "391ce5db",
      "metadata": {},
      "outputs": [
        {
          "name": "stderr",
          "output_type": "stream",
          "text": [
            "E0000 00:00:1761153233.857059   41421 alts_credentials.cc:93] ALTS creds ignored. Not running on GCP and untrusted ALTS is not enabled.\n"
          ]
        },
        {
          "data": {
            "text/plain": [
              "'generate_answer'"
            ]
          },
          "execution_count": 25,
          "metadata": {},
          "output_type": "execute_result"
        }
      ],
      "source": [
        "input = {\n",
        "    \"messages\": convert_to_messages(\n",
        "        [\n",
        "            {\n",
        "                \"role\": \"user\",\n",
        "                \"content\": \"What Protein diet is best for type 2 diabetes?\",\n",
        "            },\n",
        "            {\n",
        "                \"role\": \"assistant\",\n",
        "                \"content\": \"\",\n",
        "                \"tool_calls\": [\n",
        "                    {\n",
        "                        \"id\": \"1\",\n",
        "                        \"name\": \"retrieve_medical_information\",\n",
        "                        \"args\": {\"query\": \"Search and return information about Protein Diets for Diabetes 2 Patients.\"},\n",
        "                    }\n",
        "                ],\n",
        "            },\n",
        "            {\n",
        "                \"role\": \"tool\",\n",
        "                \"content\": \"Diabetes 2 Patients can do high, medium or low protein diets.\",\n",
        "                \"tool_call_id\": \"1\",\n",
        "            },\n",
        "        ]\n",
        "    )\n",
        "}\n",
        "grade_documents(input)"
      ]
    },
    {
      "cell_type": "markdown",
      "id": "0bf837e5",
      "metadata": {},
      "source": [
        "### ✍️ Rewrite the question (when retrieval looks off)\n",
        "\n",
        "**What this does**\n",
        "- Takes the **original user question** and asks the model to **rephrase/improve** it.\n",
        "- Returns a new **user** message with the reformulated question so the pipeline can try retrieval again.\n",
        "\n",
        "**Why**\n",
        "- If grading says the retrieved chunk is **not relevant**, a clearer query often fixes it\n",
        "  (e.g., add keywords like “type 2 diabetes”, “protein sources”, “kidney disease”).\n",
        "\n",
        "**Try**\n",
        "- Feed a vague question (e.g., “What about protein?”)"
      ]
    },
    {
      "cell_type": "code",
      "execution_count": 30,
      "id": "3649ee66",
      "metadata": {},
      "outputs": [],
      "source": [
        "def rewrite_question(state: MessagesState):\n",
        "    \"\"\"Rewrite the original user question.\"\"\"\n",
        "    REWRITE_PROMPT = (\n",
        "    \"Look at the input and try to reason about the underlying semantic intent / meaning.\\n\"\n",
        "    \"Here is the initial question:\"\n",
        "    \"\\n ------- \\n\"\n",
        "    \"{question}\"\n",
        "    \"\\n ------- \\n\"\n",
        "    \"Formulate an improved question\"\n",
        ")\n",
        "    messages = state[\"messages\"]\n",
        "    question = messages[0].content\n",
        "    prompt = REWRITE_PROMPT.format(question=question)\n",
        "    response = response_model.invoke([{\"role\": \"user\", \"content\": prompt}])\n",
        "    return {\"messages\": [{\"role\": \"user\", \"content\": response.content}]}"
      ]
    },
    {
      "cell_type": "markdown",
      "id": "6597c2d4",
      "metadata": {},
      "source": [
        "### 🧪 Test the rewriter\n",
        "\n",
        "** If the rewriter returns more than one rewritten question:** Go back to the rewriter function and refine the prompt. We are still doing prompt engineering after all :)"
      ]
    },
    {
      "cell_type": "code",
      "execution_count": 32,
      "id": "8ee0b820",
      "metadata": {},
      "outputs": [
        {
          "name": "stdout",
          "output_type": "stream",
          "text": [
            "The original question is a good starting point, but \"best\" is subjective and \"protein diet\" is a bit vague. To get a more comprehensive and actionable answer, we can improve it by:\n",
            "\n",
            "1.  **Specifying the goal:** What does the user hope to achieve with protein? (e.g., blood sugar control, satiety, muscle maintenance).\n",
            "2.  **Considering different aspects of protein:** Not just \"a protein diet,\" but types, amounts, and how it fits into the overall diet.\n",
            "3.  **Acknowledging individual variation:** What's \"best\" can vary.\n",
            "\n",
            "Here are a few improved options, depending on the specific nuance desired:\n",
            "\n",
            "**Improved Question Options:**\n",
            "\n",
            "**Option 1 (Focus on types, amounts, and overall diet):**\n",
            "\"What are the most beneficial types and amounts of protein, and how should they be incorporated into a balanced diet, to effectively manage blood sugar, promote satiety, and support overall health for individuals with type 2 diabetes, taking into account individual needs and other dietary components?\"\n",
            "\n",
            "**Option 2 (More concise, emphasizing management):**\n",
            "\"How can protein intake be optimized for individuals with type 2 diabetes to improve blood sugar control, aid in weight management, and support overall health, considering various protein sources and dietary patterns?\"\n",
            "\n",
            "**Option 3 (Highlighting practical application):**\n",
            "\"What are the recommended protein sources and dietary strategies for individuals with type 2 diabetes to help stabilize blood sugar levels, increase satiety, and maintain muscle mass, while fitting into a healthy eating plan?\"\n"
          ]
        }
      ],
      "source": [
        "input = {\n",
        "    \"messages\": convert_to_messages(\n",
        "        [\n",
        "            {\n",
        "                \"role\": \"user\",\n",
        "                \"content\": \"What Protein diet is best for type 2 diabetes?\",\n",
        "            },\n",
        "            {\n",
        "                \"role\": \"assistant\",\n",
        "                \"content\": \"\",\n",
        "                \"tool_calls\": [\n",
        "                    {\n",
        "                        \"id\": \"1\",\n",
        "                        \"name\": \"retrieve_medical_information\",\n",
        "                        \"args\": {\"query\": \"Search and return information about Protein Diets for Diabetes 2 Patients.\"}\n",
        "                    }\n",
        "                ],\n",
        "            },\n",
        "            {\"role\": \"tool\", \"content\": \"meow\", \"tool_call_id\": \"1\"},\n",
        "        ]\n",
        "    )\n",
        "}\n",
        "\n",
        "response = rewrite_question(input)\n",
        "print(response[\"messages\"][-1][\"content\"])"
      ]
    },
    {
      "cell_type": "markdown",
      "id": "3dfa5c13",
      "metadata": {},
      "source": [
        "### 🧾 Generate the final answer (using retrieved context)\n",
        "\n",
        "**What this does**\n",
        "- Builds a prompt that includes:\n",
        "  - the **original question**\n",
        "  - the **retrieved context** (last message)\n",
        "- Calls the chat model to produce a **concise** answer (≤ 3 sentences).\n",
        "- If the model can’t answer from the context, it should say **“I don’t know.”*"
      ]
    },
    {
      "cell_type": "code",
      "execution_count": 34,
      "id": "a2fc564f",
      "metadata": {},
      "outputs": [],
      "source": [
        "\n",
        "def generate_answer(state: MessagesState):\n",
        "    \"\"\"Generate an answer.\"\"\"\n",
        "    \n",
        "    GENERATE_PROMPT = (\n",
        "    \"You are an assistant for question-answering tasks. \"\n",
        "    \"Use the following pieces of retrieved context to answer the question. \"\n",
        "    \"If you don't know the answer, just say that you don't know. \"\n",
        "    \"Use three sentences maximum and keep the answer concise.\\n\"\n",
        "    \"Question: {question} \\n\"\n",
        "    \"Context: {context}\"\n",
        "    )\n",
        "\n",
        "    question = state[\"messages\"][0].content\n",
        "    context = state[\"messages\"][-1].content\n",
        "    prompt = GENERATE_PROMPT.format(question=question, context=context)\n",
        "    response = response_model.invoke([{\"role\": \"user\", \"content\": prompt}])\n",
        "    return {\"messages\": [response]}\n",
        "\n"
      ]
    },
    {
      "cell_type": "markdown",
      "id": "af656720",
      "metadata": {},
      "source": [
        "### 🧪 Fake a full pass → generate an answer\n",
        "\n",
        "**What this does**\n",
        "- Simulates a tool return (context) and asks the model to answer:\n",
        "  ```python\n",
        "  response = generate_answer(input)\n",
        "  response[\"messages\"][-1].pretty_print()\n",
        "\n",
        "**Try (on-topic)**\n",
        "\n",
        "-Change the user question or the tool context:\n",
        "\n",
        "`“List lean protein sources for T2D and explain why.”`\n",
        "\n",
        "`“How does kidney disease affect protein targets in T2D?”`\n",
        "\n",
        "**Try (edge/off-topic)**\n",
        "\n",
        "Ask something unrelated (capital of a country) and see if the model says “I don’t know” with the given context."
      ]
    },
    {
      "cell_type": "code",
      "execution_count": 36,
      "id": "c7a9e34a",
      "metadata": {},
      "outputs": [
        {
          "name": "stdout",
          "output_type": "stream",
          "text": [
            "==================================\u001b[1m Ai Message \u001b[0m==================================\n",
            "\n",
            "There isn't one protein diet that is evidently much better than the others for type 2 diabetes. High, medium, and low protein diets have all been considered. Therefore, no specific protein diet can be singled out as the best.\n"
          ]
        }
      ],
      "source": [
        "input = {\n",
        "    \"messages\": convert_to_messages(\n",
        "        [\n",
        "            {\n",
        "                \"role\": \"user\",\n",
        "                \"content\": \"What Protein diet is best for type 2 diabetes?\",\n",
        "            },\n",
        "            {\n",
        "                \"role\": \"assistant\",\n",
        "                \"content\": \"\",\n",
        "                \"tool_calls\": [\n",
        "                    {\n",
        "                        \"id\": \"1\",\n",
        "                        \"name\": \"retrieve_medical_information\",\n",
        "                        \"args\": {\"query\": \"Search and return information about Protein Diets for Diabetes 2 Patients.\"},\n",
        "                    }\n",
        "                ],\n",
        "            },\n",
        "            {\n",
        "                \"role\": \"tool\",\n",
        "                \"content\": \"There are high, medium and low protein diets and none of them is evidently much better than the other.\",\n",
        "                \"tool_call_id\": \"1\",\n",
        "            },\n",
        "        ]\n",
        "    )\n",
        "}\n",
        "\n",
        "response = generate_answer(input)\n",
        "response[\"messages\"][-1].pretty_print()"
      ]
    },
    {
      "cell_type": "markdown",
      "id": "1107b84e",
      "metadata": {},
      "source": [
        "### 🕸️ Assemble the LangGraph workflow\n",
        "\n",
        "**What this builds**\n",
        "- A small graph that routes between **LLM** and **tool**, then **grades** the result and either **answers** or **rewrites** the question.\n",
        "\n",
        "**Nodes**\n",
        "- `generate_query_or_respond` → Model decides: call tool or answer directly\n",
        "- `retrieve` → Executes the retriever tool (`ToolNode([retriever_tool])`)\n",
        "- `grade_documents` → Checks if retrieved context is relevant\n",
        "- `rewrite_question` → Improves the query if context is off-topic\n",
        "- `generate_answer` → Writes the final, concise answer\n",
        "\n",
        "**Edges & logic**\n",
        "1. `START → generate_query_or_respond`\n",
        "2. `generate_query_or_respond ──tools_condition──▶ retrieve`  \n",
        "   `generate_query_or_respond ──(no tool)──▶ END`\n",
        "3. `retrieve ──grade_documents──▶ generate_answer` *(if relevant)*  \n",
        "   `retrieve ──grade_documents──▶ rewrite_question` *(if not relevant)*\n",
        "4. `rewrite_question ──▶ generate_query_or_respond` (try again)\n",
        "5. `generate_answer ──▶ END`"
      ]
    },
    {
      "cell_type": "code",
      "execution_count": 37,
      "id": "8885d7df",
      "metadata": {},
      "outputs": [],
      "source": [
        "workflow = StateGraph(MessagesState)\n",
        "\n",
        "# Define the nodes we will cycle between\n",
        "workflow.add_node(generate_query_or_respond)\n",
        "workflow.add_node(\"retrieve\", ToolNode([retriever_tool]))\n",
        "workflow.add_node(rewrite_question)\n",
        "workflow.add_node(generate_answer)\n",
        "\n",
        "workflow.add_edge(START, \"generate_query_or_respond\")\n",
        "\n",
        "# Decide whether to retrieve\n",
        "workflow.add_conditional_edges(\n",
        "    \"generate_query_or_respond\",\n",
        "    # Assess LLM decision (call `retriever_tool` tool or respond to the user)\n",
        "    tools_condition,\n",
        "    {\n",
        "        # Translate the condition outputs to nodes in our graph\n",
        "        \"tools\": \"retrieve\",\n",
        "        END: END,\n",
        "    },\n",
        ")\n",
        "\n",
        "# Edges taken after the `action` node is called.\n",
        "workflow.add_conditional_edges(\n",
        "    \"retrieve\",\n",
        "    # Assess agent decision\n",
        "    grade_documents,\n",
        ")\n",
        "workflow.add_edge(\"generate_answer\", END)\n",
        "workflow.add_edge(\"rewrite_question\", \"generate_query_or_respond\")\n",
        "\n",
        "# Compile\n",
        "\n",
        "graph = workflow.compile()"
      ]
    },
    {
      "cell_type": "markdown",
      "id": "0f96eedd",
      "metadata": {},
      "source": [
        "### ▶️ First run: stream the graph step-by-step\n",
        "\n",
        "**What this does**\n",
        "- Executes the graph **once** and streams each node’s update:\n",
        "  - `generate_query_or_respond` → decides whether to call the tool\n",
        "  - `retrieve` → returns snippets from the vector store (if called)\n",
        "  - `grade_documents` → checks relevance and routes next\n",
        "  - `rewrite_question` → improves the query (if needed)\n",
        "  - `generate_answer` → final concise answer\n",
        "\n",
        "**Why**\n",
        "- Lets you **see the full decision flow** (router → retrieve → grade → answer/rewrite)."
      ]
    },
    {
      "cell_type": "code",
      "execution_count": 39,
      "id": "352ff3cf",
      "metadata": {},
      "outputs": [
        {
          "name": "stdout",
          "output_type": "stream",
          "text": [
            "Update from node generate_query_or_respond\n",
            "==================================\u001b[1m Ai Message \u001b[0m==================================\n",
            "Tool Calls:\n",
            "  retrieve_medical_information (517fc70e-c209-4bd0-a003-fe000fbc4c4b)\n",
            " Call ID: 517fc70e-c209-4bd0-a003-fe000fbc4c4b\n",
            "  Args:\n",
            "    query: Protein diet for type 2 diabetes\n",
            "\n",
            "\n",
            "\n"
          ]
        },
        {
          "name": "stderr",
          "output_type": "stream",
          "text": [
            "E0000 00:00:1761154739.421713   41421 alts_credentials.cc:93] ALTS creds ignored. Not running on GCP and untrusted ALTS is not enabled.\n"
          ]
        },
        {
          "name": "stdout",
          "output_type": "stream",
          "text": [
            "Update from node retrieve\n",
            "=================================\u001b[1m Tool Message \u001b[0m=================================\n",
            "Name: retrieve_medical_information\n",
            "\n",
            "High and normal protein diets improve body composition and \n",
            "glucose control in adults with type 2 diabetes: A randomized \n",
            "trial\n",
            "Julianne G. Clina1, R. Drew Sayer1,3, Zhaoxing Pan2, Caroline W. Cohen3, Michael T. \n",
            "McDermott4, Victoria A. Catenacci4, Holly R. Wyatt1,5, James O. Hill1\n",
            "1Department of Nutrition Sciences, University of Alabama at Birmingham\n",
            "2Department of Pediatrics, University of Colorado Anschutz Medical Campus\n",
            "3Department of Family and Community Medicine, University of Alabama at Birmingham\n",
            "4Division of Endocrinology, Metabolism and Diabetes, University of Colorado School of Medicine, \n",
            "Aurora, Colorado\n",
            "5Anschutz Health and Wellness Center, University of Colorado Anschutz Medical Campus\n",
            "Abstract\n",
            "Objective:  Weight loss of ≥10% improves glucose control and may remit type 2 diabetes \n",
            "(T2D). High protein (HP) diets are commonly used for weight loss, but whether protein \n",
            "sources, especially red meat, impact weight loss-induced T2D management is unknown. This \n",
            "trial compared a HP diet including red meat and normal protein (NP) without red meat for weight \n",
            "loss, body composition changes, and glucose control in individuals with T2D.\n",
            "Methods:  106 adults (80 female) with T2D consumed a HP (40% protein) diet with ≥4 weekly \n",
            "servings of lean beef or a NP (21% protein) diet excluding red meat during a 52-week weight \n",
            "loss intervention. Body weight, body composition, and cardiometabolic parameters were measured \n",
            "before and after intervention.\n",
            "Results:  Weight loss was not different between HP (−10.2±1.6 kg) and NP (−12.7±4.8 kg,\n",
            "\n",
            "Higher protein diets are an attractive target for lifestyle-based interventions for the treatment \n",
            "of T2D. High protein diets, especially when combined with exercise, produce greater weight \n",
            "loss and prevent losses of fat free mass (FFM) compared to lower protein diets [ 16–18]. In \n",
            "premenopausal women with obesity without diabetes, a high protein diet improved insulin \n",
            "sensitivity more than a high carbohydrate diet even though achieved weight loss was not \n",
            "different between diets (high protein: 9.8 ± 1.4%, high carbohydrate: 9.3 ± 1.6%, p = \n",
            "0.9323) [ 19]. Conversely, a study in post-menopausal women found that consuming a high \n",
            "protein diet during weight loss eliminated the beneficial effects of 10% weight loss on \n",
            "insulin action and sensitivity [ 20]. These conflicting results suggest that additional studies \n",
            "on the amount and sources of dietary protein during weight loss are needed to determine its \n",
            "influence on weight loss induced improvements in T2D.\n",
            "Red meats –and beef in particular –are important contributors to dietary protein intakes \n",
            "in the United States [ 21]. However, some observational studies have associated red \n",
            "meat consumption with higher risk of T2D, leading to recommendations to limit its \n",
            "consumption [ 22, 23]. Recommendations to limit red meat consumption are based mostly \n",
            "on observational data, while findings from randomized clinical trials usually find a neutral \n",
            "effect of red meat consumption on health outcomes [ 24–28]. A recent meta-analysis found \n",
            "no differences in most glycemic and insulinemic risk factors associated with T2D when \n",
            "comparing reduced or no red meat diets to diets that contained red meat [ 29]. However, \n",
            "the impact on red meat consumption during weight loss among people with T2D remains\n",
            "\n",
            "Published in final edited form as:\n",
            "Obesity (Silver Spring) . 2023 August ; 31(8): 2021–2030. doi:10.1002/oby.23815.\n",
            "Author Manuscript Author Manuscript Author Manuscript Author ManuscriptKeywords\n",
            "obesity; weight loss; body composition; type 2 diabetes\n",
            "Introduction\n",
            "Type 2 diabetes (T2D) affects over 30 million adults in America and presents numerous \n",
            "public health challenges [ 1]. T2D is a major risk factor for cardiovascular disease [ 2], kidney \n",
            "disease [ 3, 4], amputation [ 5–7], certain cancers [ 8], and blindness [ 9, 10], which results in \n",
            "a major cost burden to the healthcare system [ 1]. The primary risk factor for T2D is obesity, \n",
            "with the majority of those with T2D having overweight or obesity [ 11, 12]. Obesity also \n",
            "increases the risk of several other co-morbid conditions including heart disease and stroke \n",
            "[11, 13, 14]. It has been demonstrated that both T2D and obesity can be treated with lifestyle \n",
            "modification. For example, in DiRECT (Diabetes Remission Clinical Trial) weight loss of \n",
            "10 to 15 kg resulted in the remission of T2D in a majority of individuals who had been \n",
            "who had been diagnosed with T2D within the past 6 years. Nearly 9 in 10 of individuals \n",
            "achieving more than 15 kg of weight loss remitted their T2D [ 15]. While it is clear that \n",
            "weight loss is associated with improvements in T2D, the role of diet composition in the \n",
            "reversal of T2D presents a gap in knowledge.\n",
            "Higher protein diets are an attractive target for lifestyle-based interventions for the treatment \n",
            "of T2D. High protein diets, especially when combined with exercise, produce greater weight\n",
            "\n",
            "P-value represents differences in change between diet groups (HP vs. NP)\n",
            "Mixed effects model used to test the effect of time, group, and their interaction term on changes in indicators of type 2 diabetes. Both diet groups \n",
            "reduced, glucose, HbA1c, insulin, and HOMA-IR from baseline to week 52. There were no differences in change in any parameters by diet group \n",
            "(HP vs NP)\n",
            "Abbreviations: dL, deciliter; HbA1c, hemoglobin A1c; HOMA-IR, Homeostatic Model Assessment for Insulin Resistance; HP, high protein; mg, \n",
            "milligrams; mL, milliliter; NP, normal protein; μIU, micro international unit.\n",
            "Obesity (Silver Spring) . Author manuscript; available in PMC 2024 August 01.Author Manuscript Author Manuscript Author Manuscript Author ManuscriptClina et al. Page 17\n",
            "Table 3.\n",
            "Changes in Type 2 Diabetes Status\n",
            "Presents changes in status of Type 2 Diabetes as indicated by HbA1c ≥6.5% or fasting glucose ≥126 mg/dL \n",
            "(clinically diagnostic of T2D) from baseline to week 52 of the trial.\n",
            "ITT Approach HP n (%) NP n (%)\n",
            "Remained in abnormal range 7 (13) 12 (23)\n",
            "Remained in normal range 12 (19) 9 (17)\n",
            "Positive change (abnormal to normal value) 13 (25) 12 (23)\n",
            "Negative change (normal to abnormal) 4 (8) 1 (2)\n",
            "Unknown (no paired value) 19 (36) 16 (30)\n",
            "Completers Analysis\n",
            "Remained in abnormal range 7 (21) 12 (33)\n",
            "Remained in normal range 10 (2) 9 (25)\n",
            "\n",
            "\n",
            "\n",
            "Update from node generate_answer\n",
            "==================================\u001b[1m Ai Message \u001b[0m==================================\n",
            "\n",
            "The provided context indicates that both high protein (40% protein, including red meat) and normal protein (21% protein, excluding red meat) diets improved body composition and glucose control in adults with type 2 diabetes. However, the study found no significant differences in weight loss or improvements in glucose, HbA1c, insulin, or HOMA-IR between the two diet groups. Therefore, based on this context, neither diet was identified as definitively \"best\" over the other.\n",
            "\n",
            "\n",
            "\n"
          ]
        }
      ],
      "source": [
        "for chunk in graph.stream(\n",
        "    {\n",
        "        \"messages\": [\n",
        "            {\n",
        "                \"role\": \"user\",\n",
        "                \"content\": \"What Protein diet is best for type 2 diabetes?\",\n",
        "            }\n",
        "        ]\n",
        "    }\n",
        "):\n",
        "    for node, update in chunk.items():\n",
        "        print(\"Update from node\", node)\n",
        "        update[\"messages\"][-1].pretty_print()\n",
        "        print(\"\\n\\n\")"
      ]
    },
    {
      "cell_type": "markdown",
      "id": "0ec47815",
      "metadata": {},
      "source": [
        "### 🧩 `run_agent(question: str) -> str` — simple, frontend-ready entrypoint\n",
        "\n",
        "**What it does**\n",
        "- Takes a user question (string)\n",
        "- Runs the **LangGraph agent** end-to-end (no streaming)\n",
        "- Returns the final assistant **answer text** only\n",
        "\n",
        "**Why**\n",
        "- Hides orchestration complexity → easy to plug into a web/API frontend.\n"
      ]
    },
    {
      "cell_type": "code",
      "execution_count": 40,
      "id": "e2bbb37f",
      "metadata": {},
      "outputs": [],
      "source": [
        "def run_agent(question: str) -> str:\n",
        "    \"\"\"\n",
        "    Minimal, frontend-ready wrapper.\n",
        "    Takes a user question, runs the LangGraph agent, and returns the final answer text.\n",
        "    \"\"\"\n",
        "    # Build the LangGraph input\n",
        "    state_in = {\"messages\": [{\"role\": \"user\", \"content\": question}]}\n",
        "\n",
        "    # Run to completion (no streaming)\n",
        "    state_out = graph.invoke(state_in)\n",
        "\n",
        "    # Extract the final assistant message content robustly\n",
        "    messages = state_out.get(\"messages\", [])\n",
        "    if not messages:\n",
        "        return \"\"\n",
        "\n",
        "    last = messages[-1]\n",
        "    # Handle both LC message objects and plain dicts\n",
        "    content = getattr(last, \"content\", None)\n",
        "    if content is None and isinstance(last, dict):\n",
        "        content = last.get(\"content\", \"\")\n",
        "\n",
        "    return content or \"\""
      ]
    },
    {
      "cell_type": "code",
      "execution_count": 41,
      "id": "1a4f4a0e",
      "metadata": {},
      "outputs": [
        {
          "name": "stderr",
          "output_type": "stream",
          "text": [
            "E0000 00:00:1761155159.827622   41421 alts_credentials.cc:93] ALTS creds ignored. Not running on GCP and untrusted ALTS is not enabled.\n"
          ]
        },
        {
          "name": "stdout",
          "output_type": "stream",
          "text": [
            "Both high and normal protein diets have been shown to improve body composition and glucose control in adults with type 2 diabetes. Higher protein diets, especially when combined with exercise, can lead to greater weight loss and prevent the loss of fat-free mass compared to lower protein diets. One study found that a high protein diet including lean red meat was comparable in weight loss to a normal protein diet excluding red meat.\n"
          ]
        }
      ],
      "source": [
        "print(run_agent(\"What protein diet is best for type 2 diabetes?\"))"
      ]
    }
  ],
  "metadata": {
    "kernelspec": {
      "display_name": "Python 3",
      "language": "python",
      "name": "python3"
    },
    "language_info": {
      "codemirror_mode": {
        "name": "ipython",
        "version": 3
      },
      "file_extension": ".py",
      "mimetype": "text/x-python",
      "name": "python",
      "nbconvert_exporter": "python",
      "pygments_lexer": "ipython3",
      "version": "3.12.1"
    }
  },
  "nbformat": 4,
  "nbformat_minor": 5
}
